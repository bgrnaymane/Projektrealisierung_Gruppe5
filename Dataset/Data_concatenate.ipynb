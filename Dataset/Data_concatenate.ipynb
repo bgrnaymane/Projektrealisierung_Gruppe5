{
 "cells": [
  {
   "cell_type": "code",
   "execution_count": 16,
   "metadata": {},
   "outputs": [],
   "source": [
    "import os\n",
    "import pandas as pd"
   ]
  },
  {
   "cell_type": "code",
   "execution_count": 12,
   "metadata": {},
   "outputs": [],
   "source": [
    "text_folder_path = 'C:\\\\Users\\\\KlinikAD\\\\Downloads\\\\Projektrealisierung\\\\News Articles'\n",
    "summary_folder_path = 'C:\\\\Users\\\\KlinikAD\\\\Downloads\\\\Projektrealisierung\\\\Summaries'"
   ]
  },
  {
   "cell_type": "code",
   "execution_count": 19,
   "metadata": {},
   "outputs": [],
   "source": [
    "dataset = []\n",
    "# Durchlaufe die Textordner und lese die Texte ein\n",
    "for category_folder in os.listdir(text_folder_path):\n",
    "    category_path = os.path.join(text_folder_path, category_folder)\n",
    "    if os.path.isdir(category_path):\n",
    "        # Durchlaufe die Textdateien in jedem Kategorieordner\n",
    "        for file_name in os.listdir(category_path):\n",
    "            file_path = os.path.join(category_path, file_name)\n",
    "            with open(file_path, 'r', encoding='latin-1') as file:\n",
    "                text = file.read()\n",
    "                category = category_folder\n",
    "                \n",
    "                # Finde den entsprechenden Zusammenfassungsordner\n",
    "                summary_category_path = os.path.join(summary_folder_path, category_folder)\n",
    "                if os.path.isdir(summary_category_path):\n",
    "                    summary_file_name = file_name\n",
    "                    summary_file_path = os.path.join(summary_category_path, summary_file_name)\n",
    "                    with open(summary_file_path, 'r', encoding='latin-1') as summary_file:\n",
    "                        summary = summary_file.read()\n",
    "                        dataset.append({'Text': text, 'Zusammenfassung': summary, 'Kategorie': category})\n"
   ]
  },
  {
   "cell_type": "code",
   "execution_count": 21,
   "metadata": {},
   "outputs": [
    {
     "data": {
      "text/html": [
       "<div>\n",
       "<style scoped>\n",
       "    .dataframe tbody tr th:only-of-type {\n",
       "        vertical-align: middle;\n",
       "    }\n",
       "\n",
       "    .dataframe tbody tr th {\n",
       "        vertical-align: top;\n",
       "    }\n",
       "\n",
       "    .dataframe thead th {\n",
       "        text-align: right;\n",
       "    }\n",
       "</style>\n",
       "<table border=\"1\" class=\"dataframe\">\n",
       "  <thead>\n",
       "    <tr style=\"text-align: right;\">\n",
       "      <th></th>\n",
       "      <th>Text</th>\n",
       "      <th>Zusammenfassung</th>\n",
       "      <th>Kategorie</th>\n",
       "    </tr>\n",
       "  </thead>\n",
       "  <tbody>\n",
       "    <tr>\n",
       "      <th>0</th>\n",
       "      <td>Ad sales boost Time Warner profit\\n\\nQuarterly...</td>\n",
       "      <td>TimeWarner said fourth quarter sales rose 2% t...</td>\n",
       "      <td>business</td>\n",
       "    </tr>\n",
       "    <tr>\n",
       "      <th>1</th>\n",
       "      <td>Dollar gains on Greenspan speech\\n\\nThe dollar...</td>\n",
       "      <td>The dollar has hit its highest level against t...</td>\n",
       "      <td>business</td>\n",
       "    </tr>\n",
       "    <tr>\n",
       "      <th>2</th>\n",
       "      <td>Yukos unit buyer faces loan claim\\n\\nThe owner...</td>\n",
       "      <td>Yukos' owner Menatep Group says it will ask Ro...</td>\n",
       "      <td>business</td>\n",
       "    </tr>\n",
       "    <tr>\n",
       "      <th>3</th>\n",
       "      <td>High fuel prices hit BA's profits\\n\\nBritish A...</td>\n",
       "      <td>Rod Eddington, BA's chief executive, said the ...</td>\n",
       "      <td>business</td>\n",
       "    </tr>\n",
       "    <tr>\n",
       "      <th>4</th>\n",
       "      <td>Pernod takeover talk lifts Domecq\\n\\nShares in...</td>\n",
       "      <td>Pernod has reduced the debt it took on to fund...</td>\n",
       "      <td>business</td>\n",
       "    </tr>\n",
       "  </tbody>\n",
       "</table>\n",
       "</div>"
      ],
      "text/plain": [
       "                                                Text  \\\n",
       "0  Ad sales boost Time Warner profit\\n\\nQuarterly...   \n",
       "1  Dollar gains on Greenspan speech\\n\\nThe dollar...   \n",
       "2  Yukos unit buyer faces loan claim\\n\\nThe owner...   \n",
       "3  High fuel prices hit BA's profits\\n\\nBritish A...   \n",
       "4  Pernod takeover talk lifts Domecq\\n\\nShares in...   \n",
       "\n",
       "                                     Zusammenfassung Kategorie  \n",
       "0  TimeWarner said fourth quarter sales rose 2% t...  business  \n",
       "1  The dollar has hit its highest level against t...  business  \n",
       "2  Yukos' owner Menatep Group says it will ask Ro...  business  \n",
       "3  Rod Eddington, BA's chief executive, said the ...  business  \n",
       "4  Pernod has reduced the debt it took on to fund...  business  "
      ]
     },
     "execution_count": 21,
     "metadata": {},
     "output_type": "execute_result"
    }
   ],
   "source": [
    "# Konvertiere den Datensatz in einen Pandas DataFrame\n",
    "df = pd.DataFrame(dataset)\n",
    "\n",
    "# Ausgabe der ersten fünf Zeilen des Datensatzes\n",
    "df.head()"
   ]
  },
  {
   "cell_type": "code",
   "execution_count": 22,
   "metadata": {},
   "outputs": [],
   "source": [
    "import os\n",
    "\n",
    "# Bestimmen des aktuellen Verzeichnisses\n",
    "current_dir = os.getcwd()\n",
    "\n",
    "# Speichern des Datensatzes als CSV-Datei im aktuellen Verzeichnis\n",
    "save_path = os.path.join(current_dir, 'datensatz.csv')\n",
    "df.to_csv(save_path, index=False)\n"
   ]
  }
 ],
 "metadata": {
  "kernelspec": {
   "display_name": "Python 3",
   "language": "python",
   "name": "python3"
  },
  "language_info": {
   "codemirror_mode": {
    "name": "ipython",
    "version": 3
   },
   "file_extension": ".py",
   "mimetype": "text/x-python",
   "name": "python",
   "nbconvert_exporter": "python",
   "pygments_lexer": "ipython3",
   "version": "3.9.12"
  },
  "orig_nbformat": 4,
  "vscode": {
   "interpreter": {
    "hash": "8b8a06655d7d87acf43d39be2996d23d560ac8e99c1c8a136cb066f0fd29812d"
   }
  }
 },
 "nbformat": 4,
 "nbformat_minor": 2
}
