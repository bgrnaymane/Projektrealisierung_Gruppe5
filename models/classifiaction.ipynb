{
 "cells": [
  {
   "cell_type": "code",
   "execution_count": 3,
   "metadata": {},
   "outputs": [],
   "source": [
    "import numpy as np # linear algebra\n",
    "import pandas as pd # data processing, CSV file I/O (e.g. pd.read_csv)\n",
    "import os"
   ]
  },
  {
   "cell_type": "code",
   "execution_count": null,
   "metadata": {},
   "outputs": [],
   "source": [
    "data = []\n",
    "articles_path = '../input/bbc-news-summary/BBC News Summary/News Articles'\n",
    "for topic in os.listdir(articles_path):\n",
    "    topic_path = os.path.join(articles_path, topic)\n",
    "    for file_path in os.listdir(topic_path):\n",
    "        try:\n",
    "            with open(f'{topic_path}/{file_path}', 'r') as f:\n",
    "                data.append((f.read(), topic_path.split('/')[-1]))\n",
    "        except UnicodeDecodeError:\n",
    "            print(f'file {file_path} in {topic_path} is not readable')"
   ]
  }
 ],
 "metadata": {
  "kernelspec": {
   "display_name": ".venv",
   "language": "python",
   "name": "python3"
  },
  "language_info": {
   "codemirror_mode": {
    "name": "ipython",
    "version": 3
   },
   "file_extension": ".py",
   "mimetype": "text/x-python",
   "name": "python",
   "nbconvert_exporter": "python",
   "pygments_lexer": "ipython3",
   "version": "3.9.5"
  },
  "orig_nbformat": 4
 },
 "nbformat": 4,
 "nbformat_minor": 2
}
