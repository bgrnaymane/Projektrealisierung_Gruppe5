{
 "cells": [
  {
   "cell_type": "code",
   "execution_count": 6,
   "metadata": {},
   "outputs": [
    {
     "name": "stderr",
     "output_type": "stream",
     "text": [
      "/Library/Frameworks/Python.framework/Versions/3.10/lib/python3.10/site-packages/scipy/__init__.py:146: UserWarning: A NumPy version >=1.16.5 and <1.23.0 is required for this version of SciPy (detected version 1.23.0\n",
      "  warnings.warn(f\"A NumPy version >={np_minversion} and <{np_maxversion}\"\n"
     ]
    }
   ],
   "source": [
    "import os\n",
    "\n",
    "from datasets import load_dataset\n",
    "import pandas as pd\n",
    "\n",
    "import requests\n",
    "import json\n",
    "\n",
    "from statistics import mean\n",
    "\n",
    "import random\n",
    "import csv\n",
    "from nltk.corpus import gutenberg"
   ]
  },
  {
   "attachments": {},
   "cell_type": "markdown",
   "metadata": {},
   "source": [
    "# Presidential Speeches - Data"
   ]
  },
  {
   "cell_type": "code",
   "execution_count": 13,
   "metadata": {},
   "outputs": [
    {
     "name": "stdout",
     "output_type": "stream",
     "text": [
      "JSON data saved to ./data/Speeches/presidential-speeches.json successfully.\n"
     ]
    }
   ],
   "source": [
    "url = \"https://millercenter.org/sites/default/files/corpus/presidential-speeches.json\"\n",
    "filename = \"./data/Speeches/presidential-speeches.json\"\n",
    "\n",
    "# Send a GET request to the URL\n",
    "response = requests.get(url)\n",
    "\n",
    "# Check if the request was successful\n",
    "if response.status_code == 200:\n",
    "    # Get the JSON data from the response\n",
    "    json_data = response.json()\n",
    "\n",
    "    # Save the JSON data to a file\n",
    "    with open(filename, \"w\") as file:\n",
    "        json.dump(json_data, file)\n",
    "\n",
    "    print(f\"JSON data saved to {filename} successfully.\")\n",
    "else:\n",
    "    print(f\"Failed to retrieve data. Status code: {response.status_code}\")\n"
   ]
  },
  {
   "cell_type": "code",
   "execution_count": 16,
   "metadata": {},
   "outputs": [],
   "source": [
    "with open('./data/Speeches/presidential-speeches.json', 'r') as f:\n",
    "  data = json.load(f)\n",
    "\n",
    "speech_texts = [element[\"transcript\"] for element in data]\n",
    "\n",
    "for i in range(len(speech_texts)):\n",
    "    speech_texts[i] = speech_texts[i].replace(\"\\r\\n\\r\\n\", \" \")\n",
    "    speech_texts[i] = speech_texts[i].replace(\"\\r\\n\", \"\")\n",
    "  \n",
    "speech_class = ['Political Speech'] * len(speech_texts)\n",
    "\n",
    "df_speeches = pd.DataFrame({'Text': speech_texts, 'Class': speech_class})"
   ]
  },
  {
   "cell_type": "code",
   "execution_count": 17,
   "metadata": {},
   "outputs": [
    {
     "name": "stdout",
     "output_type": "stream",
     "text": [
      "My countrymen, the surpassing war of all times has involved us, and found us utterly unprepared in either a mental or military sense. The Republic must awaken. The people must understand. Our safety lies in full realization the fate of the nation and the safety of the world will be decided on the western battlefront of Europe. Primarily the American Republic has entered the war in defense of its national rights. If we did not defend we could not hope to endure. Other big issues are involved but the maintained rights and defended honor of a righteous nation includes them all. Cherishing the national rights the fathers fought to establish, and loving freedom and civilization, we should have violated every tradition and sacrificed every inheritance if we had longer held aloof from the armed conflict which is to make the world safe for civilization. More, we are committed to sacrifice in battle in order to make America safe for Americans and establish their security on every lawful mission on the high seas or under the shining sun. We are testing popular government's capacity for self-defense. We are resolved to liberate the soul of American life and prove ourselves an American people in fact, spirit, and purpose, and consecrate ourselves anew and everlastingly to human freedom and humanity's justice. Realizing our new relationship with the world, we want to make it fit to live in, and with might and fright and ruthlessness and barbarity crushed by the conscience of a real civilization. Ours is a small concern about the kind of government any people may choose, but we do mean to outlaw the nation which violates the sacred compacts of international relationships. The decision is to be final. If the Russian failure should become the tragic impotency of nations--if Italy should yield to the pressure of military might--if heroic France should be martyred on her flaming altars of liberty and justice and only the soul of heroism remain--if England should starve and her sacrifices and resolute warfare should prove in vain--if all these improbable disasters should attend, even then we should fight on and on, making the world's cause our cause. A republic worth living in is worth fighting for, and sacrificing for, and dying for. In the fires of this conflict we shall wipe out the disloyalty of those who wear American garb without the faith, and establish a new concord of citizenship and a new devotion, so that we should have made a safe America the home and hope of a people who are truly American in heart and soul.\n"
     ]
    }
   ],
   "source": [
    "print(speech_texts[0])"
   ]
  },
  {
   "cell_type": "code",
   "execution_count": 18,
   "metadata": {},
   "outputs": [
    {
     "name": "stdout",
     "output_type": "stream",
     "text": [
      "3929.8644230769232\n"
     ]
    }
   ],
   "source": [
    "array = []\n",
    "for transcript in speech_texts:\n",
    "    words = transcript.split()\n",
    "    num_words = len(words)\n",
    "    array.append(num_words)\n",
    "print(mean(array))"
   ]
  },
  {
   "attachments": {},
   "cell_type": "markdown",
   "metadata": {},
   "source": [
    "# CNN News - Data"
   ]
  },
  {
   "cell_type": "code",
   "execution_count": 19,
   "metadata": {},
   "outputs": [
    {
     "name": "stderr",
     "output_type": "stream",
     "text": [
      "Found cached dataset cnn_dailymail (/Users/bnnlukas/.cache/huggingface/datasets/cnn_dailymail/3.0.0/3.0.0/1b3c71476f6d152c31c1730e83ccb08bcf23e348233f4fcc11e182248e6bf7de)\n"
     ]
    },
    {
     "data": {
      "application/vnd.jupyter.widget-view+json": {
       "model_id": "ea2a05fc565b4ff49af6134428cea280",
       "version_major": 2,
       "version_minor": 0
      },
      "text/plain": [
       "  0%|          | 0/3 [00:00<?, ?it/s]"
      ]
     },
     "metadata": {},
     "output_type": "display_data"
    }
   ],
   "source": [
    "news_dataset = load_dataset(\"cnn_dailymail\", \"3.0.0\")"
   ]
  },
  {
   "cell_type": "code",
   "execution_count": 20,
   "metadata": {},
   "outputs": [],
   "source": [
    "dataset_news = news_dataset['train']\n",
    "news_texts = dataset_news['article'][:1000]"
   ]
  },
  {
   "cell_type": "code",
   "execution_count": 21,
   "metadata": {},
   "outputs": [
    {
     "name": "stdout",
     "output_type": "stream",
     "text": [
      "BAGHDAD, Iraq (CNN) -- Dressed in a Superman shirt, 5-year-old Youssif held his sister's hand Friday, seemingly unaware that millions of people across the world have been touched by his story. Nearby, his parents talked about the new future and hope they have for their boy -- and the potential for recovery from his severe burns. Youssif holds his sister's hand Friday. He's wearing a facial mask often used to help burn victims. It's the best birthday present the Iraqi family could ever have imagined for their boy: Youssif turns 6 next Friday. \"I was so happy I didn't know what to do with myself,\" his mother, Zainab, told CNN, a broad smile across her face. \"I didn't think the reaction would be this big.\" His father said he was on the roof of his house when CNN called him with the news about the outpouring of support for his son. \"We just want to thank everyone who has come forward,\" he said. \"We knew there was kindness out there.\" Like his wife, he couldn't stop smiling. He talked about how he tried in vain to get help for his son in Baghdad, leaving \"no stone unturned\" on a mission to help his boy. There were many trips to the Ministry of Health. He says he even put in a request to Iraq's parliament for help. The family eventually told CNN their story -- that Youssif was grabbed by masked men outside their home on January 15, doused in gasoline and set on fire. Simply by coming forward, his parents put themselves in incredible danger. No one has been arrested or held accountable in Youssif's case.  Watch CNN's Arwa Damon describe 'truly phenomenal' outpouring » . Shortly after Youssif's story aired Wednesday, the Children's Burn Foundation -- a nonprofit organization based in Sherman Oaks, California, that provides support for burn victims locally, nationally and internationally -- agreed to pay for the transportation for Youssif and his family to come to the United States and to set up a fund for donations. You can make a donation at the foundation's site by clicking here. There's a drop-down menu under the \"general donation\" area that is marked \"Youssif's fund.\" The foundation says it will cover all medical costs -- from surgeries for Youssif to housing costs to any social rehabilitation that might be needed for him. Surgeries will be performed by Dr. Peter Grossman, a plastic surgeon with the affiliated Grossman Burn Center who is donating his services for Youssif's cause. Officials are still trying to get the appropriate visas for the family's travels. \"We are prepared to have them come here, set them up in a housing situation, provide support for them and begin treatment,\" said Barbara Friedman, executive director of the Children's Burn Foundation. \"We expect that the treatment will be from between six months to a year with many surgeries.\" She added, \"He will be getting the absolute best care that's available.\" Youssif's parents said they know it's going to be a lengthy and difficult process and that adjusting to their stay in America may not be easy. But none of that matters -- getting help for their boy is first and foremost. \"I will do anything for Youssif,\" his father said, pulling his son closer to him. \"Our child is everything.\" His mother tried to coax Youssif to talk to us on this day. But he didn't want to; his mother says he's shy outside of their home. The biggest obstacle now is getting the visas to leave, and the serious security risks they face every day and hour they remain in Iraq. But this family -- which saw the very worst in humanity on that January day -- has new hope in the world. That is partly due to the tens of thousands of CNN.com users who were so moved by the story and wanted to act. CNN Iraqi staff central to bringing this story together were also overwhelmed with the generosity coming from people outside of their border. In a nation that largely feels abandoned by the rest of the world, it was a refreshing realization. E-mail to a friend . CNN.com senior producer Wayne Drash contributed to this report in Atlanta.\n"
     ]
    }
   ],
   "source": [
    "print(news_texts[5])"
   ]
  },
  {
   "cell_type": "code",
   "execution_count": 22,
   "metadata": {},
   "outputs": [],
   "source": [
    "news_class = ['News'] * len(news_texts)\n",
    "\n",
    "df_news = pd.DataFrame({'Text': news_texts, 'Class': news_class})"
   ]
  },
  {
   "cell_type": "code",
   "execution_count": 23,
   "metadata": {},
   "outputs": [
    {
     "name": "stdout",
     "output_type": "stream",
     "text": [
      "591.624\n"
     ]
    }
   ],
   "source": [
    "array = []\n",
    "for text in news_texts:\n",
    "    words = text.split()\n",
    "    num_words = len(words)\n",
    "    array.append(num_words)\n",
    "print(mean(array))"
   ]
  },
  {
   "attachments": {},
   "cell_type": "markdown",
   "metadata": {},
   "source": [
    "# Science - Data"
   ]
  },
  {
   "cell_type": "code",
   "execution_count": 43,
   "metadata": {},
   "outputs": [
    {
     "name": "stderr",
     "output_type": "stream",
     "text": [
      "Found cached dataset scientific_papers (/Users/bnnlukas/.cache/huggingface/datasets/scientific_papers/arxiv/1.1.1/306757013fb6f37089b6a75469e6638a553bd9f009484938d8f75a4c5e84206f)\n"
     ]
    },
    {
     "data": {
      "application/vnd.jupyter.widget-view+json": {
       "model_id": "eac68980a7c7470780b015f83b0c1601",
       "version_major": 2,
       "version_minor": 0
      },
      "text/plain": [
       "  0%|          | 0/3 [00:00<?, ?it/s]"
      ]
     },
     "metadata": {},
     "output_type": "display_data"
    }
   ],
   "source": [
    "science_dataset = load_dataset(\"scientific_papers\", 'arxiv')"
   ]
  },
  {
   "cell_type": "code",
   "execution_count": null,
   "metadata": {},
   "outputs": [],
   "source": [
    "dataset_science = science_dataset['train']\n",
    "science_texts = dataset_science['article'][:1000]"
   ]
  },
  {
   "cell_type": "code",
   "execution_count": null,
   "metadata": {},
   "outputs": [],
   "source": [
    "science_texts = [w.replace('\\n', ' ') for w in science_texts]"
   ]
  },
  {
   "cell_type": "code",
   "execution_count": null,
   "metadata": {},
   "outputs": [
    {
     "data": {
      "text/plain": [
       "'the study of the phase transition of frustrated spin systems on two - dimensional ( 2d ) lattices is a central problem in modern condensed mater physics . a competition of exchange interaction can lead to frustration , where spatial arrangement of magnetic ions in a crystal for which a simultaneous antiparallel ordering of all interacting spin is impossible . in particular , one of the frustrated 2d models most discussed is the quantum spin-@xmath0 heisenberg antiferromagnet on a square lattice with competing nearest - neighbor ( nn ) and next - nearest - neighbor ( nnn ) antiferromagnetic exchange interactions ( known as @xmath12 model ) @xcite . the criticality of this @xmath12 heisenberg model on a square lattice are relatively well known at @xmath13 . there are two magnetically long - range ordered phases at small and at large values of @xmath6 separated by an intermediate quantum paramagnetic phase without magnetic long - range order in the region between @xmath14 and @xmath15 , where the properties of these disordered phase are still under intensive debate . for @xmath16 @xmath17 , the system possesses antiferromagnetic ( af ) long - range order with wave vector @xmath18 , with a staggered magnetization smaller than the saturated value ( quantum fluctuations ) , which vanished continuously when @xmath19 . for @xmath20 we have two degenerate collinear states which are the helical states with pitch vectors @xmath21 and @xmath22 . these two collinear states are characterized by a parallel spin orientation of nearest neighbors in vertical ( or horizontal ) direction and an antiparallel spin orientation of nearest neighbors in horizontal ( or vertical ) direction , and therefore exhibit nel order within the initial sublattice a and b. at @xmath23 , the magnetization jumps from a nonzero to a zero value . the phase transition from nel to the quantum paramagnetic state is second order , whereas the transition from the collinear to the quantum paramagnetic state is first order@xcite . et al_.@xcite have shown that the intermediate quantum paramagnetic is a ( _ singlet _ ) plaquette crystal , and the ground and first excited states are separated by a finite gap . the interest to study the two - dimensional @xmath12 heisenberg antiferromagnet have been greatly stimulated by its experimental realization in vanadium phosphates compounds@xcite , such as li@xmath24vosio@xmath25 , li@xmath24vogeo@xmath25 , and  vomoo@xmath25 , which might be described by this frustrated model in the case of @xmath26 ( @xmath27 ) . these isostructural compounds are characterized by a layered structure containing v@xmath28 ( @xmath29 ) ions . the structure of v@xmath28 layer suggest that the superexchange is similar . in these compounds a second order phase transition to a long - range ordered magnetic phase has been observed . nmr spin - lattice relaxation measurements@xcite below @xmath30 shows that the order is collinear . due to the two - fold degeneracy of the ground - state for @xmath31 it is not possible to say _ a priori _ which will be the magnetic wave vector ( i.e. , @xmath21 and @xmath22 ) below @xmath30 . on the other hand , such a scenario can change by considering spin - lattice coupling which will lift the degeneracy of the ground - state and will lower its energy@xcite . then , any structural distortion should inevitably reduce this competing interactions and thus reduces the frustration . in the case of  this frustrated magnetic materials , the competing interactions are inequivalent but their topology and magnitudes can be tuned so that the strong quantum fluctuations destroy the long - range ordering . experimentally the ground state phase diagram of frustrated compounds , described by the @xmath12 model , can be explored continuously from high to the low @xmath6 regime by applying high pressures ( p ) , which modify the bonding lengths and angles . recent results from x - ray diffraction measurements@xcite on the li@xmath24vosio@xmath25 compound has shown that the ratio @xmath8 decreases by about @xmath32 when the pressure increases from @xmath33 to @xmath34gpa . a generalization of the @xmath12 heisenberg antiferromagnetic model on a square lattice was introduced by nersesyan and tsvelik@xcite and studied by other groups@xcite , the so - called @xmath35 model . in the @xmath36 model is considered inequivalence nn couplings @xmath1 and @xmath37 in the two orthogonal spatial lattice dimensions with all the nnn bonds across the diagonals to have the same strength @xmath3 . study of extensive band structure calculations@xcite for the vanadium phosphates abvo(po@xmath38)@xmath24 ( ab = pb@xmath24 , srzn , bazn , and bacd ) have indicated four inequivalent exchange couplings : @xmath1 and @xmath2 between nn and @xmath3 and @xmath39 between nnn . for example , in srznvo(po@xmath25)@xmath24 was estimated @xmath40 and @xmath41 causing a distortion of the spin lattice . this spatial anisotropy tends to narrow the critical region and destroys it completely at a certain value of the interchain parameter @xmath7 . on the other hand , by using the continuum limit of the @xmath36 spin-@xmath0 model starykh and balents@xcite have shown that this transition splits into two , with the presence of an intermediate quantum paramagnetic ( columnar dimer ) phase for @xmath42 . bishop , _ _ et al__@xcite , by using coupled cluster treatment found the surprising and novel result that there exists a quantum triple point ( * qtp * ) with coordinates at ( @xmath43 ) , below which there is a second - order phase transition between the * af * and * caf * phases while above this * qtp * are these two ordered phases separated by the intermediate magnetically disordered phase ( vbs or rvb ) . the order parameters of both the * af * and * caf * phases vanish continuously both below and above the * qtp * , which is typical of second - order phase transition . there is some evidence that the transition between the * caf * and intermediate phases is of first - order . using exact diagonalization@xcite with small lattice of @xmath44 ( @xmath45 ) size , the intermediate * qp * phase for all interval of @xmath46 $ ] has been obtained for the pure spin-@xmath0 @xmath12 model on a square lattice . these results are in accordance with results obtained by starykh and balentes@xcite , that predicted not the * qtp * in the ground - state phase diagram recently observed by bishop , _ _ et al.__@xcite . the ground state ( gs ) properties of the two - dimensional frustrated heisenberg antiferromagnet have been investigated by various methods . the exact diagonalization starts from singlet states on pairs of sites , which cover the whole 2d lattice . however , the manifold of these states which can be constructed is nonorthogonal and overcomplete . this numerical methods are limited to small clusters @xmath47 due to storage problems . the computation on the largest cluster @xmath45 has been performed by schulz and co - workes@xcite @xmath48 years ago . in spite of the great improvements achieved during this time , it is not possible so far to repeat this calculation for the next interesting cluster @xmath49 . this is only possible with other technique , as the quantum monte carlo simulation . due to the progress in computer hardware and the increased efficiency in programing , very recently@xcite the gs of the quantum spin-1/2 @xmath12 model have been calculated by the lanczos algoritm for a square lattice with @xmath50  sites . the theoretical treatment of the frustrated quantum models is far from being trivial . many of the standard many - body methods , such as quantum monte carlo techniques , may fail or become computationally infeasible to implement if frustration is present due to the minus - sign problem . hence , there is considerable interest in any method that can deal with frustrated spin systems . this considerable qualitative difference in the ground state phase diagram in the @xmath51 plane of the quantum spin-@xmath0 @xmath52 model further motivates us to study this issue by alternative methods .    using a variational approximation , in which plaquettes of four spins are treated exactly , oliveira@xcite has studied the ground state phase diagram of the pure @xmath12 heisenberg antiferromagnet on a square lattice , where the quantitative results are in good accordance with a more sophisticated method ( exact diagonalization ) . in this work , we generalize this variational method to treat the anisotropic square lattice ( @xmath52 model ) . the rest of this paper is organized as follows : in sec . ii , the model is presented and a brief discussion of results . in sec . iii , the method is applied for the case of one plaquette with four spins interacting with other plaquette type mean field approximation . main results will be presented in sec . iv , as well as some discussions . finally , in sec . v we will give a brief summary . the critical behavior of the quantum spin-@xmath0 @xmath12 heisenberg model has been studied for many years , but very little has been done in the anisotropic square lattice case , which is described by following hamiltonian : @xmath53 where @xmath54 is the spin-@xmath0 pauli spin operators , the index @xmath55 labels the @xmath56 ( row ) and @xmath57 ( column ) components of the lattice sites . the first sum runs over all nn and the second sum runs over all nnn pairs . we denote the hamiltonian ( 1 )  by @xmath35 model , with strength @xmath1 along the row direction , @xmath37 along the column direction , @xmath58 along the diagonals , and we assume all couplings to be positive with @xmath59 . the classical ( @xmath60 ) model ( 1 ) has only two ordered ground - states : * af * ( or nel ) for @xmath61 and columnar stripe ( * caf * ) for @xmath62 separated by a first - order line at @xmath63 . quantum fluctuations play a significant role in the magnetic phase diagram of the system at zero temperature . we will investigate the role of quantum fluctuations on the stability of the nel and collinear phases . in the @xmath29 case ( quantum limit ) , the line splits into two phase transitions , where the ordered states ( * af * and * caf * ) are separated by an intermediate quantum paramagnetic ( * qp * ) phase , both on a square lattice . exact diagonalization@xcite has estimated a critical line at @xmath64 , for the transition between the * caf * and * qp * states , and at @xmath65 between the * af * and * qp * states . the phase diagram in the @xmath51 plane obtained is in accordance with starykh and balents@xcite . however , the existence of * qtp * ( _ quantum triple point _ ) that was predicted by bishop , _ et al_.@xcite , is not present in their obtained phase diagram . moreover , they found only presence of second - order phase transitions in the phase diagram . this contradictory qualitative results ( existence or not of * qtp * ) is the primary motivation behind this present work .    on the other hand , a critical endpoint ( * ce * ) is a point in the phase diagram where a critical line meets and is truncated by a first - order line . this * ce * appear in the phase diagram of many physical systems such as binary fluid mixtures , superfluids , binary alloys , liquid crystals , certain ferromagnets , etc , and have been known for over a century@xcite . despite the * ce * long history , new singularities at the * ce * were predicted . fisher and upton@xcite argued that a new singularity in the curvature of the first - order phase transition line should arise at a * ce*. this prediction was confirmed by fisher and barbosas@xcite phenomenological studies for an exactly solvable spherical model . in conclusion of the analysis of the multicritical behavior observed in the ground - state phase diagram in the @xmath66 plane for the @xmath52 model , we have the presence of a _ quantum critical endpoint _ ( * qce * ) and not * qtp * as mentioned other works@xcite therefore , the objective of this work is to obtain the * qce * using the variational method , that was developed previously by oliveira@xcite in the pure limit ( @xmath67 ) case . we first express the fluctuations around the classical ground state ( * af * and * caf * phases ) , where consider a trial vector state @xmath68 for the ground state as a product of plaquette state @xmath69 . we denote the plaquettes by @xmath70 label , that is composed of four spins , where it do not overlap ( _ mean field _ ) on the square lattice as illustrated in figure 1 . each plaquette state is given by     and @xmath71 spin operators that are considered in eq . ( 2 ) . ] @xmath72    where \\\\{@xmath73 , @xmath74 } is the vector basis with @xmath75 , \\\\{@xmath76 } are real variational parameters obeying the normalization condition @xmath77 . with this choice of vector states , the mean value of the spin operator in each site of the plaquette is given by @xmath78 @xmath79 , where the components in the @xmath56 and @xmath57 directions are null . using the trial vector state defined in the eq . ( 2 ) , we obtain the magnetizations at each site that are given by @xmath80@xmath81@xmath82 and@xmath83 where we have used the same set of parameters ( _ canonical transformation _ ) of ref.@xcite , i.e. , @xmath84 , and @xmath85 , which obeys the normalization condition @xmath86 .    the ground state energy per spin and unit of @xmath1 , @xmath87 , is given by @xmath88 with @xmath89 and@xmath90   , \\\\tag{9}%\\\\end{aligned}\\\\ ] ] where @xmath91 is the mean value of a given observable @xmath92 calculated in the vector state of the @xmath93 plaquette as illustrated in fig . the variational energy can be evaluated using the properties of the spin-@xmath0 pauli operator components , i.e. , @xmath94,@xmath95 and @xmath96 ,  that is expressed for@xmath97 + \\\\nonumber\\\\\\\\ &   2\\\\left (   1-\\\\lambda\\\\right )   \\\\left (   y^{2}v^{2}-z^{2}\\\\omega^{2}\\\\right ) + 2x\\\\left (   y\\\\lambda+z\\\\right )   + \\\\alpha\\\\left [   \\\\dfrac{1}{2}-\\\\left (   y - z\\\\right ) ^{2}-v^{2}-\\\\omega^{2}+6x^{2}u^{2}-6y^{2}v^{2}-6z^{2}\\\\omega^{2}\\\\right ]   . \\\\tag{10}%\\\\end{aligned}\\\\ ] ]    to obtain the minimum energy with a boundary condition given by normalization @xmath98 , we use the lagrange multiplier method which correspond the minimization of the functional@xmath99    the stationary solutions ( @xmath100 ) are obtained by solving the set of nonlinear equations @xmath101{c}% -\\\\left (   \\\\lambda+1\\\\right )   x-4\\\\left (   \\\\lambda+1\\\\right )   xu^{2}+2\\\\left ( y\\\\lambda+z\\\\right )   + 12\\\\alpha xu^{2}=2\\\\eta x\\\\\\\\ \\\\left (   1-\\\\lambda\\\\right )   \\\\left (   y+4yv^{2}\\\\right )   + 2x\\\\lambda-2\\\\alpha\\\\left ( y - z\\\\right )   -12\\\\alpha yv^{2}=2\\\\eta y\\\\\\\\ -\\\\left (   1-\\\\lambda\\\\right )   z-4\\\\left (   1-\\\\lambda\\\\right )   z\\\\omega^{2}% + 2x+2\\\\alpha\\\\left ( y - z\\\\right )   -12\\\\alpha z\\\\omega^{2}=2\\\\eta z\\\\\\\\ -\\\\left (   \\\\lambda+1\\\\right )   u=2\\\\eta u\\\\\\\\ \\\\left (   1-\\\\lambda\\\\right )   v-2\\\\alpha v=2\\\\eta v\\\\\\\\ -\\\\left (   1-\\\\lambda\\\\right )   \\\\omega-2\\\\alpha\\\\omega=2\\\\eta\\\\omega \\\\end{array } \\\\right .   , \\\\tag{12}%\\\\ ] ] where @xmath102 is the lagrange multiplier . the variational parameters @xmath103 , and @xmath102 are determined simultaneously solving the system of equations ( 12 ) combined with the normalization condition @xmath98 for each phase . in the quantum paramagnetic ( * qp * ) phase we have @xmath104 . we note that in the isotropic limit ( @xmath67 ) , our results reduce the same expression obtained by oliveira@xcite . in this disordered phase , the ground state vector @xmath105 is an eigenvector of @xmath106 , where @xmath107 is the total spin of the @xmath70th plaquette of four spins , with zero eigenvalue ( singlet state ) . in the * af * ordered phase we have the boundary condition @xmath108 , and in the * caf * phase @xmath109 .    the order parameters @xmath110 and @xmath111 are numerically obtained as a function of frustration parameter @xmath8 for a given value of spatial anisotropy @xmath7 . we observe that the order parameter @xmath112 goes smoothly to zero when the frustration parameter ( @xmath8 ) increases from zero to @xmath113 with @xmath114 characterizing a second - order phase transition . a simple fitting of the form @xmath115 in the vicinity of the second - order transition gives the same classical value for the critical exponent @xmath116 . on the other hand , for @xmath114 and @xmath117 the staggered magnetization @xmath118 increases monotonically with the frustration parameter @xmath8 in the * caf * phase , with a discontinuity of @xmath118 at @xmath119 , which is a first - order phase transition . for @xmath120 , the * qp * intermediate phase between the two ordered states ( * af * and * caf * ) disappears , and a direct transition between the magnetically ordered * af * and * caf * located at the crossing point @xmath11 correspondent to the classical value . the ground state ( @xmath13 ) phase diagram in the @xmath66 plane is displayed in fig . the solid line indicate the critical points and the dashed lines represent first - order frontiers . we observe three different phases , namely : * af * ( antiferromagnetic ) ,  * caf * ( collinear antiferromagnetic ) and * qp * ( quantum paramagnetic ) . the * af * and * qp * phases are separated by a second - order transition line @xmath121 , while the * qp * and * caf * phases are separated by a first - order transition line @xmath122 . the presence of the interchain parameter @xmath7 has the general effect of suppressing the * qp * phase . the * qp * region decreases gradually with the decrease of the @xmath7 parameter , and it disappears completely at the _ quantum _ _ critical endpoint _ * * qce**@xmath123(@xmath124 ) where the boundaries between these phases emerge . below this * qce * , i.e. , for @xmath120 , there is a direct first - order phase transition between the * af * and * caf * phases , with a transition point @xmath125 ( classical value ) .    in order to illustrate the nature of the phase transition , we also show , in inset fig . 2 , the behavior of the staggered magnetization ( order parameter ) as a function of the frustration parameter ( @xmath8 ) for @xmath126 and @xmath127 @xmath128 . from curves such as those shown in fig . 2 we see that for @xmath129 there exists an intermediate region between the critical point @xmath130 at which @xmath131 for the * af * phase , characterizing a second - order transition , and the point @xmath132 at which the @xmath133 order parameter presents a discontinuity for the * caf * phase , characterizing a first - order transition . for @xmath134 , the order parameter of the * af * phase decreases monotonically with increase of the frustration parameter from @xmath135 , for @xmath136 , to zero for @xmath137 ( @xmath138 ) . in the * caf * phase @xmath133 decreases from @xmath139 for @xmath140 to @xmath141 for @xmath142 , characterizing a direct first - order transition between the magnetically ordered * af * and * caf * phases located at the crossing point . we note that the definition of the order parameter @xmath143 ( @xmath144 ) difer of @xmath0 factor when compared with calculations which use other methods ( i.e. , @xmath145 ) . therefore , in the limit of the not frustrated ( @xmath136 ) square lattice ( @xmath67 ) antiferromagnetic , solving the equations ( 12 ) and applying the corrections factor we found @xmath146 which is consistent with the numerical results obtained by various methods such as series expansion , quantum monte carlo simulation , and others@xcite , and can also be compared with experimental results for the k@xmath24nif@xmath25 , k@xmath24mnf@xmath25 , and rb@xmath147mnf@xmath25 compounds@xcite . plane for the quantum spin-@xmath0 @xmath35 model on a square lattice , where @xmath6 and @xmath148 . the dashed and solid lines corresponds the first- and second - order transitions lines , respectively . the black point represents the quantum critical endpoint ( * qce * ) . the notations indicated by * af * , * caf * and * qp * corresponds the antiferromagnetic , collinear antiferromagnetic and quantum paramagnetic phases , respectively . the dotted line correspond the classical solution @xmath63 . ] in summary , we have studied the effects of quantum fluctuations due to spatial ( @xmath7 ) and frustration ( @xmath8 ) parameter in the quantum spin-@xmath0 @xmath149 heisenberg model . using a variational method we calculated the sublattice magnetization for the * af * and * caf * phases . for values of @xmath150 the frustration contributes significantly to the existence of a disordered intermediate state ( * qp * ) between the two * af * and * caf * ordered phases , while for @xmath151 , we have a direct first - order transition between the * af * and * caf * phases . we have observed , by analyzing the order parameters of the * af * and * caf * phases , that the phase transitions are of second and first - order between the * af - qp * and * caf - qp * , respectively . the obtained phase diagram can be compared with recent results which used effective - field theory@xcite and coupled - cluster method@xcite , showing the same qualitative results predicting a paramagnetic region for small interlayer parameter ( i.e. , @xmath152 ) , and for @xmath120 this * qp * phase disappears by presenting a direct first - order transition between the * af * and * caf * phases . on the other hand , recent calculations of second order spin wave theory@xcite have indicated that the intermediate * qp * phase exists for all @xmath42 in accordance with results of exact diagonalization@xcite . we speculate that by using a more sophisticated method , for example , quantum monte carlo simulations@xcite and density matrix renormalization group ( dmrg ) method@xcite , this disordered region should disappear for certain values of @xmath120 . r. f. bishop , p. h. y. li , r. darradi , j. schulenburg , and j. richter , _ phys . b _ * 78 * , 054412 ( 2008 ) ; r. f. bishop , p. h. y. li , r. darradi , j. schulenburg , j. richter , and c. e. campbell , _ j. phys . : condens . matter _ * 20 * , 415213 ( 2008 ) . see also , r. darradi , j. richter , j. schulenburg , r. f. bishop , and p. h. y. li , _ j. phys . : conference series _ * 145 * , 012049 ( 2009 ) . p. carretta , r. melzi , n. papinutto , and p. millet , _ phys . * 88 * , 047601 ( 2002 ) ; p. carretta , n. papinutto , c. b. azzoni , m. c. mozzati , e. pavarini , s. gonthier , and o. millet , _ phys . b_. * 66 * , 094420 ( 2002 ) .'"
      ]
     },
     "execution_count": 19,
     "metadata": {},
     "output_type": "execute_result"
    }
   ],
   "source": [
    "science_texts[50]"
   ]
  },
  {
   "cell_type": "code",
   "execution_count": null,
   "metadata": {},
   "outputs": [],
   "source": [
    "\n",
    "# File path to write to\n",
    "file_path = \"./file.txt\"\n",
    "\n",
    "# Open the file in write mode\n",
    "with open(file_path, 'w') as file:\n",
    "    # Write the string to the file\n",
    "    file.write(science_texts[50])"
   ]
  },
  {
   "cell_type": "code",
   "execution_count": null,
   "metadata": {},
   "outputs": [
    {
     "name": "stdout",
     "output_type": "stream",
     "text": [
      "5793.014\n"
     ]
    }
   ],
   "source": [
    "array = []\n",
    "for text in science_texts:\n",
    "    words = text.split()\n",
    "    num_words = len(words)\n",
    "    array.append(num_words)\n",
    "print(mean(array))"
   ]
  },
  {
   "attachments": {},
   "cell_type": "markdown",
   "metadata": {},
   "source": [
    "# Jurisdictions - Data"
   ]
  },
  {
   "cell_type": "code",
   "execution_count": 24,
   "metadata": {},
   "outputs": [
    {
     "name": "stdout",
     "output_type": "stream",
     "text": [
      "14266.597730138714\n",
      "793\n"
     ]
    },
    {
     "data": {
      "text/html": [
       "<div>\n",
       "<style scoped>\n",
       "    .dataframe tbody tr th:only-of-type {\n",
       "        vertical-align: middle;\n",
       "    }\n",
       "\n",
       "    .dataframe tbody tr th {\n",
       "        vertical-align: top;\n",
       "    }\n",
       "\n",
       "    .dataframe thead th {\n",
       "        text-align: right;\n",
       "    }\n",
       "</style>\n",
       "<table border=\"1\" class=\"dataframe\">\n",
       "  <thead>\n",
       "    <tr style=\"text-align: right;\">\n",
       "      <th></th>\n",
       "      <th>Text</th>\n",
       "      <th>Class</th>\n",
       "    </tr>\n",
       "  </thead>\n",
       "  <tbody>\n",
       "    <tr>\n",
       "      <th>0</th>\n",
       "      <td>The appellant, VTB Capital plc (VTB), is incor...</td>\n",
       "      <td>Jurisdiction</td>\n",
       "    </tr>\n",
       "    <tr>\n",
       "      <th>1</th>\n",
       "      <td>The appellants are insurance companies, whose ...</td>\n",
       "      <td>Jurisdiction</td>\n",
       "    </tr>\n",
       "    <tr>\n",
       "      <th>2</th>\n",
       "      <td>This appeal concerns the permissibility and in...</td>\n",
       "      <td>Jurisdiction</td>\n",
       "    </tr>\n",
       "    <tr>\n",
       "      <th>3</th>\n",
       "      <td>The Investigatory Powers Tribunal (IPT) is a s...</td>\n",
       "      <td>Jurisdiction</td>\n",
       "    </tr>\n",
       "    <tr>\n",
       "      <th>4</th>\n",
       "      <td>This appeal raises the issue as to whether a t...</td>\n",
       "      <td>Jurisdiction</td>\n",
       "    </tr>\n",
       "  </tbody>\n",
       "</table>\n",
       "</div>"
      ],
      "text/plain": [
       "                                                Text         Class\n",
       "0  The appellant, VTB Capital plc (VTB), is incor...  Jurisdiction\n",
       "1  The appellants are insurance companies, whose ...  Jurisdiction\n",
       "2  This appeal concerns the permissibility and in...  Jurisdiction\n",
       "3  The Investigatory Powers Tribunal (IPT) is a s...  Jurisdiction\n",
       "4  This appeal raises the issue as to whether a t...  Jurisdiction"
      ]
     },
     "execution_count": 24,
     "metadata": {},
     "output_type": "execute_result"
    }
   ],
   "source": [
    "data_path_jurisdictions = './data/Juristictions/'\n",
    "\n",
    "jurisdictions_texts = []\n",
    "for file_name in os.listdir(data_path_jurisdictions):\n",
    "    file_path = os.path.join(data_path_jurisdictions, file_name)\n",
    "    with open(file_path, 'r', encoding='latin-1') as file:\n",
    "        text = file.read()\n",
    "        jurisdictions_texts.append(text)\n",
    "\n",
    "jurisdictions_class = ['Jurisdiction'] * len(jurisdictions_texts)\n",
    "\n",
    "df_jurisdictions = pd.DataFrame({'Text': jurisdictions_texts, 'Class': jurisdictions_class})\n",
    "\n",
    "array_jurisdictions = []\n",
    "for text in jurisdictions_texts:\n",
    "    words = text.split()\n",
    "    num_words = len(words)\n",
    "    array_jurisdictions.append(num_words)\n",
    "print(mean(array_jurisdictions))\n",
    "\n",
    "print(len(df_jurisdictions))\n",
    "\n",
    "df_jurisdictions.head()\n"
   ]
  },
  {
   "attachments": {},
   "cell_type": "markdown",
   "metadata": {},
   "source": [
    "# Literature - Data"
   ]
  },
  {
   "cell_type": "code",
   "execution_count": 25,
   "metadata": {},
   "outputs": [],
   "source": [
    "anzahl_texte = 1000\n",
    "ausgabe_datei = './data/Literature/literarische_texte.csv'\n",
    "header = ['Titel', 'Text']\n",
    "\n",
    "with open(ausgabe_datei, 'w', newline='', encoding='utf-8') as file:\n",
    "    writer = csv.writer(file)\n",
    "    writer.writerow(header)\n",
    "\n",
    "    for i in range(anzahl_texte):\n",
    "        buch = random.choice(gutenberg.fileids())\n",
    "        titel = buch.replace('.txt', '')\n",
    "        text = gutenberg.raw(buch)\n",
    "        writer.writerow([titel, text])"
   ]
  },
  {
   "cell_type": "code",
   "execution_count": 9,
   "metadata": {},
   "outputs": [
    {
     "data": {
      "text/html": [
       "<div>\n",
       "<style scoped>\n",
       "    .dataframe tbody tr th:only-of-type {\n",
       "        vertical-align: middle;\n",
       "    }\n",
       "\n",
       "    .dataframe tbody tr th {\n",
       "        vertical-align: top;\n",
       "    }\n",
       "\n",
       "    .dataframe thead th {\n",
       "        text-align: right;\n",
       "    }\n",
       "</style>\n",
       "<table border=\"1\" class=\"dataframe\">\n",
       "  <thead>\n",
       "    <tr style=\"text-align: right;\">\n",
       "      <th></th>\n",
       "      <th>Titel</th>\n",
       "      <th>Text</th>\n",
       "    </tr>\n",
       "  </thead>\n",
       "  <tbody>\n",
       "    <tr>\n",
       "      <th>0</th>\n",
       "      <td>shakespeare-macbeth</td>\n",
       "      <td>[The Tragedie of Macbeth by William Shakespear...</td>\n",
       "    </tr>\n",
       "    <tr>\n",
       "      <th>1</th>\n",
       "      <td>whitman-leaves</td>\n",
       "      <td>[Leaves of Grass by Walt Whitman 1855]\\n\\n\\nCo...</td>\n",
       "    </tr>\n",
       "    <tr>\n",
       "      <th>2</th>\n",
       "      <td>milton-paradise</td>\n",
       "      <td>[Paradise Lost by John Milton 1667] \\n \\n \\nBo...</td>\n",
       "    </tr>\n",
       "    <tr>\n",
       "      <th>3</th>\n",
       "      <td>whitman-leaves</td>\n",
       "      <td>[Leaves of Grass by Walt Whitman 1855]\\n\\n\\nCo...</td>\n",
       "    </tr>\n",
       "    <tr>\n",
       "      <th>4</th>\n",
       "      <td>edgeworth-parents</td>\n",
       "      <td>[The Parent's Assistant, by Maria Edgeworth]\\r...</td>\n",
       "    </tr>\n",
       "  </tbody>\n",
       "</table>\n",
       "</div>"
      ],
      "text/plain": [
       "                 Titel                                               Text\n",
       "0  shakespeare-macbeth  [The Tragedie of Macbeth by William Shakespear...\n",
       "1       whitman-leaves  [Leaves of Grass by Walt Whitman 1855]\\n\\n\\nCo...\n",
       "2      milton-paradise  [Paradise Lost by John Milton 1667] \\n \\n \\nBo...\n",
       "3       whitman-leaves  [Leaves of Grass by Walt Whitman 1855]\\n\\n\\nCo...\n",
       "4    edgeworth-parents  [The Parent's Assistant, by Maria Edgeworth]\\r..."
      ]
     },
     "execution_count": 9,
     "metadata": {},
     "output_type": "execute_result"
    }
   ],
   "source": [
    "df_lit = pd.read_csv('./data/Literature/literarische_texte.csv')\n",
    "\n",
    "df_lit.head()"
   ]
  },
  {
   "cell_type": "code",
   "execution_count": 10,
   "metadata": {},
   "outputs": [],
   "source": [
    "literature_texts = df_lit['Text']\n",
    "literature_class = ['Literature'] * len(literature_texts)\n",
    "\n",
    "df_literature = pd.DataFrame({'Text': literature_texts, 'Class': literature_class})"
   ]
  },
  {
   "cell_type": "code",
   "execution_count": 11,
   "metadata": {},
   "outputs": [
    {
     "name": "stdout",
     "output_type": "stream",
     "text": [
      "118295.018\n"
     ]
    }
   ],
   "source": [
    "array = []\n",
    "for transcript in df_lit['Text']:\n",
    "    words = transcript.split()\n",
    "    num_words = len(words)\n",
    "    array.append(num_words)\n",
    "print(mean(array))"
   ]
  },
  {
   "attachments": {},
   "cell_type": "markdown",
   "metadata": {},
   "source": [
    "# Result Dataframe"
   ]
  },
  {
   "cell_type": "code",
   "execution_count": 26,
   "metadata": {},
   "outputs": [
    {
     "data": {
      "text/html": [
       "<div>\n",
       "<style scoped>\n",
       "    .dataframe tbody tr th:only-of-type {\n",
       "        vertical-align: middle;\n",
       "    }\n",
       "\n",
       "    .dataframe tbody tr th {\n",
       "        vertical-align: top;\n",
       "    }\n",
       "\n",
       "    .dataframe thead th {\n",
       "        text-align: right;\n",
       "    }\n",
       "</style>\n",
       "<table border=\"1\" class=\"dataframe\">\n",
       "  <thead>\n",
       "    <tr style=\"text-align: right;\">\n",
       "      <th></th>\n",
       "      <th>Text</th>\n",
       "      <th>Class</th>\n",
       "    </tr>\n",
       "  </thead>\n",
       "  <tbody>\n",
       "    <tr>\n",
       "      <th>0</th>\n",
       "      <td>My countrymen, the surpassing war of all times...</td>\n",
       "      <td>Political Speech</td>\n",
       "    </tr>\n",
       "    <tr>\n",
       "      <th>1</th>\n",
       "      <td>THE PRESIDENT. Good afternoon, ladies and gent...</td>\n",
       "      <td>Political Speech</td>\n",
       "    </tr>\n",
       "    <tr>\n",
       "      <th>2</th>\n",
       "      <td>THE PRESIDENT. Ladies and gentlemen, I have co...</td>\n",
       "      <td>Political Speech</td>\n",
       "    </tr>\n",
       "    <tr>\n",
       "      <th>3</th>\n",
       "      <td>THE PRESIDENT. I take pleasure this morning in...</td>\n",
       "      <td>Political Speech</td>\n",
       "    </tr>\n",
       "    <tr>\n",
       "      <th>4</th>\n",
       "      <td>THE PRESIDENT: This past week the United State...</td>\n",
       "      <td>Political Speech</td>\n",
       "    </tr>\n",
       "  </tbody>\n",
       "</table>\n",
       "</div>"
      ],
      "text/plain": [
       "                                                Text             Class\n",
       "0  My countrymen, the surpassing war of all times...  Political Speech\n",
       "1  THE PRESIDENT. Good afternoon, ladies and gent...  Political Speech\n",
       "2  THE PRESIDENT. Ladies and gentlemen, I have co...  Political Speech\n",
       "3  THE PRESIDENT. I take pleasure this morning in...  Political Speech\n",
       "4  THE PRESIDENT: This past week the United State...  Political Speech"
      ]
     },
     "execution_count": 26,
     "metadata": {},
     "output_type": "execute_result"
    }
   ],
   "source": [
    "result_df = pd.concat([df_speeches, df_news, df_jurisdictions, df_literature])\n",
    "\n",
    "result_df.head()"
   ]
  }
 ],
 "metadata": {
  "kernelspec": {
   "display_name": "Python 3",
   "language": "python",
   "name": "python3"
  },
  "language_info": {
   "codemirror_mode": {
    "name": "ipython",
    "version": 3
   },
   "file_extension": ".py",
   "mimetype": "text/x-python",
   "name": "python",
   "nbconvert_exporter": "python",
   "pygments_lexer": "ipython3",
   "version": "3.10.1"
  },
  "orig_nbformat": 4
 },
 "nbformat": 4,
 "nbformat_minor": 2
}
