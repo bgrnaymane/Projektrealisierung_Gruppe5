{
 "cells": [
  {
   "cell_type": "markdown",
   "metadata": {},
   "source": [
    "Summary"
   ]
  },
  {
   "cell_type": "markdown",
   "metadata": {},
   "source": [
    "The given code script loads a DataFrame containing blog text data, and then applies three different summarization algorithms (TextRank, LSA, and LexRank) with varying compression rates to generate summaries for each blog text. It calculates the number of sentences needed for the summary based on the compression rate and randomly selects the summarization approach for each blog. The script then stores the generated summaries in the 'Summary' column of the DataFrame. Additionally, it calculates and displays the percentage of each summarization approach and compression rate used for generating the summaries. Finally, it saves the DataFrame with the generated summaries as a new CSV file. In summary, the script focuses on text summarization and provides an analysis of the summarization approaches used for the given blog text data."
   ]
  },
  {
   "cell_type": "code",
   "execution_count": 1,
   "metadata": {},
   "outputs": [
    {
     "name": "stdout",
     "output_type": "stream",
     "text": [
      "Requirement already satisfied: sumy in /Users/bgrnaymane/Documents/GitHub/Projektrealisierung_Gruppe5/myenv/lib/python3.9/site-packages (0.11.0)\n",
      "Requirement already satisfied: docopt<0.7,>=0.6.1 in /Users/bgrnaymane/Documents/GitHub/Projektrealisierung_Gruppe5/myenv/lib/python3.9/site-packages (from sumy) (0.6.2)\n",
      "Requirement already satisfied: breadability>=0.1.20 in /Users/bgrnaymane/Documents/GitHub/Projektrealisierung_Gruppe5/myenv/lib/python3.9/site-packages (from sumy) (0.1.20)\n",
      "Requirement already satisfied: requests>=2.7.0 in /Users/bgrnaymane/Documents/GitHub/Projektrealisierung_Gruppe5/myenv/lib/python3.9/site-packages (from sumy) (2.31.0)\n",
      "Requirement already satisfied: pycountry>=18.2.23 in /Users/bgrnaymane/Documents/GitHub/Projektrealisierung_Gruppe5/myenv/lib/python3.9/site-packages (from sumy) (22.3.5)\n",
      "Requirement already satisfied: nltk>=3.0.2 in /Users/bgrnaymane/Documents/GitHub/Projektrealisierung_Gruppe5/myenv/lib/python3.9/site-packages (from sumy) (3.8.1)\n",
      "Requirement already satisfied: chardet in /Users/bgrnaymane/Documents/GitHub/Projektrealisierung_Gruppe5/myenv/lib/python3.9/site-packages (from breadability>=0.1.20->sumy) (5.1.0)\n",
      "Requirement already satisfied: lxml>=2.0 in /Users/bgrnaymane/Documents/GitHub/Projektrealisierung_Gruppe5/myenv/lib/python3.9/site-packages (from breadability>=0.1.20->sumy) (4.9.2)\n",
      "Requirement already satisfied: click in /Users/bgrnaymane/Documents/GitHub/Projektrealisierung_Gruppe5/myenv/lib/python3.9/site-packages (from nltk>=3.0.2->sumy) (8.1.3)\n",
      "Requirement already satisfied: joblib in /Users/bgrnaymane/Documents/GitHub/Projektrealisierung_Gruppe5/myenv/lib/python3.9/site-packages (from nltk>=3.0.2->sumy) (1.2.0)\n",
      "Requirement already satisfied: regex>=2021.8.3 in /Users/bgrnaymane/Documents/GitHub/Projektrealisierung_Gruppe5/myenv/lib/python3.9/site-packages (from nltk>=3.0.2->sumy) (2023.6.3)\n",
      "Requirement already satisfied: tqdm in /Users/bgrnaymane/Documents/GitHub/Projektrealisierung_Gruppe5/myenv/lib/python3.9/site-packages (from nltk>=3.0.2->sumy) (4.65.0)\n",
      "Requirement already satisfied: setuptools in /Users/bgrnaymane/Documents/GitHub/Projektrealisierung_Gruppe5/myenv/lib/python3.9/site-packages (from pycountry>=18.2.23->sumy) (56.0.0)\n",
      "Requirement already satisfied: charset-normalizer<4,>=2 in /Users/bgrnaymane/Documents/GitHub/Projektrealisierung_Gruppe5/myenv/lib/python3.9/site-packages (from requests>=2.7.0->sumy) (3.1.0)\n",
      "Requirement already satisfied: idna<4,>=2.5 in /Users/bgrnaymane/Documents/GitHub/Projektrealisierung_Gruppe5/myenv/lib/python3.9/site-packages (from requests>=2.7.0->sumy) (3.4)\n",
      "Requirement already satisfied: urllib3<3,>=1.21.1 in /Users/bgrnaymane/Documents/GitHub/Projektrealisierung_Gruppe5/myenv/lib/python3.9/site-packages (from requests>=2.7.0->sumy) (2.0.3)\n",
      "Requirement already satisfied: certifi>=2017.4.17 in /Users/bgrnaymane/Documents/GitHub/Projektrealisierung_Gruppe5/myenv/lib/python3.9/site-packages (from requests>=2.7.0->sumy) (2023.5.7)\n"
     ]
    }
   ],
   "source": [
    "import pandas as pd\n",
    "!pip install sumy\n",
    "from sumy.parsers.plaintext import PlaintextParser\n",
    "from sumy.nlp.tokenizers import Tokenizer\n",
    "from sumy.summarizers.lex_rank import LexRankSummarizer\n",
    "from sumy.summarizers.lsa import LsaSummarizer\n",
    "from sumy.utils import get_stop_words\n",
    "from sumy.summarizers.text_rank import TextRankSummarizer\n",
    "import random"
   ]
  },
  {
   "cell_type": "code",
   "execution_count": 2,
   "metadata": {},
   "outputs": [],
   "source": [
    "df = pd.read_csv(\"../data/Blogs_result/dataset.csv\")"
   ]
  },
  {
   "cell_type": "code",
   "execution_count": 3,
   "metadata": {},
   "outputs": [
    {
     "name": "stdout",
     "output_type": "stream",
     "text": [
      "The approach TextRankSummarizer was used for 33.57% of the summaries.\n",
      "The approach LsaSummarizer was used for 34.14% of the summaries.\n",
      "The approach LexRankSummarizer was used for 32.29% of the summaries.\n",
      "The compression rate 0.1 was used for 24.62% of the summaries.\n",
      "The compression rate 0.3 was used for 25.13% of the summaries.\n",
      "The compression rate 0.5 was used for 25.99% of the summaries.\n",
      "The compression rate 0.7 was used for 24.25% of the summaries.\n"
     ]
    }
   ],
   "source": [
    "text_rank_summarizer = TextRankSummarizer()\n",
    "lsa_summarizer = LsaSummarizer()\n",
    "lex_rank_summarizer = LexRankSummarizer()\n",
    "\n",
    "compression_rates = [0.1, 0.3, 0.5, 0.7]  \n",
    "\n",
    "approach_counts = {summarizer.__class__.__name__: 0 for summarizer in [text_rank_summarizer, lsa_summarizer, lex_rank_summarizer]}\n",
    "compression_rate_counts = {rate: 0 for rate in compression_rates}\n",
    "\n",
    "for index, row in df.iterrows():\n",
    "    approach = random.choice([text_rank_summarizer, lsa_summarizer, lex_rank_summarizer])\n",
    "    compression_rate = random.choice(compression_rates)\n",
    "    \n",
    "    approach_counts[approach.__class__.__name__] += 1\n",
    "    compression_rate_counts[compression_rate] += 1\n",
    "\n",
    "    tokenizer = Tokenizer(\"english\")\n",
    "    sentences = tokenizer.to_sentences(row['Text'])\n",
    "\n",
    "    num_sentences = int(len(sentences) * compression_rate)\n",
    "\n",
    "    summarizer = approach\n",
    "    parser = PlaintextParser.from_string(row['Text'], tokenizer)\n",
    "    summary = summarizer(parser.document, num_sentences)\n",
    "\n",
    "    df.loc[index, 'Summary'] = ' '.join(str(sentence) for sentence in summary)\n",
    "\n",
    "\n",
    "total_summaries = len(df)\n",
    "\n",
    "approach_percentages = {approach: (count / total_summaries) * 100 for approach, count in approach_counts.items()}\n",
    "compression_rate_percentages = {rate: (count / total_summaries) * 100 for rate, count in compression_rate_counts.items()}\n",
    "\n",
    "for approach, percentage in approach_percentages.items():\n",
    "    print(f\"The approach {approach} was used for {percentage:.2f}% of the summaries.\")\n",
    "\n",
    "for rate, percentage in compression_rate_percentages.items():\n",
    "    print(f\"The compression rate {rate} was used for {percentage:.2f}% of the summaries.\")"
   ]
  },
  {
   "cell_type": "code",
   "execution_count": 5,
   "metadata": {},
   "outputs": [
    {
     "data": {
      "text/html": [
       "<div>\n",
       "<style scoped>\n",
       "    .dataframe tbody tr th:only-of-type {\n",
       "        vertical-align: middle;\n",
       "    }\n",
       "\n",
       "    .dataframe tbody tr th {\n",
       "        vertical-align: top;\n",
       "    }\n",
       "\n",
       "    .dataframe thead th {\n",
       "        text-align: right;\n",
       "    }\n",
       "</style>\n",
       "<table border=\"1\" class=\"dataframe\">\n",
       "  <thead>\n",
       "    <tr style=\"text-align: right;\">\n",
       "      <th></th>\n",
       "      <th>Text</th>\n",
       "      <th>Class</th>\n",
       "      <th>Summary</th>\n",
       "    </tr>\n",
       "  </thead>\n",
       "  <tbody>\n",
       "    <tr>\n",
       "      <th>0</th>\n",
       "      <td>I have heard nothing from the Ambassador about...</td>\n",
       "      <td>Political speech</td>\n",
       "      <td>I fully covered, in my conference last week, m...</td>\n",
       "    </tr>\n",
       "    <tr>\n",
       "      <th>1</th>\n",
       "      <td>I think it is in the public interest to procee...</td>\n",
       "      <td>Political speech</td>\n",
       "      <td>I think it is in the public interest to procee...</td>\n",
       "    </tr>\n",
       "    <tr>\n",
       "      <th>2</th>\n",
       "      <td>The A-11 aircraft now at Edwards Air force Bas...</td>\n",
       "      <td>Political speech</td>\n",
       "      <td>The development of a supersonic commercial tra...</td>\n",
       "    </tr>\n",
       "    <tr>\n",
       "      <th>3</th>\n",
       "      <td>It is one of the most comprehensive bills in t...</td>\n",
       "      <td>Political speech</td>\n",
       "      <td>I hope that we can work toward the goal of som...</td>\n",
       "    </tr>\n",
       "    <tr>\n",
       "      <th>4</th>\n",
       "      <td>So long as there remains a man without a job, ...</td>\n",
       "      <td>Political speech</td>\n",
       "      <td>But while we pursue these unfinished tasks at ...</td>\n",
       "    </tr>\n",
       "  </tbody>\n",
       "</table>\n",
       "</div>"
      ],
      "text/plain": [
       "                                                Text             Class  \\\n",
       "0  I have heard nothing from the Ambassador about...  Political speech   \n",
       "1  I think it is in the public interest to procee...  Political speech   \n",
       "2  The A-11 aircraft now at Edwards Air force Bas...  Political speech   \n",
       "3  It is one of the most comprehensive bills in t...  Political speech   \n",
       "4  So long as there remains a man without a job, ...  Political speech   \n",
       "\n",
       "                                             Summary  \n",
       "0  I fully covered, in my conference last week, m...  \n",
       "1  I think it is in the public interest to procee...  \n",
       "2  The development of a supersonic commercial tra...  \n",
       "3  I hope that we can work toward the goal of som...  \n",
       "4  But while we pursue these unfinished tasks at ...  "
      ]
     },
     "execution_count": 5,
     "metadata": {},
     "output_type": "execute_result"
    }
   ],
   "source": [
    "df.head()"
   ]
  },
  {
   "cell_type": "code",
   "execution_count": 6,
   "metadata": {},
   "outputs": [
    {
     "name": "stdout",
     "output_type": "stream",
     "text": [
      "DataFrame saved as CSV file at: ../data/Blogs_result//blogsresult_refsummarys.csv\n"
     ]
    }
   ],
   "source": [
    "import pandas as pd\n",
    "\n",
    "folder_path = '../data/Blogs_result/'\n",
    "\n",
    "file_name = 'blogsresult_refsummarys.csv'\n",
    "\n",
    "file_path = folder_path + '/' + file_name\n",
    "\n",
    "df.to_csv(file_path, index=False)\n",
    "\n",
    "print(f\"DataFrame saved as CSV file at: {file_path}\")"
   ]
  }
 ],
 "metadata": {
  "kernelspec": {
   "display_name": "myenv",
   "language": "python",
   "name": "python3"
  },
  "language_info": {
   "codemirror_mode": {
    "name": "ipython",
    "version": 3
   },
   "file_extension": ".py",
   "mimetype": "text/x-python",
   "name": "python",
   "nbconvert_exporter": "python",
   "pygments_lexer": "ipython3",
   "version": "3.9.5"
  },
  "orig_nbformat": 4
 },
 "nbformat": 4,
 "nbformat_minor": 2
}
