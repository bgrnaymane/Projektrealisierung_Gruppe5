{
 "cells": [
  {
   "cell_type": "code",
   "execution_count": 1,
   "metadata": {},
   "outputs": [],
   "source": [
    "import numpy as np # linear algebra\n",
    "import pandas as pd # data processing, CSV file I/O (e.g. pd.read_csv)\n",
    "import os\n",
    "import glob\n",
    "import matplotlib.pyplot as plt\n",
    "import seaborn as sn\n",
    "from sklearn.feature_extraction.text import CountVectorizer, TfidfVectorizer, TfidfTransformer\n",
    "from sklearn.naive_bayes import MultinomialNB\n",
    "from sklearn.tree import DecisionTreeClassifier\n",
    "from sklearn.ensemble import RandomForestClassifier\n",
    "from sklearn.metrics import confusion_matrix\n",
    "from sklearn.model_selection import train_test_split\n",
    "from sklearn.pipeline import Pipeline\n",
    "from sklearn.svm import SVC\n",
    "from sklearn.metrics import classification_report\n",
    "from sklearn.feature_extraction.text import TfidfVectorizer\n",
    "from sklearn.model_selection import train_test_split\n",
    "from sklearn.neighbors import KNeighborsClassifier\n",
    "from sklearn.metrics import accuracy_score"
   ]
  },
  {
   "cell_type": "code",
   "execution_count": 2,
   "metadata": {},
   "outputs": [],
   "source": [
    "df_all_random = pd.read_csv(\"../data/BBC_News_Summary/Merged_df/merged_df.csv\")"
   ]
  },
  {
   "cell_type": "code",
   "execution_count": 3,
   "metadata": {},
   "outputs": [
    {
     "name": "stdout",
     "output_type": "stream",
     "text": [
      "Text\n",
      "Category\n"
     ]
    }
   ],
   "source": [
    "columns = df_all_random.columns\n",
    "\n",
    "for column in columns:\n",
    "    print(column)"
   ]
  },
  {
   "cell_type": "code",
   "execution_count": 4,
   "metadata": {},
   "outputs": [],
   "source": [
    "df_all_random['Text'].fillna('', inplace=True)"
   ]
  },
  {
   "attachments": {},
   "cell_type": "markdown",
   "metadata": {},
   "source": [
    "# Verteilung der Kategorien"
   ]
  },
  {
   "cell_type": "code",
   "execution_count": 5,
   "metadata": {},
   "outputs": [
    {
     "name": "stdout",
     "output_type": "stream",
     "text": [
      "Index(['business', 'entertainment', 'politics', 'sport', 'tech'], dtype='object', name='Category')\n"
     ]
    },
    {
     "data": {
      "image/png": "[encoded data removed]",
      "text/plain": [
       "<Figure size 500x500 with 1 Axes>"
      ]
     },
     "metadata": {},
     "output_type": "display_data"
    }
   ],
   "source": [
    "label_count = df_all_random['Category'].value_counts()\n",
    "\n",
    "print(label_count.index)\n",
    "\n",
    "plt.figure(figsize=(5,5))\n",
    "plt.pie(label_count.values, labels=label_count.index)\n",
    "plt.title('Classes proportions')\n",
    "plt.show()"
   ]
  },
  {
   "attachments": {},
   "cell_type": "markdown",
   "metadata": {},
   "source": [
    "# Modelltraining: SVM"
   ]
  },
  {
   "cell_type": "code",
   "execution_count": 6,
   "metadata": {},
   "outputs": [
    {
     "name": "stdout",
     "output_type": "stream",
     "text": [
      "               precision    recall  f1-score   support\n",
      "\n",
      "     business       0.99      0.99      0.99        80\n",
      "entertainment       0.99      1.00      0.99        82\n",
      "     politics       1.00      0.98      0.99        57\n",
      "        sport       1.00      1.00      1.00        80\n",
      "         tech       0.99      0.99      0.99        87\n",
      "\n",
      "     accuracy                           0.99       386\n",
      "    macro avg       0.99      0.99      0.99       386\n",
      " weighted avg       0.99      0.99      0.99       386\n",
      "\n"
     ]
    }
   ],
   "source": [
    "X_train, X_test, y_train, y_test = train_test_split(df_all_random['Text'], df_all_random['Category'], test_size=0.2, random_state=42)\n",
    "\n",
    "vectorizer = TfidfVectorizer()\n",
    "X_train_vectorized = vectorizer.fit_transform(X_train)\n",
    "X_test_vectorized = vectorizer.transform(X_test)\n",
    "\n",
    "svm = SVC()\n",
    "svm.fit(X_train_vectorized, y_train)\n",
    "\n",
    "y_pred = svm.predict(X_test_vectorized)\n",
    "\n",
    "print(classification_report(y_test, y_pred))\n"
   ]
  },
  {
   "attachments": {},
   "cell_type": "markdown",
   "metadata": {},
   "source": [
    "# Modelltraining: K-Nearest Neighbor"
   ]
  },
  {
   "cell_type": "code",
   "execution_count": 8,
   "metadata": {},
   "outputs": [
    {
     "name": "stdout",
     "output_type": "stream",
     "text": [
      "               precision    recall  f1-score   support\n",
      "\n",
      "     business       0.96      0.91      0.94        80\n",
      "entertainment       0.99      0.94      0.96        82\n",
      "     politics       0.86      0.95      0.90        57\n",
      "        sport       0.95      0.99      0.97        80\n",
      "         tech       0.95      0.94      0.95        87\n",
      "\n",
      "     accuracy                           0.95       386\n",
      "    macro avg       0.94      0.95      0.94       386\n",
      " weighted avg       0.95      0.95      0.95       386\n",
      "\n"
     ]
    }
   ],
   "source": [
    "labels = df_all_random['Category']\n",
    "\n",
    "X_train, X_test, y_train, y_test = train_test_split(df_all_random['Text'], labels, test_size=0.2, random_state=42)\n",
    "\n",
    "vectorizer = TfidfVectorizer()\n",
    "X_train_tfidf = vectorizer.fit_transform(X_train)\n",
    "X_test_tfidf = vectorizer.transform(X_test)\n",
    "\n",
    "\n",
    "k = 5 \n",
    "knn_model = KNeighborsClassifier(n_neighbors=k)\n",
    "knn_model.fit(X_train_tfidf, y_train)\n",
    "\n",
    "y_pred = knn_model.predict(X_test_tfidf)\n",
    "\n",
    "print(classification_report(y_test, y_pred))\n"
   ]
  },
  {
   "attachments": {},
   "cell_type": "markdown",
   "metadata": {},
   "source": [
    "# Modelltraining: Naive Bayes"
   ]
  },
  {
   "cell_type": "code",
   "execution_count": 10,
   "metadata": {},
   "outputs": [
    {
     "name": "stdout",
     "output_type": "stream",
     "text": [
      "               precision    recall  f1-score   support\n",
      "\n",
      "     business       1.00      0.89      0.94        80\n",
      "entertainment       1.00      0.90      0.95        82\n",
      "     politics       0.77      0.98      0.86        57\n",
      "        sport       1.00      0.99      0.99        80\n",
      "         tech       0.96      0.98      0.97        87\n",
      "\n",
      "     accuracy                           0.95       386\n",
      "    macro avg       0.94      0.95      0.94       386\n",
      " weighted avg       0.96      0.95      0.95       386\n",
      "\n"
     ]
    }
   ],
   "source": [
    "labels = df_all_random['Category']\n",
    "\n",
    "X_train, X_test, y_train, y_test = train_test_split(df_all_random['Text'], labels, test_size=0.2, random_state=42)\n",
    "\n",
    "vectorizer = TfidfVectorizer()\n",
    "X_train_tfidf = vectorizer.fit_transform(X_train)\n",
    "X_test_tfidf = vectorizer.transform(X_test)\n",
    "\n",
    "naive_bayes_model = MultinomialNB()\n",
    "naive_bayes_model.fit(X_train_tfidf, y_train)\n",
    "\n",
    "y_pred = naive_bayes_model.predict(X_test_tfidf)\n",
    "\n",
    "print(classification_report(y_test, y_pred))\n"
   ]
  }
 ],
 "metadata": {
  "kernelspec": {
   "display_name": ".venv",
   "language": "python",
   "name": "python3"
  },
  "language_info": {
   "codemirror_mode": {
    "name": "ipython",
    "version": 3
   },
   "file_extension": ".py",
   "mimetype": "text/x-python",
   "name": "python",
   "nbconvert_exporter": "python",
   "pygments_lexer": "ipython3",
   "version": "3.9.5"
  },
  "orig_nbformat": 4
 },
 "nbformat": 4,
 "nbformat_minor": 2
}
