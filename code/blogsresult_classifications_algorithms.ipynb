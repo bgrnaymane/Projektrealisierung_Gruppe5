{
 "cells": [
  {
   "cell_type": "code",
   "execution_count": 1,
   "metadata": {},
   "outputs": [],
   "source": [
    "import numpy as np # linear algebra\n",
    "import pandas as pd # data processing, CSV file I/O (e.g. pd.read_csv)\n",
    "import os\n",
    "import glob\n",
    "import matplotlib.pyplot as plt\n",
    "import seaborn as sn\n",
    "from sklearn.feature_extraction.text import CountVectorizer, TfidfVectorizer, TfidfTransformer\n",
    "from sklearn.naive_bayes import MultinomialNB\n",
    "from sklearn.tree import DecisionTreeClassifier\n",
    "from sklearn.ensemble import RandomForestClassifier\n",
    "from sklearn.metrics import confusion_matrix\n",
    "from sklearn.model_selection import train_test_split\n",
    "from sklearn.pipeline import Pipeline\n",
    "from sklearn.svm import SVC\n",
    "from sklearn.metrics import classification_report\n",
    "from sklearn.feature_extraction.text import TfidfVectorizer\n",
    "from sklearn.model_selection import train_test_split\n",
    "from sklearn.neighbors import KNeighborsClassifier\n",
    "from sklearn.metrics import accuracy_score"
   ]
  },
  {
   "cell_type": "code",
   "execution_count": 2,
   "metadata": {},
   "outputs": [],
   "source": [
    "df = pd.read_csv(\"../data/Blogs_result/dataset.csv\")"
   ]
  },
  {
   "cell_type": "code",
   "execution_count": 3,
   "metadata": {},
   "outputs": [
    {
     "name": "stdout",
     "output_type": "stream",
     "text": [
      "Text\n",
      "Class\n"
     ]
    }
   ],
   "source": [
    "columns = df.columns\n",
    "\n",
    "for column in columns:\n",
    "    print(column)"
   ]
  },
  {
   "cell_type": "code",
   "execution_count": 4,
   "metadata": {},
   "outputs": [
    {
     "name": "stdout",
     "output_type": "stream",
     "text": [
      "<class 'pandas.core.frame.DataFrame'>\n",
      "RangeIndex: 4528 entries, 0 to 4527\n",
      "Data columns (total 2 columns):\n",
      " #   Column  Non-Null Count  Dtype \n",
      "---  ------  --------------  ----- \n",
      " 0   Text    4528 non-null   object\n",
      " 1   Class   4528 non-null   object\n",
      "dtypes: object(2)\n",
      "memory usage: 70.9+ KB\n"
     ]
    }
   ],
   "source": [
    "df.info()"
   ]
  },
  {
   "cell_type": "code",
   "execution_count": 6,
   "metadata": {},
   "outputs": [],
   "source": [
    "df['Text'].fillna('', inplace=True)"
   ]
  },
  {
   "attachments": {},
   "cell_type": "markdown",
   "metadata": {},
   "source": [
    "# Verteilung der Kategorien"
   ]
  },
  {
   "cell_type": "code",
   "execution_count": 9,
   "metadata": {},
   "outputs": [
    {
     "name": "stdout",
     "output_type": "stream",
     "text": [
      "Index(['News', 'Blog', 'Literature', 'Political speech', 'Jurisdiction'], dtype='object', name='Class')\n"
     ]
    },
    {
     "data": {
      "image/png": "[encoded data removed]",
      "text/plain": [
       "<Figure size 500x500 with 1 Axes>"
      ]
     },
     "metadata": {},
     "output_type": "display_data"
    }
   ],
   "source": [
    "label_count = df['Class'].value_counts()\n",
    "\n",
    "print(label_count.index)\n",
    "\n",
    "plt.figure(figsize=(5,5))\n",
    "plt.pie(label_count.values, labels=label_count.index)\n",
    "plt.title('Classes proportions')\n",
    "plt.show()"
   ]
  },
  {
   "attachments": {},
   "cell_type": "markdown",
   "metadata": {},
   "source": [
    "# Modelltraining: SVM"
   ]
  },
  {
   "cell_type": "code",
   "execution_count": 11,
   "metadata": {},
   "outputs": [
    {
     "name": "stdout",
     "output_type": "stream",
     "text": [
      "                  precision    recall  f1-score   support\n",
      "\n",
      "            Blog       0.96      0.91      0.94       186\n",
      "    Jurisdiction       0.99      0.99      0.99       156\n",
      "      Literature       0.98      0.97      0.97       180\n",
      "            News       0.93      0.95      0.94       217\n",
      "Political speech       0.95      0.98      0.96       167\n",
      "\n",
      "        accuracy                           0.96       906\n",
      "       macro avg       0.96      0.96      0.96       906\n",
      "    weighted avg       0.96      0.96      0.96       906\n",
      "\n"
     ]
    }
   ],
   "source": [
    "# Split the data into training and testing sets\n",
    "X_train, X_test, y_train, y_test = train_test_split(df['Text'], df['Class'], test_size=0.2, random_state=42)\n",
    "\n",
    "# Vectorize the text data using TF-IDF\n",
    "vectorizer = TfidfVectorizer()\n",
    "X_train_vectorized = vectorizer.fit_transform(X_train)\n",
    "X_test_vectorized = vectorizer.transform(X_test)\n",
    "\n",
    "# Create and train the SVM classifier\n",
    "svm = SVC()\n",
    "svm.fit(X_train_vectorized, y_train)\n",
    "\n",
    "# Make predictions on the test set\n",
    "y_pred = svm.predict(X_test_vectorized)\n",
    "\n",
    "# Evaluate the model\n",
    "print(classification_report(y_test, y_pred))\n"
   ]
  },
  {
   "attachments": {},
   "cell_type": "markdown",
   "metadata": {},
   "source": [
    "# Modelltraining: K-Nearest Neighbor"
   ]
  },
  {
   "cell_type": "code",
   "execution_count": 13,
   "metadata": {},
   "outputs": [
    {
     "name": "stdout",
     "output_type": "stream",
     "text": [
      "                  precision    recall  f1-score   support\n",
      "\n",
      "            Blog       0.87      0.70      0.78       186\n",
      "    Jurisdiction       0.96      0.78      0.86       156\n",
      "      Literature       0.84      0.52      0.64       180\n",
      "            News       0.97      0.64      0.77       217\n",
      "Political speech       0.44      1.00      0.62       167\n",
      "\n",
      "        accuracy                           0.72       906\n",
      "       macro avg       0.82      0.73      0.73       906\n",
      "    weighted avg       0.82      0.72      0.73       906\n",
      "\n"
     ]
    }
   ],
   "source": [
    "labels = df['Class']\n",
    "\n",
    "X_train, X_test, y_train, y_test = train_test_split(df['Text'], labels, test_size=0.2, random_state=42)\n",
    "\n",
    "vectorizer = TfidfVectorizer()\n",
    "X_train_tfidf = vectorizer.fit_transform(X_train)\n",
    "X_test_tfidf = vectorizer.transform(X_test)\n",
    "\n",
    "\n",
    "k = 5 \n",
    "knn_model = KNeighborsClassifier(n_neighbors=k)\n",
    "knn_model.fit(X_train_tfidf, y_train)\n",
    "\n",
    "y_pred = knn_model.predict(X_test_tfidf)\n",
    "\n",
    "print(classification_report(y_test, y_pred))\n"
   ]
  },
  {
   "attachments": {},
   "cell_type": "markdown",
   "metadata": {},
   "source": [
    "# Modelltraining: Naive Bayes"
   ]
  },
  {
   "cell_type": "code",
   "execution_count": 14,
   "metadata": {},
   "outputs": [
    {
     "name": "stdout",
     "output_type": "stream",
     "text": [
      "                  precision    recall  f1-score   support\n",
      "\n",
      "            Blog       1.00      1.00      1.00       186\n",
      "    Jurisdiction       1.00      1.00      1.00       156\n",
      "      Literature       1.00      1.00      1.00       180\n",
      "            News       1.00      1.00      1.00       217\n",
      "Political speech       1.00      1.00      1.00       167\n",
      "\n",
      "        accuracy                           1.00       906\n",
      "       macro avg       1.00      1.00      1.00       906\n",
      "    weighted avg       1.00      1.00      1.00       906\n",
      "\n"
     ]
    }
   ],
   "source": [
    "labels = df['Class']\n",
    "\n",
    "X_train, X_test, y_train, y_test = train_test_split(df['Class'], labels, test_size=0.2, random_state=42)\n",
    "\n",
    "vectorizer = TfidfVectorizer()\n",
    "X_train_tfidf = vectorizer.fit_transform(X_train)\n",
    "X_test_tfidf = vectorizer.transform(X_test)\n",
    "\n",
    "naive_bayes_model = MultinomialNB()\n",
    "naive_bayes_model.fit(X_train_tfidf, y_train)\n",
    "\n",
    "y_pred = naive_bayes_model.predict(X_test_tfidf)\n",
    "\n",
    "print(classification_report(y_test, y_pred))\n"
   ]
  }
 ],
 "metadata": {
  "kernelspec": {
   "display_name": ".venv",
   "language": "python",
   "name": "python3"
  },
  "language_info": {
   "codemirror_mode": {
    "name": "ipython",
    "version": 3
   },
   "file_extension": ".py",
   "mimetype": "text/x-python",
   "name": "python",
   "nbconvert_exporter": "python",
   "pygments_lexer": "ipython3",
   "version": "3.9.5"
  },
  "orig_nbformat": 4
 },
 "nbformat": 4,
 "nbformat_minor": 2
}
