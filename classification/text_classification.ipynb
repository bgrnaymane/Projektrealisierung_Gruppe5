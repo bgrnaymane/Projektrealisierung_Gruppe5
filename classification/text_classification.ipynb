{
 "cells": [
  {
   "attachments": {},
   "cell_type": "markdown",
   "metadata": {},
   "source": [
    "# Imports"
   ]
  },
  {
   "cell_type": "code",
   "execution_count": 1,
   "metadata": {},
   "outputs": [],
   "source": [
    "import pandas as pd\n",
    "import numpy as np\n",
    "import os\n",
    "import spacy\n",
    "from collections import Counter\n",
    "\n",
    "\n",
    "import torch\n",
    "from torch.utils.data import TensorDataset, DataLoader, RandomSampler, SequentialSampler\n",
    "from transformers import BertTokenizer, BertForSequenceClassification\n",
    "from sklearn.model_selection import train_test_split\n",
    "\n",
    "\n",
    "import matplotlib.pyplot as plt\n",
    "import numpy as np\n",
    "import tensorflow as tf\n",
    "\n",
    "import tensorflow_datasets as tfds\n",
    "import pickle\n",
    "\n",
    "import pandas as pd\n",
    "import numpy as np\n",
    "from nltk.tokenize import word_tokenize\n",
    "from nltk import pos_tag\n",
    "from nltk.corpus import stopwords\n",
    "from nltk.stem import WordNetLemmatizer\n",
    "from sklearn.preprocessing import LabelEncoder\n",
    "from collections import defaultdict\n",
    "from nltk.corpus import wordnet as wn\n",
    "from sklearn.feature_extraction.text import TfidfVectorizer\n",
    "from sklearn import model_selection, naive_bayes, svm\n",
    "from sklearn.metrics import accuracy_score\n",
    "from sklearn.model_selection import GridSearchCV\n",
    "from sklearn.neighbors import KNeighborsClassifier"
   ]
  },
  {
   "attachments": {},
   "cell_type": "markdown",
   "metadata": {},
   "source": [
    "# Read Dataframe"
   ]
  },
  {
   "cell_type": "code",
   "execution_count": 2,
   "metadata": {},
   "outputs": [
    {
     "data": {
      "text/html": [
       "<div>\n",
       "<style scoped>\n",
       "    .dataframe tbody tr th:only-of-type {\n",
       "        vertical-align: middle;\n",
       "    }\n",
       "\n",
       "    .dataframe tbody tr th {\n",
       "        vertical-align: top;\n",
       "    }\n",
       "\n",
       "    .dataframe thead th {\n",
       "        text-align: right;\n",
       "    }\n",
       "</style>\n",
       "<table border=\"1\" class=\"dataframe\">\n",
       "  <thead>\n",
       "    <tr style=\"text-align: right;\">\n",
       "      <th></th>\n",
       "      <th>Text</th>\n",
       "      <th>Class</th>\n",
       "    </tr>\n",
       "  </thead>\n",
       "  <tbody>\n",
       "    <tr>\n",
       "      <th>0</th>\n",
       "      <td>I have heard nothing from the Ambassador about...</td>\n",
       "      <td>Political speech</td>\n",
       "    </tr>\n",
       "    <tr>\n",
       "      <th>1</th>\n",
       "      <td>I think it is in the public interest to procee...</td>\n",
       "      <td>Political speech</td>\n",
       "    </tr>\n",
       "    <tr>\n",
       "      <th>2</th>\n",
       "      <td>The A-11 aircraft now at Edwards Air force Bas...</td>\n",
       "      <td>Political speech</td>\n",
       "    </tr>\n",
       "    <tr>\n",
       "      <th>3</th>\n",
       "      <td>It is one of the most comprehensive bills in t...</td>\n",
       "      <td>Political speech</td>\n",
       "    </tr>\n",
       "    <tr>\n",
       "      <th>4</th>\n",
       "      <td>So long as there remains a man without a job, ...</td>\n",
       "      <td>Political speech</td>\n",
       "    </tr>\n",
       "  </tbody>\n",
       "</table>\n",
       "</div>"
      ],
      "text/plain": [
       "                                                Text             Class\n",
       "0  I have heard nothing from the Ambassador about...  Political speech\n",
       "1  I think it is in the public interest to procee...  Political speech\n",
       "2  The A-11 aircraft now at Edwards Air force Bas...  Political speech\n",
       "3  It is one of the most comprehensive bills in t...  Political speech\n",
       "4  So long as there remains a man without a job, ...  Political speech"
      ]
     },
     "execution_count": 2,
     "metadata": {},
     "output_type": "execute_result"
    }
   ],
   "source": [
    "# Read the created dataset\n",
    "df = pd.read_csv('../data/Result/dataset.csv')\n",
    "\n",
    "# Print the first rows of the dataset\n",
    "df.head()"
   ]
  },
  {
   "attachments": {},
   "cell_type": "markdown",
   "metadata": {},
   "source": [
    "# Data Preprocessing"
   ]
  },
  {
   "cell_type": "code",
   "execution_count": null,
   "metadata": {},
   "outputs": [],
   "source": [
    "# https://spacy.io/usage\n",
    "!python -m spacy download en_core_web_sm"
   ]
  },
  {
   "cell_type": "code",
   "execution_count": 3,
   "metadata": {},
   "outputs": [
    {
     "name": "stderr",
     "output_type": "stream",
     "text": [
      "/Library/Frameworks/Python.framework/Versions/3.10/lib/python3.10/site-packages/spacy/util.py:910: UserWarning: [W095] Model 'en_core_web_sm' (3.4.1) was trained with spaCy v3.4 and may not be 100% compatible with the current version (3.6.0). If you see errors or degraded performance, download a newer compatible model or retrain your custom model with the current spaCy version. For more details and available updates, run: python -m spacy validate\n",
      "  warnings.warn(warn_msg)\n"
     ]
    }
   ],
   "source": [
    "# Load the spacy model\n",
    "nlp = spacy.load(\"en_core_web_sm\")"
   ]
  },
  {
   "cell_type": "code",
   "execution_count": 4,
   "metadata": {},
   "outputs": [
    {
     "data": {
      "text/plain": [
       "Counter({'Political speech': 797,\n",
       "         'News': 1001,\n",
       "         'Jurisdiction': 780,\n",
       "         'Literature': 952,\n",
       "         'Blog': 998})"
      ]
     },
     "execution_count": 4,
     "metadata": {},
     "output_type": "execute_result"
    }
   ],
   "source": [
    "# Count the number of texts for the different classes\n",
    "class_counts = Counter(df['Class'])\n",
    "class_counts"
   ]
  },
  {
   "cell_type": "code",
   "execution_count": 5,
   "metadata": {},
   "outputs": [
    {
     "data": {
      "image/png": "[encoded data removed]",
      "text/plain": [
       "<Figure size 432x288 with 1 Axes>"
      ]
     },
     "metadata": {
      "needs_background": "light"
     },
     "output_type": "display_data"
    }
   ],
   "source": [
    "# Show current occurences of the different classes in the dataframe\n",
    "plt.bar(class_counts.keys(), class_counts.values())\n",
    "plt.xlabel('Classes')\n",
    "plt.ylabel('Count')\n",
    "plt.title('Number of Occurrences per Class')\n",
    "plt.show()"
   ]
  },
  {
   "attachments": {},
   "cell_type": "markdown",
   "metadata": {},
   "source": [
    "## Balancing the dataset"
   ]
  },
  {
   "cell_type": "code",
   "execution_count": 6,
   "metadata": {},
   "outputs": [],
   "source": [
    "# Get minimum number of occurences\n",
    "min_count = min(class_counts.values())\n",
    "\n",
    "df_balanced = pd.DataFrame()\n",
    "\n",
    "# Iterate over all classes\n",
    "for category in class_counts.keys():\n",
    "    # Get a random sample of the category, so it gets downsampled based on the minimum count of occurences\n",
    "    category_subset = df[df['Class'] == category].sample(n=min_count, random_state=42, ignore_index=True)\n",
    "    df_balanced =pd.concat([category_subset, df_balanced], ignore_index=True)"
   ]
  },
  {
   "cell_type": "code",
   "execution_count": 7,
   "metadata": {},
   "outputs": [
    {
     "data": {
      "image/png": "[encoded data removed]",
      "text/plain": [
       "<Figure size 432x288 with 1 Axes>"
      ]
     },
     "metadata": {
      "needs_background": "light"
     },
     "output_type": "display_data"
    }
   ],
   "source": [
    "class_counts_balanced = Counter(df_balanced['Class'])\n",
    "\n",
    "# Show occurences of the different classes in the balanced dataframe\n",
    "plt.bar(class_counts_balanced.keys(), class_counts_balanced.values())\n",
    "plt.xlabel('Classes')\n",
    "plt.ylabel('Count')\n",
    "plt.title('Number of Occurrences per Class')\n",
    "plt.show()"
   ]
  },
  {
   "cell_type": "code",
   "execution_count": 8,
   "metadata": {},
   "outputs": [],
   "source": [
    "# Dictionary for converting the classes to numeric representation for the usage in the model\n",
    "classes_mapping = {\n",
    "    'Literature': 0,\n",
    "    'News': 1,\n",
    "    'Blog': 2,\n",
    "    'Political speech': 3,\n",
    "    'Jurisdiction': 4\n",
    "}\n",
    "\n",
    "df_balanced = df_balanced.replace({\"Class\": classes_mapping})"
   ]
  },
  {
   "cell_type": "code",
   "execution_count": 9,
   "metadata": {},
   "outputs": [
    {
     "data": {
      "text/html": [
       "<div>\n",
       "<style scoped>\n",
       "    .dataframe tbody tr th:only-of-type {\n",
       "        vertical-align: middle;\n",
       "    }\n",
       "\n",
       "    .dataframe tbody tr th {\n",
       "        vertical-align: top;\n",
       "    }\n",
       "\n",
       "    .dataframe thead th {\n",
       "        text-align: right;\n",
       "    }\n",
       "</style>\n",
       "<table border=\"1\" class=\"dataframe\">\n",
       "  <thead>\n",
       "    <tr style=\"text-align: right;\">\n",
       "      <th></th>\n",
       "      <th>Text</th>\n",
       "      <th>Class</th>\n",
       "    </tr>\n",
       "  </thead>\n",
       "  <tbody>\n",
       "    <tr>\n",
       "      <th>0</th>\n",
       "      <td>Then she said, 'Can you come in today at 4 p.m...</td>\n",
       "      <td>2</td>\n",
       "    </tr>\n",
       "    <tr>\n",
       "      <th>1</th>\n",
       "      <td>The city of San Francisco, gay capital of Amer...</td>\n",
       "      <td>2</td>\n",
       "    </tr>\n",
       "    <tr>\n",
       "      <th>2</th>\n",
       "      <td>After recess was Social Studies for 2 periods....</td>\n",
       "      <td>2</td>\n",
       "    </tr>\n",
       "    <tr>\n",
       "      <th>3</th>\n",
       "      <td>The thought of having three to precept and bri...</td>\n",
       "      <td>2</td>\n",
       "    </tr>\n",
       "    <tr>\n",
       "      <th>4</th>\n",
       "      <td>Nobody ever took me aside and said 'hey, you a...</td>\n",
       "      <td>2</td>\n",
       "    </tr>\n",
       "  </tbody>\n",
       "</table>\n",
       "</div>"
      ],
      "text/plain": [
       "                                                Text  Class\n",
       "0  Then she said, 'Can you come in today at 4 p.m...      2\n",
       "1  The city of San Francisco, gay capital of Amer...      2\n",
       "2  After recess was Social Studies for 2 periods....      2\n",
       "3  The thought of having three to precept and bri...      2\n",
       "4  Nobody ever took me aside and said 'hey, you a...      2"
      ]
     },
     "execution_count": 9,
     "metadata": {},
     "output_type": "execute_result"
    }
   ],
   "source": [
    "df_balanced.head()"
   ]
  },
  {
   "attachments": {},
   "cell_type": "markdown",
   "metadata": {},
   "source": [
    "## Further Preprocessing\n",
    "Quelle: https://medium.com/@bedigunjit/simple-guide-to-text-classification-nlp-using-svm-and-naive-bayes-with-python-421db3a72d34"
   ]
  },
  {
   "cell_type": "code",
   "execution_count": 39,
   "metadata": {},
   "outputs": [],
   "source": [
    "raw_text = df_balanced['Text']\n",
    "# Change to lowercase\n",
    "modified_text = [entry.lower() for entry in raw_text]\n",
    "# Tokenization\n",
    "modified_text = [word_tokenize(entry) for entry in modified_text]\n",
    "\n",
    "preprocessed_text = []\n",
    "\n",
    "# WordNetLemmatizer requires Pos tags to understand if the word is noun or verb or adjective etc. By default it is set to Noun\n",
    "tag_map = defaultdict(lambda : wn.NOUN)\n",
    "tag_map['J'] = wn.ADJ\n",
    "tag_map['V'] = wn.VERB\n",
    "tag_map['R'] = wn.ADV\n",
    "for index,entry in enumerate(modified_text):\n",
    "    Final_words = []\n",
    "    word_Lemmatized = WordNetLemmatizer()\n",
    "    for word, tag in pos_tag(entry):\n",
    "        if word not in stopwords.words('english') and word.isalpha():\n",
    "            word_Final = word_Lemmatized.lemmatize(word,tag_map[tag[0]])\n",
    "            Final_words.append(word_Final)\n",
    "    preprocessed_text.append(str(Final_words))\n"
   ]
  },
  {
   "cell_type": "code",
   "execution_count": 40,
   "metadata": {},
   "outputs": [],
   "source": [
    "Train_X, Test_X, Train_Y, Test_Y = model_selection.train_test_split(preprocessed_text, df_balanced['Class'],test_size=0.2, random_state=42)"
   ]
  },
  {
   "cell_type": "code",
   "execution_count": 41,
   "metadata": {},
   "outputs": [],
   "source": [
    "# Transformation of the text data into vectors, so that the models can process the data\n",
    "Tfidf_vect = TfidfVectorizer()\n",
    "Tfidf_vect.fit(preprocessed_text)\n",
    "Train_X_Tfidf = Tfidf_vect.transform(Train_X)\n",
    "Test_X_Tfidf = Tfidf_vect.transform(Test_X)"
   ]
  },
  {
   "cell_type": "code",
   "execution_count": 52,
   "metadata": {},
   "outputs": [],
   "source": [
    "# Save the TF-IDF Vectorizer for further usage (https://docs.python.org/3/library/pickle.html)\n",
    "\n",
    "filename = './vectorizers/tfidf-vectorizer.sav'\n",
    "pickle.dump(Tfidf_vect, open(filename, 'wb'))"
   ]
  },
  {
   "attachments": {},
   "cell_type": "markdown",
   "metadata": {},
   "source": [
    "# Model creation and evaluation"
   ]
  },
  {
   "attachments": {},
   "cell_type": "markdown",
   "metadata": {},
   "source": [
    "## Naive Bayes Classification\n",
    "Source: https://medium.com/@bedigunjit/simple-guide-to-text-classification-nlp-using-svm-and-naive-bayes-with-python-421db3a72d34"
   ]
  },
  {
   "cell_type": "code",
   "execution_count": 58,
   "metadata": {},
   "outputs": [
    {
     "name": "stdout",
     "output_type": "stream",
     "text": [
      "Naive Bayes Accuracy Score ->  90.0 %\n"
     ]
    }
   ],
   "source": [
    "model_naive = naive_bayes.MultinomialNB()\n",
    "model_naive.fit(Train_X_Tfidf,Train_Y)\n",
    "\n",
    "# predict the labels on test dataset\n",
    "predictions_NB = model_naive.predict(Test_X_Tfidf)\n",
    "\n",
    "naive_score = accuracy_score(predictions_NB, Test_Y)*100\n",
    "\n",
    "# Use accuracy_score function to get the accuracy\n",
    "print(\"Naive Bayes Accuracy Score -> \", naive_score, \"%\")"
   ]
  },
  {
   "attachments": {},
   "cell_type": "markdown",
   "metadata": {},
   "source": [
    "## SVM Classification\n",
    "Source: https://medium.com/@bedigunjit/simple-guide-to-text-classification-nlp-using-svm-and-naive-bayes-with-python-421db3a72d34, https://www.codingninjas.com/studio/library/svm-hyperparameter-tuning-using-gridsearchcv"
   ]
  },
  {
   "cell_type": "code",
   "execution_count": 55,
   "metadata": {},
   "outputs": [
    {
     "name": "stdout",
     "output_type": "stream",
     "text": [
      "Fitting 3 folds for each of 64 candidates, totalling 192 fits\n",
      "[CV 1/3] END .......C=0.1, gamma=1, kernel=poly;, score=0.205 total time=  36.9s\n",
      "[CV 2/3] END .......C=0.1, gamma=1, kernel=poly;, score=0.278 total time=  38.3s\n",
      "[CV 3/3] END .......C=0.1, gamma=1, kernel=poly;, score=0.207 total time=  41.3s\n",
      "[CV 1/3] END ........C=0.1, gamma=1, kernel=rbf;, score=0.460 total time=  41.4s\n",
      "[CV 2/3] END ........C=0.1, gamma=1, kernel=rbf;, score=0.587 total time=  39.7s\n",
      "[CV 3/3] END ........C=0.1, gamma=1, kernel=rbf;, score=0.516 total time=  40.1s\n",
      "[CV 1/3] END ....C=0.1, gamma=1, kernel=sigmoid;, score=0.902 total time=  32.3s\n",
      "[CV 2/3] END ....C=0.1, gamma=1, kernel=sigmoid;, score=0.902 total time=  31.4s\n",
      "[CV 3/3] END ....C=0.1, gamma=1, kernel=sigmoid;, score=0.894 total time=  31.1s\n",
      "[CV 1/3] END .....C=0.1, gamma=1, kernel=linear;, score=0.902 total time=  32.2s\n",
      "[CV 2/3] END .....C=0.1, gamma=1, kernel=linear;, score=0.902 total time=  31.9s\n",
      "[CV 3/3] END .....C=0.1, gamma=1, kernel=linear;, score=0.894 total time=  40.7s\n",
      "[CV 1/3] END .....C=0.1, gamma=0.1, kernel=poly;, score=0.203 total time=  38.0s\n",
      "[CV 2/3] END .....C=0.1, gamma=0.1, kernel=poly;, score=0.276 total time=  36.4s\n",
      "[CV 3/3] END .....C=0.1, gamma=0.1, kernel=poly;, score=0.203 total time=  37.9s\n",
      "[CV 1/3] END ......C=0.1, gamma=0.1, kernel=rbf;, score=0.204 total time=  40.0s\n",
      "[CV 2/3] END ......C=0.1, gamma=0.1, kernel=rbf;, score=0.394 total time=  39.4s\n",
      "[CV 3/3] END ......C=0.1, gamma=0.1, kernel=rbf;, score=0.203 total time=  39.5s\n",
      "[CV 1/3] END ..C=0.1, gamma=0.1, kernel=sigmoid;, score=0.203 total time=  40.0s\n",
      "[CV 2/3] END ..C=0.1, gamma=0.1, kernel=sigmoid;, score=0.393 total time=  36.7s\n",
      "[CV 3/3] END ..C=0.1, gamma=0.1, kernel=sigmoid;, score=0.203 total time=  37.0s\n",
      "[CV 1/3] END ...C=0.1, gamma=0.1, kernel=linear;, score=0.902 total time=  33.4s\n",
      "[CV 2/3] END ...C=0.1, gamma=0.1, kernel=linear;, score=0.902 total time=  33.1s\n",
      "[CV 3/3] END ...C=0.1, gamma=0.1, kernel=linear;, score=0.894 total time=  32.4s\n",
      "[CV 1/3] END ....C=0.1, gamma=0.01, kernel=poly;, score=0.203 total time=  36.6s\n",
      "[CV 2/3] END ....C=0.1, gamma=0.01, kernel=poly;, score=0.276 total time=  36.2s\n",
      "[CV 3/3] END ....C=0.1, gamma=0.01, kernel=poly;, score=0.203 total time=  36.2s\n",
      "[CV 1/3] END .....C=0.1, gamma=0.01, kernel=rbf;, score=0.203 total time=  39.9s\n",
      "[CV 2/3] END .....C=0.1, gamma=0.01, kernel=rbf;, score=0.393 total time=  39.3s\n",
      "[CV 3/3] END .....C=0.1, gamma=0.01, kernel=rbf;, score=0.203 total time=  39.5s\n",
      "[CV 1/3] END .C=0.1, gamma=0.01, kernel=sigmoid;, score=0.203 total time=  36.4s\n",
      "[CV 2/3] END .C=0.1, gamma=0.01, kernel=sigmoid;, score=0.393 total time=  37.0s\n",
      "[CV 3/3] END .C=0.1, gamma=0.01, kernel=sigmoid;, score=0.203 total time=  36.3s\n",
      "[CV 1/3] END ..C=0.1, gamma=0.01, kernel=linear;, score=0.902 total time=  32.0s\n",
      "[CV 2/3] END ..C=0.1, gamma=0.01, kernel=linear;, score=0.902 total time=  31.6s\n",
      "[CV 3/3] END ..C=0.1, gamma=0.01, kernel=linear;, score=0.894 total time=  31.3s\n",
      "[CV 1/3] END ...C=0.1, gamma=0.001, kernel=poly;, score=0.203 total time=  37.1s\n",
      "[CV 2/3] END ...C=0.1, gamma=0.001, kernel=poly;, score=0.276 total time=  46.3s\n",
      "[CV 3/3] END ...C=0.1, gamma=0.001, kernel=poly;, score=0.203 total time=  36.2s\n",
      "[CV 1/3] END ....C=0.1, gamma=0.001, kernel=rbf;, score=0.203 total time=  39.5s\n",
      "[CV 2/3] END ....C=0.1, gamma=0.001, kernel=rbf;, score=0.393 total time=  39.3s\n",
      "[CV 3/3] END ....C=0.1, gamma=0.001, kernel=rbf;, score=0.203 total time=  39.4s\n",
      "[CV 1/3] END C=0.1, gamma=0.001, kernel=sigmoid;, score=0.203 total time=  36.5s\n",
      "[CV 2/3] END C=0.1, gamma=0.001, kernel=sigmoid;, score=0.393 total time=  35.9s\n",
      "[CV 3/3] END C=0.1, gamma=0.001, kernel=sigmoid;, score=0.203 total time=  36.0s\n",
      "[CV 1/3] END .C=0.1, gamma=0.001, kernel=linear;, score=0.902 total time=  31.7s\n",
      "[CV 2/3] END .C=0.1, gamma=0.001, kernel=linear;, score=0.902 total time=  31.4s\n",
      "[CV 3/3] END .C=0.1, gamma=0.001, kernel=linear;, score=0.894 total time=  31.2s\n",
      "[CV 1/3] END .........C=1, gamma=1, kernel=poly;, score=0.757 total time=  36.3s\n",
      "[CV 2/3] END .........C=1, gamma=1, kernel=poly;, score=0.771 total time=  36.0s\n",
      "[CV 3/3] END .........C=1, gamma=1, kernel=poly;, score=0.775 total time=  36.0s\n",
      "[CV 1/3] END ..........C=1, gamma=1, kernel=rbf;, score=0.946 total time=  37.0s\n",
      "[CV 2/3] END ..........C=1, gamma=1, kernel=rbf;, score=0.937 total time=  36.9s\n",
      "[CV 3/3] END ..........C=1, gamma=1, kernel=rbf;, score=0.931 total time=  36.6s\n",
      "[CV 1/3] END ......C=1, gamma=1, kernel=sigmoid;, score=0.957 total time=  20.6s\n",
      "[CV 2/3] END ......C=1, gamma=1, kernel=sigmoid;, score=0.949 total time=  20.2s\n",
      "[CV 3/3] END ......C=1, gamma=1, kernel=sigmoid;, score=0.943 total time=  19.7s\n",
      "[CV 1/3] END .......C=1, gamma=1, kernel=linear;, score=0.958 total time=  24.1s\n",
      "[CV 2/3] END .......C=1, gamma=1, kernel=linear;, score=0.956 total time=  23.5s\n",
      "[CV 3/3] END .......C=1, gamma=1, kernel=linear;, score=0.946 total time=  23.5s\n",
      "[CV 1/3] END .......C=1, gamma=0.1, kernel=poly;, score=0.203 total time=  36.2s\n",
      "[CV 2/3] END .......C=1, gamma=0.1, kernel=poly;, score=0.276 total time=  35.7s\n",
      "[CV 3/3] END .......C=1, gamma=0.1, kernel=poly;, score=0.203 total time=  35.9s\n",
      "[CV 1/3] END ........C=1, gamma=0.1, kernel=rbf;, score=0.924 total time=  30.8s\n",
      "[CV 2/3] END ........C=1, gamma=0.1, kernel=rbf;, score=0.925 total time=  30.0s\n",
      "[CV 3/3] END ........C=1, gamma=0.1, kernel=rbf;, score=0.912 total time=  29.9s\n",
      "[CV 1/3] END ....C=1, gamma=0.1, kernel=sigmoid;, score=0.902 total time=  31.3s\n",
      "[CV 2/3] END ....C=1, gamma=0.1, kernel=sigmoid;, score=0.902 total time=  31.0s\n",
      "[CV 3/3] END ....C=1, gamma=0.1, kernel=sigmoid;, score=0.894 total time=  30.8s\n",
      "[CV 1/3] END .....C=1, gamma=0.1, kernel=linear;, score=0.958 total time=  23.8s\n",
      "[CV 2/3] END .....C=1, gamma=0.1, kernel=linear;, score=0.956 total time=  23.3s\n",
      "[CV 3/3] END .....C=1, gamma=0.1, kernel=linear;, score=0.946 total time=  23.4s\n",
      "[CV 1/3] END ......C=1, gamma=0.01, kernel=poly;, score=0.203 total time=  35.5s\n",
      "[CV 2/3] END ......C=1, gamma=0.01, kernel=poly;, score=0.276 total time=  35.4s\n",
      "[CV 3/3] END ......C=1, gamma=0.01, kernel=poly;, score=0.203 total time=  35.1s\n",
      "[CV 1/3] END .......C=1, gamma=0.01, kernel=rbf;, score=0.209 total time=  39.1s\n",
      "[CV 2/3] END .......C=1, gamma=0.01, kernel=rbf;, score=0.404 total time=  38.5s\n",
      "[CV 3/3] END .......C=1, gamma=0.01, kernel=rbf;, score=0.215 total time=  38.7s\n",
      "[CV 1/3] END ...C=1, gamma=0.01, kernel=sigmoid;, score=0.203 total time=  36.3s\n",
      "[CV 2/3] END ...C=1, gamma=0.01, kernel=sigmoid;, score=0.393 total time=  35.7s\n",
      "[CV 3/3] END ...C=1, gamma=0.01, kernel=sigmoid;, score=0.203 total time=  35.8s\n",
      "[CV 1/3] END ....C=1, gamma=0.01, kernel=linear;, score=0.958 total time=  24.1s\n",
      "[CV 2/3] END ....C=1, gamma=0.01, kernel=linear;, score=0.956 total time=  23.4s\n",
      "[CV 3/3] END ....C=1, gamma=0.01, kernel=linear;, score=0.946 total time=  24.0s\n",
      "[CV 1/3] END .....C=1, gamma=0.001, kernel=poly;, score=0.203 total time=  41.9s\n",
      "[CV 2/3] END .....C=1, gamma=0.001, kernel=poly;, score=0.276 total time=  37.8s\n",
      "[CV 3/3] END .....C=1, gamma=0.001, kernel=poly;, score=0.203 total time=  36.2s\n",
      "[CV 1/3] END ......C=1, gamma=0.001, kernel=rbf;, score=0.203 total time=  40.2s\n",
      "[CV 2/3] END ......C=1, gamma=0.001, kernel=rbf;, score=0.393 total time=  39.6s\n",
      "[CV 3/3] END ......C=1, gamma=0.001, kernel=rbf;, score=0.203 total time=  39.8s\n",
      "[CV 1/3] END ..C=1, gamma=0.001, kernel=sigmoid;, score=0.203 total time=  36.8s\n",
      "[CV 2/3] END ..C=1, gamma=0.001, kernel=sigmoid;, score=0.393 total time=  36.1s\n",
      "[CV 3/3] END ..C=1, gamma=0.001, kernel=sigmoid;, score=0.203 total time=  37.5s\n",
      "[CV 1/3] END ...C=1, gamma=0.001, kernel=linear;, score=0.958 total time=  24.2s\n",
      "[CV 2/3] END ...C=1, gamma=0.001, kernel=linear;, score=0.956 total time=  24.3s\n",
      "[CV 3/3] END ...C=1, gamma=0.001, kernel=linear;, score=0.946 total time=  24.1s\n",
      "[CV 1/3] END ........C=10, gamma=1, kernel=poly;, score=0.770 total time=  37.2s\n",
      "[CV 2/3] END ........C=10, gamma=1, kernel=poly;, score=0.785 total time=  37.2s\n",
      "[CV 3/3] END ........C=10, gamma=1, kernel=poly;, score=0.790 total time=  43.5s\n",
      "[CV 1/3] END .........C=10, gamma=1, kernel=rbf;, score=0.948 total time=  38.0s\n",
      "[CV 2/3] END .........C=10, gamma=1, kernel=rbf;, score=0.944 total time=  37.5s\n",
      "[CV 3/3] END .........C=10, gamma=1, kernel=rbf;, score=0.938 total time=  37.3s\n",
      "[CV 1/3] END .....C=10, gamma=1, kernel=sigmoid;, score=0.959 total time=  21.8s\n",
      "[CV 2/3] END .....C=10, gamma=1, kernel=sigmoid;, score=0.964 total time=  21.9s\n",
      "[CV 3/3] END .....C=10, gamma=1, kernel=sigmoid;, score=0.948 total time=  21.9s\n",
      "[CV 1/3] END ......C=10, gamma=1, kernel=linear;, score=0.957 total time=  25.5s\n",
      "[CV 2/3] END ......C=10, gamma=1, kernel=linear;, score=0.960 total time=  25.1s\n",
      "[CV 3/3] END ......C=10, gamma=1, kernel=linear;, score=0.946 total time=  33.2s\n",
      "[CV 1/3] END ......C=10, gamma=0.1, kernel=poly;, score=0.203 total time=  38.0s\n",
      "[CV 2/3] END ......C=10, gamma=0.1, kernel=poly;, score=0.276 total time=  37.3s\n",
      "[CV 3/3] END ......C=10, gamma=0.1, kernel=poly;, score=0.203 total time=  37.9s\n",
      "[CV 1/3] END .......C=10, gamma=0.1, kernel=rbf;, score=0.958 total time=  28.5s\n",
      "[CV 2/3] END .......C=10, gamma=0.1, kernel=rbf;, score=0.958 total time=  28.5s\n",
      "[CV 3/3] END .......C=10, gamma=0.1, kernel=rbf;, score=0.946 total time=  27.7s\n",
      "[CV 1/3] END ...C=10, gamma=0.1, kernel=sigmoid;, score=0.958 total time=  24.2s\n",
      "[CV 2/3] END ...C=10, gamma=0.1, kernel=sigmoid;, score=0.956 total time=  24.1s\n",
      "[CV 3/3] END ...C=10, gamma=0.1, kernel=sigmoid;, score=0.946 total time=  23.8s\n",
      "[CV 1/3] END ....C=10, gamma=0.1, kernel=linear;, score=0.957 total time=  25.6s\n",
      "[CV 2/3] END ....C=10, gamma=0.1, kernel=linear;, score=0.960 total time=  24.9s\n",
      "[CV 3/3] END ....C=10, gamma=0.1, kernel=linear;, score=0.946 total time=  24.5s\n",
      "[CV 1/3] END .....C=10, gamma=0.01, kernel=poly;, score=0.203 total time=  36.2s\n",
      "[CV 2/3] END .....C=10, gamma=0.01, kernel=poly;, score=0.276 total time=  36.5s\n",
      "[CV 3/3] END .....C=10, gamma=0.01, kernel=poly;, score=0.203 total time=  37.2s\n",
      "[CV 1/3] END ......C=10, gamma=0.01, kernel=rbf;, score=0.929 total time=  29.9s\n",
      "[CV 2/3] END ......C=10, gamma=0.01, kernel=rbf;, score=0.930 total time=  28.9s\n",
      "[CV 3/3] END ......C=10, gamma=0.01, kernel=rbf;, score=0.915 total time=  29.0s\n",
      "[CV 1/3] END ..C=10, gamma=0.01, kernel=sigmoid;, score=0.902 total time=  32.1s\n",
      "[CV 2/3] END ..C=10, gamma=0.01, kernel=sigmoid;, score=0.902 total time=  31.7s\n",
      "[CV 3/3] END ..C=10, gamma=0.01, kernel=sigmoid;, score=0.894 total time=  31.5s\n",
      "[CV 1/3] END ...C=10, gamma=0.01, kernel=linear;, score=0.957 total time=  25.3s\n",
      "[CV 2/3] END ...C=10, gamma=0.01, kernel=linear;, score=0.960 total time=  25.0s\n",
      "[CV 3/3] END ...C=10, gamma=0.01, kernel=linear;, score=0.946 total time=  24.6s\n",
      "[CV 1/3] END ....C=10, gamma=0.001, kernel=poly;, score=0.203 total time=  36.9s\n",
      "[CV 2/3] END ....C=10, gamma=0.001, kernel=poly;, score=0.276 total time=  44.6s\n",
      "[CV 3/3] END ....C=10, gamma=0.001, kernel=poly;, score=0.203 total time=  36.4s\n",
      "[CV 1/3] END .....C=10, gamma=0.001, kernel=rbf;, score=0.212 total time=  40.3s\n",
      "[CV 2/3] END .....C=10, gamma=0.001, kernel=rbf;, score=0.407 total time=  39.8s\n",
      "[CV 3/3] END .....C=10, gamma=0.001, kernel=rbf;, score=0.219 total time=  39.7s\n",
      "[CV 1/3] END .C=10, gamma=0.001, kernel=sigmoid;, score=0.203 total time=  37.0s\n",
      "[CV 2/3] END .C=10, gamma=0.001, kernel=sigmoid;, score=0.393 total time=  36.3s\n",
      "[CV 3/3] END .C=10, gamma=0.001, kernel=sigmoid;, score=0.203 total time=  36.5s\n",
      "[CV 1/3] END ..C=10, gamma=0.001, kernel=linear;, score=0.957 total time=  25.3s\n",
      "[CV 2/3] END ..C=10, gamma=0.001, kernel=linear;, score=0.960 total time=  24.8s\n",
      "[CV 3/3] END ..C=10, gamma=0.001, kernel=linear;, score=0.946 total time=  25.0s\n",
      "[CV 1/3] END .......C=100, gamma=1, kernel=poly;, score=0.770 total time=  37.1s\n",
      "[CV 2/3] END .......C=100, gamma=1, kernel=poly;, score=0.785 total time=  36.5s\n",
      "[CV 3/3] END .......C=100, gamma=1, kernel=poly;, score=0.790 total time=  36.4s\n",
      "[CV 1/3] END ........C=100, gamma=1, kernel=rbf;, score=0.948 total time=  37.6s\n",
      "[CV 2/3] END ........C=100, gamma=1, kernel=rbf;, score=0.944 total time=  37.8s\n",
      "[CV 3/3] END ........C=100, gamma=1, kernel=rbf;, score=0.938 total time=  37.2s\n",
      "[CV 1/3] END ....C=100, gamma=1, kernel=sigmoid;, score=0.959 total time=  21.8s\n",
      "[CV 2/3] END ....C=100, gamma=1, kernel=sigmoid;, score=0.964 total time=  21.6s\n",
      "[CV 3/3] END ....C=100, gamma=1, kernel=sigmoid;, score=0.948 total time=  21.5s\n",
      "[CV 1/3] END .....C=100, gamma=1, kernel=linear;, score=0.957 total time=  25.4s\n",
      "[CV 2/3] END .....C=100, gamma=1, kernel=linear;, score=0.960 total time=  24.8s\n",
      "[CV 3/3] END .....C=100, gamma=1, kernel=linear;, score=0.946 total time=  25.0s\n",
      "[CV 1/3] END .....C=100, gamma=0.1, kernel=poly;, score=0.205 total time=  36.9s\n",
      "[CV 2/3] END .....C=100, gamma=0.1, kernel=poly;, score=0.278 total time=  36.6s\n",
      "[CV 3/3] END .....C=100, gamma=0.1, kernel=poly;, score=0.207 total time=  36.5s\n",
      "[CV 1/3] END ......C=100, gamma=0.1, kernel=rbf;, score=0.957 total time=  28.4s\n",
      "[CV 2/3] END ......C=100, gamma=0.1, kernel=rbf;, score=0.958 total time=  28.1s\n",
      "[CV 3/3] END ......C=100, gamma=0.1, kernel=rbf;, score=0.945 total time=  28.3s\n",
      "[CV 1/3] END ..C=100, gamma=0.1, kernel=sigmoid;, score=0.957 total time=  25.0s\n",
      "[CV 2/3] END ..C=100, gamma=0.1, kernel=sigmoid;, score=0.960 total time=  24.9s\n",
      "[CV 3/3] END ..C=100, gamma=0.1, kernel=sigmoid;, score=0.946 total time=  24.7s\n",
      "[CV 1/3] END ...C=100, gamma=0.1, kernel=linear;, score=0.957 total time=  25.2s\n",
      "[CV 2/3] END ...C=100, gamma=0.1, kernel=linear;, score=0.960 total time=  24.8s\n",
      "[CV 3/3] END ...C=100, gamma=0.1, kernel=linear;, score=0.946 total time=  32.1s\n",
      "[CV 1/3] END ....C=100, gamma=0.01, kernel=poly;, score=0.203 total time=  40.0s\n",
      "[CV 2/3] END ....C=100, gamma=0.01, kernel=poly;, score=0.276 total time=  36.2s\n",
      "[CV 3/3] END ....C=100, gamma=0.01, kernel=poly;, score=0.203 total time=  36.3s\n",
      "[CV 1/3] END .....C=100, gamma=0.01, kernel=rbf;, score=0.957 total time=  27.3s\n",
      "[CV 2/3] END .....C=100, gamma=0.01, kernel=rbf;, score=0.960 total time=  30.1s\n",
      "[CV 3/3] END .....C=100, gamma=0.01, kernel=rbf;, score=0.946 total time=  29.3s\n",
      "[CV 1/3] END .C=100, gamma=0.01, kernel=sigmoid;, score=0.958 total time=  26.0s\n",
      "[CV 2/3] END .C=100, gamma=0.01, kernel=sigmoid;, score=0.956 total time=  24.1s\n",
      "[CV 3/3] END .C=100, gamma=0.01, kernel=sigmoid;, score=0.946 total time=  24.6s\n",
      "[CV 1/3] END ..C=100, gamma=0.01, kernel=linear;, score=0.957 total time=  29.1s\n",
      "[CV 2/3] END ..C=100, gamma=0.01, kernel=linear;, score=0.960 total time=  25.1s\n",
      "[CV 3/3] END ..C=100, gamma=0.01, kernel=linear;, score=0.946 total time=  24.6s\n",
      "[CV 1/3] END ...C=100, gamma=0.001, kernel=poly;, score=0.203 total time=  37.3s\n",
      "[CV 2/3] END ...C=100, gamma=0.001, kernel=poly;, score=0.276 total time=  36.2s\n",
      "[CV 3/3] END ...C=100, gamma=0.001, kernel=poly;, score=0.203 total time=  36.4s\n",
      "[CV 1/3] END ....C=100, gamma=0.001, kernel=rbf;, score=0.929 total time=  29.4s\n",
      "[CV 2/3] END ....C=100, gamma=0.001, kernel=rbf;, score=0.930 total time=  28.8s\n",
      "[CV 3/3] END ....C=100, gamma=0.001, kernel=rbf;, score=0.918 total time=  28.5s\n",
      "[CV 1/3] END C=100, gamma=0.001, kernel=sigmoid;, score=0.902 total time=  31.9s\n",
      "[CV 2/3] END C=100, gamma=0.001, kernel=sigmoid;, score=0.902 total time=  31.5s\n",
      "[CV 3/3] END C=100, gamma=0.001, kernel=sigmoid;, score=0.894 total time=  31.5s\n",
      "[CV 1/3] END .C=100, gamma=0.001, kernel=linear;, score=0.957 total time=  25.2s\n",
      "[CV 2/3] END .C=100, gamma=0.001, kernel=linear;, score=0.960 total time=  24.9s\n",
      "[CV 3/3] END .C=100, gamma=0.001, kernel=linear;, score=0.946 total time=  24.4s\n",
      "SVM Accuracy Score ->  96.7948717948718 %\n"
     ]
    }
   ],
   "source": [
    "# Set the parameter grid for the hyperparamtertuning\n",
    "\n",
    "param_grid = {'C': [0.1,1, 10, 100], \n",
    "              'gamma': [1,0.1,0.01,0.001],\n",
    "              'kernel': ['poly','rbf', 'sigmoid','linear']}\n",
    "                  \n",
    "model_svm = GridSearchCV(svm.SVC(probability=True), param_grid, refit = True, cv = 3, verbose = 3)\n",
    "\n",
    "# Fit the model on the training data\n",
    "model_svm.fit(Train_X_Tfidf,Train_Y)\n",
    "\n",
    "# predict the labels on test dataset\n",
    "predictions_SVM = model_svm.predict(Test_X_Tfidf)\n",
    "\n",
    "svm_score = accuracy_score(predictions_SVM, Test_Y)*100\n",
    "\n",
    "# Use accuracy_score function to get the accuracy\n",
    "print(\"SVM Accuracy Score -> \", svm_score, \"%\")"
   ]
  },
  {
   "attachments": {},
   "cell_type": "markdown",
   "metadata": {},
   "source": [
    "## kNN Classification\n",
    "Source: https://medium.com/@salemortega/k-neighbors-classifier-with-gridsearchcv-basics-3c445ddeb657"
   ]
  },
  {
   "cell_type": "code",
   "execution_count": 44,
   "metadata": {},
   "outputs": [
    {
     "name": "stdout",
     "output_type": "stream",
     "text": [
      "Fitting 5 folds for each of 16 candidates, totalling 80 fits\n",
      "[CV 1/5] END metric=euclidean, n_neighbors=3, weights=uniform;, score=0.824 total time=   0.1s\n",
      "[CV 2/5] END metric=euclidean, n_neighbors=3, weights=uniform;, score=0.856 total time=   0.1s\n",
      "[CV 3/5] END metric=euclidean, n_neighbors=3, weights=uniform;, score=0.853 total time=   0.1s\n",
      "[CV 4/5] END metric=euclidean, n_neighbors=3, weights=uniform;, score=0.833 total time=   0.1s\n",
      "[CV 5/5] END metric=euclidean, n_neighbors=3, weights=uniform;, score=0.832 total time=   0.1s\n",
      "[CV 1/5] END metric=euclidean, n_neighbors=3, weights=distance;, score=0.809 total time=   0.1s\n",
      "[CV 2/5] END metric=euclidean, n_neighbors=3, weights=distance;, score=0.851 total time=   0.1s\n",
      "[CV 3/5] END metric=euclidean, n_neighbors=3, weights=distance;, score=0.838 total time=   0.1s\n",
      "[CV 4/5] END metric=euclidean, n_neighbors=3, weights=distance;, score=0.819 total time=   0.1s\n",
      "[CV 5/5] END metric=euclidean, n_neighbors=3, weights=distance;, score=0.803 total time=   0.1s\n",
      "[CV 1/5] END metric=euclidean, n_neighbors=5, weights=uniform;, score=0.832 total time=   0.1s\n",
      "[CV 2/5] END metric=euclidean, n_neighbors=5, weights=uniform;, score=0.869 total time=   0.1s\n",
      "[CV 3/5] END metric=euclidean, n_neighbors=5, weights=uniform;, score=0.862 total time=   0.1s\n",
      "[CV 4/5] END metric=euclidean, n_neighbors=5, weights=uniform;, score=0.846 total time=   0.1s\n",
      "[CV 5/5] END metric=euclidean, n_neighbors=5, weights=uniform;, score=0.830 total time=   0.1s\n",
      "[CV 1/5] END metric=euclidean, n_neighbors=5, weights=distance;, score=0.827 total time=   0.1s\n",
      "[CV 2/5] END metric=euclidean, n_neighbors=5, weights=distance;, score=0.865 total time=   0.1s\n",
      "[CV 3/5] END metric=euclidean, n_neighbors=5, weights=distance;, score=0.854 total time=   0.1s\n",
      "[CV 4/5] END metric=euclidean, n_neighbors=5, weights=distance;, score=0.840 total time=   0.1s\n",
      "[CV 5/5] END metric=euclidean, n_neighbors=5, weights=distance;, score=0.821 total time=   0.1s\n",
      "[CV 1/5] END metric=euclidean, n_neighbors=11, weights=uniform;, score=0.841 total time=   0.1s\n",
      "[CV 2/5] END metric=euclidean, n_neighbors=11, weights=uniform;, score=0.883 total time=   0.1s\n",
      "[CV 3/5] END metric=euclidean, n_neighbors=11, weights=uniform;, score=0.878 total time=   0.1s\n",
      "[CV 4/5] END metric=euclidean, n_neighbors=11, weights=uniform;, score=0.857 total time=   0.1s\n",
      "[CV 5/5] END metric=euclidean, n_neighbors=11, weights=uniform;, score=0.819 total time=   0.1s\n",
      "[CV 1/5] END metric=euclidean, n_neighbors=11, weights=distance;, score=0.830 total time=   0.1s\n",
      "[CV 2/5] END metric=euclidean, n_neighbors=11, weights=distance;, score=0.881 total time=   0.1s\n",
      "[CV 3/5] END metric=euclidean, n_neighbors=11, weights=distance;, score=0.878 total time=   0.1s\n",
      "[CV 4/5] END metric=euclidean, n_neighbors=11, weights=distance;, score=0.853 total time=   0.1s\n",
      "[CV 5/5] END metric=euclidean, n_neighbors=11, weights=distance;, score=0.812 total time=   0.1s\n",
      "[CV 1/5] END metric=euclidean, n_neighbors=19, weights=uniform;, score=0.849 total time=   0.1s\n",
      "[CV 2/5] END metric=euclidean, n_neighbors=19, weights=uniform;, score=0.878 total time=   0.1s\n",
      "[CV 3/5] END metric=euclidean, n_neighbors=19, weights=uniform;, score=0.865 total time=   0.1s\n",
      "[CV 4/5] END metric=euclidean, n_neighbors=19, weights=uniform;, score=0.859 total time=   0.1s\n",
      "[CV 5/5] END metric=euclidean, n_neighbors=19, weights=uniform;, score=0.833 total time=   0.1s\n",
      "[CV 1/5] END metric=euclidean, n_neighbors=19, weights=distance;, score=0.848 total time=   0.1s\n",
      "[CV 2/5] END metric=euclidean, n_neighbors=19, weights=distance;, score=0.875 total time=   0.1s\n",
      "[CV 3/5] END metric=euclidean, n_neighbors=19, weights=distance;, score=0.864 total time=   0.1s\n",
      "[CV 4/5] END metric=euclidean, n_neighbors=19, weights=distance;, score=0.849 total time=   0.1s\n",
      "[CV 5/5] END metric=euclidean, n_neighbors=19, weights=distance;, score=0.830 total time=   0.1s\n",
      "[CV 1/5] END metric=manhattan, n_neighbors=3, weights=uniform;, score=0.200 total time=   0.7s\n",
      "[CV 2/5] END metric=manhattan, n_neighbors=3, weights=uniform;, score=0.213 total time=   0.6s\n",
      "[CV 3/5] END metric=manhattan, n_neighbors=3, weights=uniform;, score=0.199 total time=   0.5s\n",
      "[CV 4/5] END metric=manhattan, n_neighbors=3, weights=uniform;, score=0.207 total time=   0.5s\n",
      "[CV 5/5] END metric=manhattan, n_neighbors=3, weights=uniform;, score=0.199 total time=   0.5s\n",
      "[CV 1/5] END metric=manhattan, n_neighbors=3, weights=distance;, score=0.205 total time=   0.5s\n",
      "[CV 2/5] END metric=manhattan, n_neighbors=3, weights=distance;, score=0.226 total time=   0.5s\n",
      "[CV 3/5] END metric=manhattan, n_neighbors=3, weights=distance;, score=0.212 total time=   0.5s\n",
      "[CV 4/5] END metric=manhattan, n_neighbors=3, weights=distance;, score=0.220 total time=   0.5s\n",
      "[CV 5/5] END metric=manhattan, n_neighbors=3, weights=distance;, score=0.210 total time=   0.5s\n",
      "[CV 1/5] END metric=manhattan, n_neighbors=5, weights=uniform;, score=0.202 total time=   0.5s\n",
      "[CV 2/5] END metric=manhattan, n_neighbors=5, weights=uniform;, score=0.200 total time=   0.5s\n",
      "[CV 3/5] END metric=manhattan, n_neighbors=5, weights=uniform;, score=0.199 total time=   0.5s\n",
      "[CV 4/5] END metric=manhattan, n_neighbors=5, weights=uniform;, score=0.197 total time=   0.5s\n",
      "[CV 5/5] END metric=manhattan, n_neighbors=5, weights=uniform;, score=0.199 total time=   0.5s\n",
      "[CV 1/5] END metric=manhattan, n_neighbors=5, weights=distance;, score=0.205 total time=   0.5s\n",
      "[CV 2/5] END metric=manhattan, n_neighbors=5, weights=distance;, score=0.216 total time=   0.6s\n",
      "[CV 3/5] END metric=manhattan, n_neighbors=5, weights=distance;, score=0.212 total time=   0.5s\n",
      "[CV 4/5] END metric=manhattan, n_neighbors=5, weights=distance;, score=0.210 total time=   0.5s\n",
      "[CV 5/5] END metric=manhattan, n_neighbors=5, weights=distance;, score=0.212 total time=   0.5s\n",
      "[CV 1/5] END metric=manhattan, n_neighbors=11, weights=uniform;, score=0.197 total time=   0.5s\n",
      "[CV 2/5] END metric=manhattan, n_neighbors=11, weights=uniform;, score=0.199 total time=   0.5s\n",
      "[CV 3/5] END metric=manhattan, n_neighbors=11, weights=uniform;, score=0.197 total time=   0.5s\n",
      "[CV 4/5] END metric=manhattan, n_neighbors=11, weights=uniform;, score=0.199 total time=   0.5s\n",
      "[CV 5/5] END metric=manhattan, n_neighbors=11, weights=uniform;, score=0.197 total time=   0.5s\n",
      "[CV 1/5] END metric=manhattan, n_neighbors=11, weights=distance;, score=0.199 total time=   0.5s\n",
      "[CV 2/5] END metric=manhattan, n_neighbors=11, weights=distance;, score=0.216 total time=   0.5s\n",
      "[CV 3/5] END metric=manhattan, n_neighbors=11, weights=distance;, score=0.210 total time=   0.5s\n",
      "[CV 4/5] END metric=manhattan, n_neighbors=11, weights=distance;, score=0.208 total time=   0.5s\n",
      "[CV 5/5] END metric=manhattan, n_neighbors=11, weights=distance;, score=0.207 total time=   0.5s\n",
      "[CV 1/5] END metric=manhattan, n_neighbors=19, weights=uniform;, score=0.197 total time=   0.5s\n",
      "[CV 2/5] END metric=manhattan, n_neighbors=19, weights=uniform;, score=0.239 total time=   0.5s\n",
      "[CV 3/5] END metric=manhattan, n_neighbors=19, weights=uniform;, score=0.199 total time=   0.8s\n",
      "[CV 4/5] END metric=manhattan, n_neighbors=19, weights=uniform;, score=0.199 total time=   0.5s\n",
      "[CV 5/5] END metric=manhattan, n_neighbors=19, weights=uniform;, score=0.202 total time=   0.5s\n",
      "[CV 1/5] END metric=manhattan, n_neighbors=19, weights=distance;, score=0.200 total time=   0.5s\n",
      "[CV 2/5] END metric=manhattan, n_neighbors=19, weights=distance;, score=0.253 total time=   0.5s\n",
      "[CV 3/5] END metric=manhattan, n_neighbors=19, weights=distance;, score=0.212 total time=   0.4s\n",
      "[CV 4/5] END metric=manhattan, n_neighbors=19, weights=distance;, score=0.213 total time=   0.5s\n",
      "[CV 5/5] END metric=manhattan, n_neighbors=19, weights=distance;, score=0.212 total time=   0.5s\n",
      "kNN Accuracy Score ->  86.28205128205128 %\n"
     ]
    }
   ],
   "source": [
    "# Set the parameter grid for the hyperparamtertuning\n",
    "param_grid = {'n_neighbors': [3, 5, 11, 19], \n",
    "              'weights': ['uniform', 'distance'],\n",
    "              'metric': ['euclidean', 'manhattan']}\n",
    "                  \n",
    "model_knn = GridSearchCV(KNeighborsClassifier(), param_grid, refit = True, verbose = 3, cv = 5)\n",
    "\n",
    "# Fit the model on the training data\n",
    "model_knn.fit(Train_X_Tfidf,Train_Y)\n",
    "\n",
    "# predict the labels on test dataset\n",
    "predictions_kNN = model_knn.predict(Test_X_Tfidf)\n",
    "\n",
    "kNN_score = accuracy_score(predictions_kNN, Test_Y)*100\n",
    "\n",
    "# Use accuracy_score function to get the accuracy\n",
    "print(\"kNN Accuracy Score -> \", kNN_score, \"%\")"
   ]
  },
  {
   "attachments": {},
   "cell_type": "markdown",
   "metadata": {},
   "source": [
    "## BERT Classification\n",
    "Source: https://towardsdatascience.com/fine-tuning-bert-for-text-classification-54e7df642894"
   ]
  },
  {
   "attachments": {},
   "cell_type": "markdown",
   "metadata": {},
   "source": [
    "### Data preprocessing"
   ]
  },
  {
   "cell_type": "code",
   "execution_count": 33,
   "metadata": {},
   "outputs": [],
   "source": [
    "# Get texts and classes of dataframe\n",
    "texts = df_balanced.Text.values\n",
    "classes = df_balanced.Class.values\n",
    "\n",
    "bert_data = pd.DataFrame({'texts':texts, 'classes': classes})\n",
    "\n",
    "# Indices of the train and test splits stratified by labels\n",
    "train_val_data_bert, test_data_bert = train_test_split(\n",
    "    bert_data,\n",
    "    test_size = 0.1,\n",
    "    random_state=42)"
   ]
  },
  {
   "cell_type": "code",
   "execution_count": 34,
   "metadata": {},
   "outputs": [
    {
     "name": "stderr",
     "output_type": "stream",
     "text": [
      "Some weights of the model checkpoint at bert-base-uncased were not used when initializing BertForSequenceClassification: ['cls.seq_relationship.weight', 'cls.predictions.transform.dense.weight', 'cls.predictions.transform.dense.bias', 'cls.predictions.decoder.weight', 'cls.predictions.bias', 'cls.predictions.transform.LayerNorm.bias', 'cls.predictions.transform.LayerNorm.weight', 'cls.seq_relationship.bias']\n",
      "- This IS expected if you are initializing BertForSequenceClassification from the checkpoint of a model trained on another task or with another architecture (e.g. initializing a BertForSequenceClassification model from a BertForPreTraining model).\n",
      "- This IS NOT expected if you are initializing BertForSequenceClassification from the checkpoint of a model that you expect to be exactly identical (initializing a BertForSequenceClassification model from a BertForSequenceClassification model).\n",
      "Some weights of BertForSequenceClassification were not initialized from the model checkpoint at bert-base-uncased and are newly initialized: ['classifier.bias', 'classifier.weight']\n",
      "You should probably TRAIN this model on a down-stream task to be able to use it for predictions and inference.\n"
     ]
    }
   ],
   "source": [
    "# Load the BERT tokenizer and model\n",
    "tokenizer = BertTokenizer.from_pretrained(\n",
    "    'bert-base-uncased',\n",
    "    do_lower_case = True\n",
    "    )\n",
    "\n",
    "model_bert = BertForSequenceClassification.from_pretrained(\n",
    "    'bert-base-uncased',\n",
    "    # set number of classes to classes in df['Class']\n",
    "    num_labels = len(df['Class'].unique()),\n",
    "    output_attentions = False,\n",
    "    output_hidden_states = False,\n",
    ")"
   ]
  },
  {
   "cell_type": "code",
   "execution_count": 35,
   "metadata": {},
   "outputs": [
    {
     "name": "stderr",
     "output_type": "stream",
     "text": [
      "Truncation was not explicitly activated but `max_length` is provided a specific value, please use `truncation=True` to explicitly truncate examples to max length. Defaulting to 'longest_first' truncation strategy. If you encode pairs of sequences (GLUE-style) with the tokenizer you can select this strategy more precisely by providing a specific strategy to `truncation`.\n"
     ]
    },
    {
     "name": "stderr",
     "output_type": "stream",
     "text": [
      "/Library/Frameworks/Python.framework/Versions/3.10/lib/python3.10/site-packages/transformers/tokenization_utils_base.py:2336: FutureWarning: The `pad_to_max_length` argument is deprecated and will be removed in a future version, use `padding=True` or `padding='longest'` to pad to the longest sequence in the batch, or use `padding='max_length'` to pad to a max length. In this case, you can give a specific length with `max_length` (e.g. `max_length=45`) or leave max_length to None to pad to the maximal input size of the model (e.g. 512 for Bert).\n",
      "  warnings.warn(\n"
     ]
    }
   ],
   "source": [
    "token_id = []\n",
    "attention_masks = []\n",
    "\n",
    "def preprocessing(text, tokenizer):\n",
    "\n",
    "  return tokenizer.encode_plus(\n",
    "                        text,\n",
    "                        add_special_tokens = True,\n",
    "                        max_length = 128,\n",
    "                        pad_to_max_length = True,\n",
    "                        return_attention_mask = True,\n",
    "                        return_tensors = 'pt'\n",
    "                   )\n",
    "\n",
    "\n",
    "for sample in train_val_data_bert['texts']:\n",
    "  encoding_dict = preprocessing(sample, tokenizer)\n",
    "  token_id.append(encoding_dict['input_ids']) \n",
    "  attention_masks.append(encoding_dict['attention_mask'])\n",
    "\n",
    "\n",
    "token_id = torch.cat(token_id, dim = 0)\n",
    "attention_masks = torch.cat(attention_masks, dim = 0)\n",
    "classes = torch.tensor(list(train_val_data_bert['classes']))"
   ]
  },
  {
   "cell_type": "code",
   "execution_count": 36,
   "metadata": {},
   "outputs": [],
   "source": [
    "val_ratio = 0.2\n",
    "\n",
    "batch_size = 16\n",
    "\n",
    "# Indices of the train and test splits stratified by labels\n",
    "train_idx, val_idx = train_test_split(\n",
    "    np.arange(len(classes)),\n",
    "    test_size = val_ratio,\n",
    "    shuffle = True,\n",
    "    stratify = classes)\n",
    "\n",
    "# Train and test sets\n",
    "train_set = TensorDataset(token_id[train_idx], \n",
    "                          attention_masks[train_idx], \n",
    "                          classes[train_idx])\n",
    "\n",
    "val_set = TensorDataset(token_id[val_idx], \n",
    "                        attention_masks[val_idx], \n",
    "                        classes[val_idx])\n",
    "\n",
    "# Prepare DataLoader\n",
    "train_dataloader = DataLoader(\n",
    "            train_set,\n",
    "            sampler = RandomSampler(train_set),\n",
    "            batch_size = batch_size\n",
    "        )\n",
    "\n",
    "val_dataloader = DataLoader(\n",
    "            val_set,\n",
    "            sampler = SequentialSampler(val_set),\n",
    "            batch_size = batch_size\n",
    "        )"
   ]
  },
  {
   "attachments": {},
   "cell_type": "markdown",
   "metadata": {},
   "source": [
    "### Model training and evaluation"
   ]
  },
  {
   "cell_type": "code",
   "execution_count": 37,
   "metadata": {},
   "outputs": [
    {
     "name": "stdout",
     "output_type": "stream",
     "text": [
      "Epoch 1:\n",
      "  Loss: 0.4888\n",
      "  Val Accuracy: 0.9459\n",
      "Epoch 2:\n",
      "  Loss: 0.1105\n",
      "  Val Accuracy: 0.9587\n"
     ]
    }
   ],
   "source": [
    "optimizer = torch.optim.AdamW(model_bert.parameters(), \n",
    "                              lr = 2e-5,\n",
    "                              )\n",
    "\n",
    "device = torch.device('cuda' if torch.cuda.is_available() else 'cpu')\n",
    "\n",
    "num_epochs = 2\n",
    "\n",
    "for epoch in range(num_epochs):\n",
    "    \n",
    "    # ========== Training ==========\n",
    "    \n",
    "    # Set model to training mode\n",
    "    model_bert.train()\n",
    "    \n",
    "    # Tracking variables\n",
    "    tr_loss = 0\n",
    "    tr_accuracy = 0\n",
    "    nb_tr_examples, nb_tr_steps = 0, 0\n",
    "\n",
    "    for step, batch in enumerate(train_dataloader):\n",
    "        batch = tuple(t.to(device) for t in batch)\n",
    "        b_input_ids, b_input_mask, b_labels = batch\n",
    "        optimizer.zero_grad()\n",
    "        # Forward pass\n",
    "        train_output = model_bert(b_input_ids, \n",
    "                             token_type_ids = None, \n",
    "                             attention_mask = b_input_mask, \n",
    "                             labels = b_labels)\n",
    "        # Backward pass\n",
    "        train_output.loss.backward()\n",
    "        optimizer.step()\n",
    "        # Update tracking variables\n",
    "        tr_loss += train_output.loss.item()\n",
    "        nb_tr_examples += b_input_ids.size(0)\n",
    "        nb_tr_steps += 1\n",
    "\n",
    "    avg_loss = tr_loss / nb_tr_steps\n",
    "\n",
    "    # ========== Evaluation ==========\n",
    "\n",
    "    # Set model to evaluation mode\n",
    "    model_bert.eval()\n",
    "\n",
    "    total_correct = 0\n",
    "    total_samples = 0\n",
    "\n",
    "    for batch in val_dataloader:\n",
    "        batch = tuple(t.to(device) for t in batch)\n",
    "        b_input_ids, b_input_mask, b_labels = batch\n",
    "        with torch.no_grad():\n",
    "            # Forward pass\n",
    "            eval_output = model_bert(b_input_ids, \n",
    "                            token_type_ids = None, \n",
    "                            attention_mask = b_input_mask)\n",
    "            logits = eval_output.logits\n",
    "            label_ids = b_labels.to('cpu').numpy()\n",
    "            # Calculate validation metrics\n",
    "\n",
    "            _, predicted_labels = torch.max(logits, 1)\n",
    "\n",
    "            total_correct += (predicted_labels == b_labels).sum().item()\n",
    "            total_samples += b_labels.size(0)\n",
    "\n",
    "    accuracy = total_correct / total_samples\n",
    "\n",
    "    print(f\"Epoch {epoch+1}:\")\n",
    "    print(f\"  Loss: {avg_loss:.4f}\")\n",
    "    print(f\"  Val Accuracy: {accuracy:.4f}\")"
   ]
  },
  {
   "cell_type": "code",
   "execution_count": 38,
   "metadata": {},
   "outputs": [
    {
     "name": "stderr",
     "output_type": "stream",
     "text": [
      "/Library/Frameworks/Python.framework/Versions/3.10/lib/python3.10/site-packages/transformers/tokenization_utils_base.py:2336: FutureWarning: The `pad_to_max_length` argument is deprecated and will be removed in a future version, use `padding=True` or `padding='longest'` to pad to the longest sequence in the batch, or use `padding='max_length'` to pad to a max length. In this case, you can give a specific length with `max_length` (e.g. `max_length=45`) or leave max_length to None to pad to the maximal input size of the model (e.g. 512 for Bert).\n",
      "  warnings.warn(\n"
     ]
    },
    {
     "name": "stdout",
     "output_type": "stream",
     "text": [
      "BERT Accuracy Score ->  96.66666666666667 %\n"
     ]
    }
   ],
   "source": [
    "predictions_bert = []\n",
    "\n",
    "# Preprocessing of the text to be used by the Bert-Model\n",
    "for sample in test_data_bert['texts']:\n",
    "    test_ids = []\n",
    "    test_attention_mask = []\n",
    "    encoding = preprocessing(sample, tokenizer)\n",
    "    test_ids.append(encoding['input_ids'])\n",
    "    test_attention_mask.append(encoding['attention_mask'])\n",
    "    test_ids = torch.cat(test_ids, dim = 0)\n",
    "    test_attention_mask = torch.cat(test_attention_mask, dim = 0)\n",
    "\n",
    "    # Get the prediction for the sample from the model\n",
    "    with torch.no_grad():\n",
    "        output = model_bert(test_ids.to(device), token_type_ids = None, attention_mask = test_attention_mask.to(device))\n",
    "    predictions_bert.append(np.argmax(output.logits.cpu().numpy()).flatten().item())\n",
    "bert_score = accuracy_score(predictions_bert, list(test_data_bert['classes']))*100\n",
    "\n",
    "# Use accuracy_score function to get the accuracy\n",
    "print(\"BERT Accuracy Score -> \", bert_score, \"%\")"
   ]
  },
  {
   "attachments": {},
   "cell_type": "markdown",
   "metadata": {},
   "source": [
    "## Model comparison"
   ]
  },
  {
   "cell_type": "code",
   "execution_count": 50,
   "metadata": {},
   "outputs": [
    {
     "data": {
      "image/png": "[encoded data removed]",
      "text/plain": [
       "<Figure size 432x288 with 1 Axes>"
      ]
     },
     "metadata": {
      "needs_background": "light"
     },
     "output_type": "display_data"
    }
   ],
   "source": [
    "# Show test accuracy for each trained model\n",
    "scores = [svm_score, naive_score, kNN_score, bert_score]\n",
    "plt.bar(['SVM', 'Naive Bayes', 'kNN', 'BERT'], scores)\n",
    "plt.xlabel('Models')\n",
    "plt.ylabel('Accuracy on test data')\n",
    "plt.title('Accuracy on test data for each model')\n",
    "# Add text annotations for the accuracy scores of the models\n",
    "for i, score in enumerate(scores):\n",
    "    plt.text(i, score, '{:.2f}'.format(score), ha='center', va='bottom')\n",
    "plt.show()"
   ]
  },
  {
   "attachments": {},
   "cell_type": "markdown",
   "metadata": {},
   "source": [
    "## Export the Model"
   ]
  },
  {
   "cell_type": "code",
   "execution_count": 54,
   "metadata": {},
   "outputs": [],
   "source": [
    "# Save the model to disk (https://docs.python.org/3/library/pickle.html)\n",
    "filename = './models/finalized_model.sav'\n",
    "pickle.dump(model_svm, open(filename, 'wb'))"
   ]
  }
 ],
 "metadata": {
  "kernelspec": {
   "display_name": "Python 3",
   "language": "python",
   "name": "python3"
  },
  "language_info": {
   "codemirror_mode": {
    "name": "ipython",
    "version": 3
   },
   "file_extension": ".py",
   "mimetype": "text/x-python",
   "name": "python",
   "nbconvert_exporter": "python",
   "pygments_lexer": "ipython3",
   "version": "3.10.1"
  },
  "orig_nbformat": 4
 },
 "nbformat": 4,
 "nbformat_minor": 2
}
