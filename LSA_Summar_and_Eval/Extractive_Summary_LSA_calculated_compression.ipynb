{
  "cells": [
    {
      "cell_type": "code",
      "execution_count": null,
      "metadata": {
        "id": "F8qfO_7dc-bN"
      },
      "outputs": [],
      "source": [
        "!pip install -U pip setuptools wheel\n",
        "!pip install -U 'spacy[cuda-autodetect,transformers,lookups]'\n",
        "!python -m spacy download en_core_web_sm"
      ]
    },
    {
      "cell_type": "code",
      "execution_count": null,
      "metadata": {
        "id": "jZ4ZggPCdC8u"
      },
      "outputs": [],
      "source": [
        "!pip install en_core_web_sm"
      ]
    },
    {
      "cell_type": "markdown",
      "metadata": {},
      "source": [
        "sources: https://iq.opengenus.org/latent-semantic-analysis-for-text-summarization/\n"
      ]
    },
    {
      "cell_type": "code",
      "execution_count": 3,
      "metadata": {
        "id": "k3I9FnPadF68"
      },
      "outputs": [],
      "source": [
        "import spacy\n",
        "\n",
        "# Load Spacy model\n",
        "nlp = spacy.load(\"en_core_web_sm\")"
      ]
    },
    {
      "cell_type": "code",
      "execution_count": 4,
      "metadata": {
        "id": "739vJspBXZ7u"
      },
      "outputs": [],
      "source": [
        "from sklearn.feature_extraction.text import CountVectorizer\n",
        "from sklearn.decomposition import TruncatedSVD\n",
        "from sklearn.metrics.pairwise import cosine_similarity\n",
        "import numpy as np\n",
        "import heapq\n",
        "\n",
        "\n"
      ]
    },
    {
      "cell_type": "code",
      "execution_count": 5,
      "metadata": {
        "id": "jAJeDJGeYm_H"
      },
      "outputs": [],
      "source": [
        "# Function for Tokenization, Remove stopwords, Lowercasing, Lemmatization, Remove punctuation\n",
        "def preprocess_text(text):\n",
        "    # Tokenization\n",
        "    doc = nlp(text)\n",
        "\n",
        "    # Remove stopwords, Lowercasing, Lemmatization, Remove punctuation\n",
        "    preprocessed_tokens = [token.lemma_.lower() for token in doc if not token.is_stop and not token.is_punct]\n",
        "\n",
        "    # Return the preprocessed tokens as text\n",
        "    preprocessed_text = \" \".join(preprocessed_tokens)\n",
        "    return preprocessed_text\n",
        "\n",
        "\n"
      ]
    },
    {
      "cell_type": "code",
      "execution_count": 6,
      "metadata": {
        "id": "BrEZB-HKbzfI"
      },
      "outputs": [],
      "source": [
        "def lsa_summarizer(text, compression_rate):\n",
        "    # Split text sentence\n",
        "    sentences = text.split('. ')\n",
        "\n",
        "    # Text Vectorization\n",
        "    vectorizer = CountVectorizer()\n",
        "    term_document_matrix = vectorizer.fit_transform(sentences)\n",
        "\n",
        "    # LSA-Model\n",
        "    num_components = max(int(len(sentences) * compression_rate), 1)\n",
        "    lsa_model = TruncatedSVD(n_components=num_components)\n",
        "    lsa_matrix = lsa_model.fit_transform(term_document_matrix)\n",
        "\n",
        "    # Ranking sentences\n",
        "    sentence_scores = lsa_matrix.sum(axis=1)\n",
        "\n",
        "    # Select sentences\n",
        "    num_sentences = max(int(len(sentences) * compression_rate), 1)\n",
        "    top_sentences = heapq.nlargest(num_sentences, range(len(sentences)), key=sentence_scores.__getitem__)\n",
        "\n",
        "    # Create summary\n",
        "    summary_sentences = [sentences[idx] for idx in top_sentences]\n",
        "    summary = '. '.join(summary_sentences)\n",
        "\n",
        "    return summary\n"
      ]
    },
    {
      "cell_type": "code",
      "execution_count": 7,
      "metadata": {
        "colab": {
          "base_uri": "https://localhost:8080/"
        },
        "id": "NUMG0yE7YpX8",
        "outputId": "41bb8dff-0417-4ad7-e445-0488b1e0caee"
      },
      "outputs": [
        {
          "name": "stdout",
          "output_type": "stream",
          "text": [
            "But its film division saw profits slump 27% to $284m, helped by box-office flops Alexander and Catwoman, a sharp contrast to year-earlier, when the third and final film in the Lord of the Rings trilogy boosted results. The company said it was unable to estimate the amount it needed to set aside for legal reserves, which it previously set at $500m. Its profits were buoyed by one-off gains which offset a profit dip at Warner Bros, and less users for AOL.\n",
            "\n",
            "Time Warner said on Friday that it now owns 8% of search-engine Google. \"Our financial performance was strong, meeting or exceeding all of our full-year objectives and greatly enhancing our flexibility,\" chairman and chief executive Richard Parsons said. \n",
            "Ad sales boost Time Warner profit\n",
            "\n",
            "Quarterly profits at US media giant TimeWarner jumped 76% to $1.13bn (£600m) for the three months to December, from $639m year-earlier.\n",
            "\n",
            "The firm, which is now one of the biggest investors in Google, benefited from sales of high-speed internet connections and higher advert sales. It hopes to increase subscribers by offering the online service free to TimeWarner internet customers and will try to sign up AOL's existing customers for high-speed broadband. It lost 464,000 subscribers in the fourth quarter profits were lower than in the preceding three quarters. However, the company said AOL's underlying profit before exceptional items rose 8% on the back of stronger internet advertising revenues\n"
          ]
        }
      ],
      "source": [
        "# Test\n",
        "text = \"\"\"\n",
        "Ad sales boost Time Warner profit\n",
        "\n",
        "Quarterly profits at US media giant TimeWarner jumped 76% to $1.13bn (£600m) for the three months to December, from $639m year-earlier.\n",
        "\n",
        "The firm, which is now one of the biggest investors in Google, benefited from sales of high-speed internet connections and higher advert sales. TimeWarner said fourth quarter sales rose 2% to $11.1bn from $10.9bn. Its profits were buoyed by one-off gains which offset a profit dip at Warner Bros, and less users for AOL.\n",
        "\n",
        "Time Warner said on Friday that it now owns 8% of search-engine Google. But its own internet business, AOL, had has mixed fortunes. It lost 464,000 subscribers in the fourth quarter profits were lower than in the preceding three quarters. However, the company said AOL's underlying profit before exceptional items rose 8% on the back of stronger internet advertising revenues. It hopes to increase subscribers by offering the online service free to TimeWarner internet customers and will try to sign up AOL's existing customers for high-speed broadband. TimeWarner also has to restate 2000 and 2003 results following a probe by the US Securities Exchange Commission (SEC), which is close to concluding.\n",
        "\n",
        "Time Warner's fourth quarter profits were slightly better than analysts' expectations. But its film division saw profits slump 27% to $284m, helped by box-office flops Alexander and Catwoman, a sharp contrast to year-earlier, when the third and final film in the Lord of the Rings trilogy boosted results. For the full-year, TimeWarner posted a profit of $3.36bn, up 27% from its 2003 performance, while revenues grew 6.4% to $42.09bn. \"Our financial performance was strong, meeting or exceeding all of our full-year objectives and greatly enhancing our flexibility,\" chairman and chief executive Richard Parsons said. For 2005, TimeWarner is projecting operating earnings growth of around 5%, and also expects higher revenue and wider profit margins.\n",
        "\n",
        "TimeWarner is to restate its accounts as part of efforts to resolve an inquiry into AOL by US market regulators. It has already offered to pay $300m to settle charges, in a deal that is under review by the SEC. The company said it was unable to estimate the amount it needed to set aside for legal reserves, which it previously set at $500m. It intends to adjust the way it accounts for a deal with German music publisher Bertelsmann's purchase of a stake in AOL Europe, which it had reported as advertising revenue. It will now book the sale of its stake in AOL Europe as a loss on the value of that stake.\n",
        "\n",
        "\"\"\"\n",
        "\n",
        "\n",
        "\n",
        "compression_rate = 0.5\n",
        "\n",
        "summary = lsa_summarizer(text, compression_rate)\n",
        "print(summary)"
      ]
    },
    {
      "cell_type": "code",
      "execution_count": 19,
      "metadata": {
        "id": "taTzacn4Lsiv"
      },
      "outputs": [],
      "source": [
        "from rouge import Rouge\n",
        "import pandas as pd\n",
        "\n",
        "def evaluate_rouge_scores(df):\n",
        "    rouge = Rouge()\n",
        "\n",
        "    rouge_scores = {\n",
        "        'all_classes': {\n",
        "            'rouge-1': {\n",
        "                'f': [],\n",
        "                'p': [],\n",
        "                'r': []\n",
        "            }\n",
        "        }\n",
        "    }\n",
        "\n",
        "    # Get unique classes\n",
        "    classes = df['Class'].unique()\n",
        "\n",
        "    for cls in classes:\n",
        "        rouge_scores[cls] = {\n",
        "            'rouge-1': {\n",
        "                'f': [],\n",
        "                'p': [],\n",
        "                'r': []\n",
        "            }\n",
        "        }\n",
        "\n",
        "    for _, row in df.iterrows():\n",
        "        text = row['Text']\n",
        "        reference_summary = row['Summary']\n",
        "        cls = row['Class']\n",
        "\n",
        "        # preprocessing\n",
        "        preprocessed_text = preprocess_text(text)\n",
        "        preprocessed_reference_summary = preprocess_text(reference_summary)\n",
        "\n",
        "        # Generate summary with compression rate\n",
        "        compression_rate = len(preprocessed_reference_summary.split()) / len(preprocessed_text.split())\n",
        "        summary = lsa_summarizer(preprocessed_text, compression_rate=compression_rate)\n",
        "\n",
        "        # calculate rouge 1\n",
        "        rouge_scores_all = rouge.get_scores(summary, reference_summary)[0]\n",
        "        rouge_scores_cls = rouge_scores[cls]\n",
        "\n",
        "        # Add rouge score values\n",
        "        rouge_scores_all_cls = rouge_scores_cls['rouge-1']\n",
        "        rouge_scores_all_cls['f'].append(rouge_scores_all['rouge-1']['f'])\n",
        "        rouge_scores_all_cls['p'].append(rouge_scores_all['rouge-1']['p'])\n",
        "        rouge_scores_all_cls['r'].append(rouge_scores_all['rouge-1']['r'])\n",
        "\n",
        "        # Add rouge score values for all classes\n",
        "        rouge_scores_all_all = rouge_scores['all_classes']['rouge-1']\n",
        "        rouge_scores_all_all['f'].append(rouge_scores_all['rouge-1']['f'])\n",
        "        rouge_scores_all_all['p'].append(rouge_scores_all['rouge-1']['p'])\n",
        "        rouge_scores_all_all['r'].append(rouge_scores_all['rouge-1']['r'])\n",
        "\n",
        "    return rouge_scores\n"
      ]
    },
    {
      "cell_type": "code",
      "execution_count": 15,
      "metadata": {
        "colab": {
          "base_uri": "https://localhost:8080/",
          "height": 206
        },
        "id": "kt4C66V9JsHE",
        "outputId": "f4730252-48e8-4d3c-c5f6-27b31a5de6f6"
      },
      "outputs": [
        {
          "data": {
            "text/html": [
              "\n",
              "  <div id=\"df-71a41fcb-9375-408f-8d0a-1052c741f68d\">\n",
              "    <div class=\"colab-df-container\">\n",
              "      <div>\n",
              "<style scoped>\n",
              "    .dataframe tbody tr th:only-of-type {\n",
              "        vertical-align: middle;\n",
              "    }\n",
              "\n",
              "    .dataframe tbody tr th {\n",
              "        vertical-align: top;\n",
              "    }\n",
              "\n",
              "    .dataframe thead th {\n",
              "        text-align: right;\n",
              "    }\n",
              "</style>\n",
              "<table border=\"1\" class=\"dataframe\">\n",
              "  <thead>\n",
              "    <tr style=\"text-align: right;\">\n",
              "      <th></th>\n",
              "      <th>Text</th>\n",
              "      <th>Class</th>\n",
              "      <th>Summary</th>\n",
              "    </tr>\n",
              "  </thead>\n",
              "  <tbody>\n",
              "    <tr>\n",
              "      <th>0</th>\n",
              "      <td>I have heard nothing from the Ambassador about...</td>\n",
              "      <td>Political speech</td>\n",
              "      <td>I fully covered, in my conference last week, m...</td>\n",
              "    </tr>\n",
              "    <tr>\n",
              "      <th>1</th>\n",
              "      <td>I think it is in the public interest to procee...</td>\n",
              "      <td>Political speech</td>\n",
              "      <td>I think it is in the public interest to procee...</td>\n",
              "    </tr>\n",
              "    <tr>\n",
              "      <th>2</th>\n",
              "      <td>The A-11 aircraft now at Edwards Air force Bas...</td>\n",
              "      <td>Political speech</td>\n",
              "      <td>for example, one of the most important technic...</td>\n",
              "    </tr>\n",
              "    <tr>\n",
              "      <th>3</th>\n",
              "      <td>It is one of the most comprehensive bills in t...</td>\n",
              "      <td>Political speech</td>\n",
              "      <td>I hope that we can work toward the goal of som...</td>\n",
              "    </tr>\n",
              "    <tr>\n",
              "      <th>4</th>\n",
              "      <td>So long as there remains a man without a job, ...</td>\n",
              "      <td>Political speech</td>\n",
              "      <td>The contest in which South Viet-Nam is now eng...</td>\n",
              "    </tr>\n",
              "  </tbody>\n",
              "</table>\n",
              "</div>\n",
              "      <button class=\"colab-df-convert\" onclick=\"convertToInteractive('df-71a41fcb-9375-408f-8d0a-1052c741f68d')\"\n",
              "              title=\"Convert this dataframe to an interactive table.\"\n",
              "              style=\"display:none;\">\n",
              "        \n",
              "  <svg xmlns=\"http://www.w3.org/2000/svg\" height=\"24px\"viewBox=\"0 0 24 24\"\n",
              "       width=\"24px\">\n",
              "    <path d=\"M0 0h24v24H0V0z\" fill=\"none\"/>\n",
              "    <path d=\"M18.56 5.44l.94 2.06.94-2.06 2.06-.94-2.06-.94-.94-2.06-.94 2.06-2.06.94zm-11 1L8.5 8.5l.94-2.06 2.06-.94-2.06-.94L8.5 2.5l-.94 2.06-2.06.94zm10 10l.94 2.06.94-2.06 2.06-.94-2.06-.94-.94-2.06-.94 2.06-2.06.94z\"/><path d=\"M17.41 7.96l-1.37-1.37c-.4-.4-.92-.59-1.43-.59-.52 0-1.04.2-1.43.59L10.3 9.45l-7.72 7.72c-.78.78-.78 2.05 0 2.83L4 21.41c.39.39.9.59 1.41.59.51 0 1.02-.2 1.41-.59l7.78-7.78 2.81-2.81c.8-.78.8-2.07 0-2.86zM5.41 20L4 18.59l7.72-7.72 1.47 1.35L5.41 20z\"/>\n",
              "  </svg>\n",
              "      </button>\n",
              "      \n",
              "  <style>\n",
              "    .colab-df-container {\n",
              "      display:flex;\n",
              "      flex-wrap:wrap;\n",
              "      gap: 12px;\n",
              "    }\n",
              "\n",
              "    .colab-df-convert {\n",
              "      background-color: #E8F0FE;\n",
              "      border: none;\n",
              "      border-radius: 50%;\n",
              "      cursor: pointer;\n",
              "      display: none;\n",
              "      fill: #1967D2;\n",
              "      height: 32px;\n",
              "      padding: 0 0 0 0;\n",
              "      width: 32px;\n",
              "    }\n",
              "\n",
              "    .colab-df-convert:hover {\n",
              "      background-color: #E2EBFA;\n",
              "      box-shadow: 0px 1px 2px rgba(60, 64, 67, 0.3), 0px 1px 3px 1px rgba(60, 64, 67, 0.15);\n",
              "      fill: #174EA6;\n",
              "    }\n",
              "\n",
              "    [theme=dark] .colab-df-convert {\n",
              "      background-color: #3B4455;\n",
              "      fill: #D2E3FC;\n",
              "    }\n",
              "\n",
              "    [theme=dark] .colab-df-convert:hover {\n",
              "      background-color: #434B5C;\n",
              "      box-shadow: 0px 1px 3px 1px rgba(0, 0, 0, 0.15);\n",
              "      filter: drop-shadow(0px 1px 2px rgba(0, 0, 0, 0.3));\n",
              "      fill: #FFFFFF;\n",
              "    }\n",
              "  </style>\n",
              "\n",
              "      <script>\n",
              "        const buttonEl =\n",
              "          document.querySelector('#df-71a41fcb-9375-408f-8d0a-1052c741f68d button.colab-df-convert');\n",
              "        buttonEl.style.display =\n",
              "          google.colab.kernel.accessAllowed ? 'block' : 'none';\n",
              "\n",
              "        async function convertToInteractive(key) {\n",
              "          const element = document.querySelector('#df-71a41fcb-9375-408f-8d0a-1052c741f68d');\n",
              "          const dataTable =\n",
              "            await google.colab.kernel.invokeFunction('convertToInteractive',\n",
              "                                                     [key], {});\n",
              "          if (!dataTable) return;\n",
              "\n",
              "          const docLinkHtml = 'Like what you see? Visit the ' +\n",
              "            '<a target=\"_blank\" href=https://colab.research.google.com/notebooks/data_table.ipynb>data table notebook</a>'\n",
              "            + ' to learn more about interactive tables.';\n",
              "          element.innerHTML = '';\n",
              "          dataTable['output_type'] = 'display_data';\n",
              "          await google.colab.output.renderOutput(dataTable, element);\n",
              "          const docLink = document.createElement('div');\n",
              "          docLink.innerHTML = docLinkHtml;\n",
              "          element.appendChild(docLink);\n",
              "        }\n",
              "      </script>\n",
              "    </div>\n",
              "  </div>\n",
              "  "
            ],
            "text/plain": [
              "                                                Text             Class  \\\n",
              "0  I have heard nothing from the Ambassador about...  Political speech   \n",
              "1  I think it is in the public interest to procee...  Political speech   \n",
              "2  The A-11 aircraft now at Edwards Air force Bas...  Political speech   \n",
              "3  It is one of the most comprehensive bills in t...  Political speech   \n",
              "4  So long as there remains a man without a job, ...  Political speech   \n",
              "\n",
              "                                             Summary  \n",
              "0  I fully covered, in my conference last week, m...  \n",
              "1  I think it is in the public interest to procee...  \n",
              "2  for example, one of the most important technic...  \n",
              "3  I hope that we can work toward the goal of som...  \n",
              "4  The contest in which South Viet-Nam is now eng...  "
            ]
          },
          "execution_count": 15,
          "metadata": {},
          "output_type": "execute_result"
        }
      ],
      "source": [
        "# Data\n",
        "import pandas as pd\n",
        "\n",
        "# Read Dataframe\n",
        "df = pd.read_csv('/content/sample_data/Dataset_reference_summaries.csv')\n",
        "\n",
        "# Show Dataframe\n",
        "df.head()\n",
        "\n"
      ]
    },
    {
      "cell_type": "code",
      "execution_count": 23,
      "metadata": {
        "id": "tx7VvT21uXio"
      },
      "outputs": [],
      "source": [
        "# make sure all strings\n",
        "df['Text'] = df['Text'].astype(str)\n",
        "df['Summary'] = df['Summary'].astype(str)\n",
        "\n"
      ]
    },
    {
      "cell_type": "code",
      "execution_count": null,
      "metadata": {
        "id": "p4RSIzOn9QeD"
      },
      "outputs": [],
      "source": [
        "rouge_scores = evaluate_rouge_scores(df)\n",
        "\n",
        "# calculate ROUGE-1-Scores for all classes\n",
        "print(\"ROUGE-1 Scores für alle Klassen:\")\n",
        "print(rouge_scores['all_classes']['rouge-1'])\n",
        "\n",
        "# calculate ROUGE-1-Scores for each class\n",
        "for cls, scores in rouge_scores.items():\n",
        "    if cls != 'all_classes':\n",
        "        print(f\"ROUGE-1 Scores für Klasse {cls}:\")\n",
        "        print(scores['rouge-1'])\n"
      ]
    },
    {
      "cell_type": "code",
      "execution_count": 29,
      "metadata": {
        "colab": {
          "base_uri": "https://localhost:8080/"
        },
        "id": "_AXSNGcV6qXS",
        "outputId": "05703f40-6833-4fd4-8491-49880319c67a"
      },
      "outputs": [
        {
          "name": "stdout",
          "output_type": "stream",
          "text": [
            "ROUGE-1 Scores für alle Klassen:\n",
            "F1-Score Durchschnitt für alle Klassen: 0.26 (Min: 0.00, Max: 0.73)\n",
            "Precision Durchschnitt für alle Klassen: 0.28 (Min: 0.00, Max: 0.82)\n",
            "Recall Durchschnitt für alle Klassen: 0.28 (Min: 0.00, Max: 0.84)\n",
            "ROUGE-1 Scores für Klasse Political speech:\n",
            "F1-Score Durchschnitt für Klasse Political speech: 0.28 (Min: 0.00, Max: 0.59)\n",
            "Precision Durchschnitt für Klasse Political speech: 0.29 (Min: 0.00, Max: 0.66)\n",
            "Recall Durchschnitt für Klasse Political speech: 0.31 (Min: 0.00, Max: 0.53)\n",
            "ROUGE-1 Scores für Klasse News:\n",
            "F1-Score Durchschnitt für Klasse News: 0.22 (Min: 0.00, Max: 0.43)\n",
            "Precision Durchschnitt für Klasse News: 0.23 (Min: 0.00, Max: 0.56)\n",
            "Recall Durchschnitt für Klasse News: 0.23 (Min: 0.00, Max: 0.53)\n",
            "ROUGE-1 Scores für Klasse Jurisdiction:\n",
            "F1-Score Durchschnitt für Klasse Jurisdiction: 0.29 (Min: 0.03, Max: 0.53)\n",
            "Precision Durchschnitt für Klasse Jurisdiction: 0.29 (Min: 0.02, Max: 0.67)\n",
            "Recall Durchschnitt für Klasse Jurisdiction: 0.32 (Min: 0.11, Max: 0.44)\n",
            "ROUGE-1 Scores für Klasse Literature:\n",
            "F1-Score Durchschnitt für Klasse Literature: 0.25 (Min: 0.00, Max: 0.50)\n",
            "Precision Durchschnitt für Klasse Literature: 0.28 (Min: 0.00, Max: 0.65)\n",
            "Recall Durchschnitt für Klasse Literature: 0.26 (Min: 0.00, Max: 0.61)\n",
            "ROUGE-1 Scores für Klasse Blog:\n",
            "F1-Score Durchschnitt für Klasse Blog: 0.29 (Min: 0.00, Max: 0.73)\n",
            "Precision Durchschnitt für Klasse Blog: 0.32 (Min: 0.00, Max: 0.82)\n",
            "Recall Durchschnitt für Klasse Blog: 0.28 (Min: 0.00, Max: 0.84)\n"
          ]
        }
      ],
      "source": [
        "# calculate avg, max, min for all classes\n",
        "print(\"ROUGE-1 Scores für alle Klassen:\")\n",
        "all_classes_scores = rouge_scores['all_classes']['rouge-1']\n",
        "all_classes_f1_avg = sum(all_classes_scores['f']) / len(all_classes_scores['f'])\n",
        "all_classes_p_avg = sum(all_classes_scores['p']) / len(all_classes_scores['p'])\n",
        "all_classes_r_avg = sum(all_classes_scores['r']) / len(all_classes_scores['r'])\n",
        "all_classes_f1_min = min(all_classes_scores['f'])\n",
        "all_classes_p_min = min(all_classes_scores['p'])\n",
        "all_classes_r_min = min(all_classes_scores['r'])\n",
        "all_classes_f1_max = max(all_classes_scores['f'])\n",
        "all_classes_p_max = max(all_classes_scores['p'])\n",
        "all_classes_r_max = max(all_classes_scores['r'])\n",
        "print(f\"F1-Score Durchschnitt für alle Klassen: {all_classes_f1_avg:.2f} (Min: {all_classes_f1_min:.2f}, Max: {all_classes_f1_max:.2f})\")\n",
        "print(f\"Precision Durchschnitt für alle Klassen: {all_classes_p_avg:.2f} (Min: {all_classes_p_min:.2f}, Max: {all_classes_p_max:.2f})\")\n",
        "print(f\"Recall Durchschnitt für alle Klassen: {all_classes_r_avg:.2f} (Min: {all_classes_r_min:.2f}, Max: {all_classes_r_max:.2f})\")\n",
        "\n",
        "# calculate avg, max, min for each class\n",
        "for cls, scores in rouge_scores.items():\n",
        "    if cls != 'all_classes':\n",
        "        print(f\"ROUGE-1 Scores für Klasse {cls}:\")\n",
        "        class_scores = scores['rouge-1']\n",
        "        class_f1_avg = sum(class_scores['f']) / len(class_scores['f'])\n",
        "        class_p_avg = sum(class_scores['p']) / len(class_scores['p'])\n",
        "        class_r_avg = sum(class_scores['r']) / len(class_scores['r'])\n",
        "        class_f1_min = min(class_scores['f'])\n",
        "        class_p_min = min(class_scores['p'])\n",
        "        class_r_min = min(class_scores['r'])\n",
        "        class_f1_max = max(class_scores['f'])\n",
        "        class_p_max = max(class_scores['p'])\n",
        "        class_r_max = max(class_scores['r'])\n",
        "        print(f\"F1-Score Durchschnitt für Klasse {cls}: {class_f1_avg:.2f} (Min: {class_f1_min:.2f}, Max: {class_f1_max:.2f})\")\n",
        "        print(f\"Precision Durchschnitt für Klasse {cls}: {class_p_avg:.2f} (Min: {class_p_min:.2f}, Max: {class_p_max:.2f})\")\n",
        "        print(f\"Recall Durchschnitt für Klasse {cls}: {class_r_avg:.2f} (Min: {class_r_min:.2f}, Max: {class_r_max:.2f})\")\n"
      ]
    }
  ],
  "metadata": {
    "colab": {
      "provenance": []
    },
    "kernelspec": {
      "display_name": "Python 3",
      "name": "python3"
    },
    "language_info": {
      "name": "python"
    }
  },
  "nbformat": 4,
  "nbformat_minor": 0
}
