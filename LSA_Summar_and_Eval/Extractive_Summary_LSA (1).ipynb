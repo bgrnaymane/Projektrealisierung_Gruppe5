{
  "nbformat": 4,
  "nbformat_minor": 0,
  "metadata": {
    "colab": {
      "provenance": []
    },
    "kernelspec": {
      "name": "python3",
      "display_name": "Python 3"
    },
    "language_info": {
      "name": "python"
    }
  },
  "cells": [
    {
      "cell_type": "code",
      "source": [
        "!pip install -U pip setuptools wheel\n",
        "!pip install -U 'spacy[cuda-autodetect,transformers,lookups]'\n",
        "!python -m spacy download en_core_web_sm"
      ],
      "metadata": {
        "id": "F8qfO_7dc-bN"
      },
      "execution_count": null,
      "outputs": []
    },
    {
      "cell_type": "code",
      "source": [
        "!pip install en_core_web_sm"
      ],
      "metadata": {
        "id": "jZ4ZggPCdC8u"
      },
      "execution_count": null,
      "outputs": []
    },
    {
      "cell_type": "code",
      "source": [
        "import spacy\n",
        "\n",
        "# Load Spacy model\n",
        "nlp = spacy.load(\"en_core_web_sm\")"
      ],
      "metadata": {
        "id": "k3I9FnPadF68"
      },
      "execution_count": 3,
      "outputs": []
    },
    {
      "cell_type": "code",
      "execution_count": 4,
      "metadata": {
        "id": "739vJspBXZ7u"
      },
      "outputs": [],
      "source": [
        "from sklearn.feature_extraction.text import CountVectorizer\n",
        "from sklearn.decomposition import TruncatedSVD\n",
        "from sklearn.metrics.pairwise import cosine_similarity\n",
        "import numpy as np\n",
        "import heapq\n",
        "\n",
        "\n"
      ]
    },
    {
      "cell_type": "code",
      "source": [
        "# Function for Tokenization, Remove stopwords, Lowercasing, Lemmatization, Remove punctuation \n",
        "def preprocess_text(text):\n",
        "    # Tokenization\n",
        "    doc = nlp(text)\n",
        "    \n",
        "    # Remove stopwords, Lowercasing, Lemmatization, Remove punctuation \n",
        "    preprocessed_tokens = [token.lemma_.lower() for token in doc if not token.is_stop and not token.is_punct]\n",
        "    \n",
        "    # Return the preprocessed tokens as text\n",
        "    preprocessed_text = \" \".join(preprocessed_tokens)\n",
        "    return preprocessed_text\n",
        "\n",
        "\n"
      ],
      "metadata": {
        "id": "jAJeDJGeYm_H"
      },
      "execution_count": 5,
      "outputs": []
    },
    {
      "cell_type": "code",
      "source": [
        "def lsa_summarizer(text, compression_rate):\n",
        "    # Split text sentence\n",
        "    sentences = text.split('. ') \n",
        "    \n",
        "    # Text Vectorization\n",
        "    vectorizer = CountVectorizer()\n",
        "    term_document_matrix = vectorizer.fit_transform(sentences)\n",
        "    \n",
        "    # LSA-Model\n",
        "    num_components = max(int(len(sentences) * compression_rate), 1)\n",
        "    lsa_model = TruncatedSVD(n_components=num_components)\n",
        "    lsa_matrix = lsa_model.fit_transform(term_document_matrix)\n",
        "    \n",
        "    # Ranking sentences\n",
        "    sentence_scores = lsa_matrix.sum(axis=1)\n",
        "    \n",
        "    # Select sentences\n",
        "    num_sentences = max(int(len(sentences) * compression_rate), 1)\n",
        "    top_sentences = heapq.nlargest(num_sentences, range(len(sentences)), key=sentence_scores.__getitem__)\n",
        "    \n",
        "    # Create summary\n",
        "    summary_sentences = [sentences[idx] for idx in top_sentences]\n",
        "    summary = '. '.join(summary_sentences)\n",
        "    \n",
        "    return summary\n"
      ],
      "metadata": {
        "id": "BrEZB-HKbzfI"
      },
      "execution_count": 23,
      "outputs": []
    },
    {
      "cell_type": "code",
      "source": [
        "# Test\n",
        "text = \"\"\"\n",
        "Ad sales boost Time Warner profit\n",
        "\n",
        "Quarterly profits at US media giant TimeWarner jumped 76% to $1.13bn (£600m) for the three months to December, from $639m year-earlier.\n",
        "\n",
        "The firm, which is now one of the biggest investors in Google, benefited from sales of high-speed internet connections and higher advert sales. TimeWarner said fourth quarter sales rose 2% to $11.1bn from $10.9bn. Its profits were buoyed by one-off gains which offset a profit dip at Warner Bros, and less users for AOL.\n",
        "\n",
        "Time Warner said on Friday that it now owns 8% of search-engine Google. But its own internet business, AOL, had has mixed fortunes. It lost 464,000 subscribers in the fourth quarter profits were lower than in the preceding three quarters. However, the company said AOL's underlying profit before exceptional items rose 8% on the back of stronger internet advertising revenues. It hopes to increase subscribers by offering the online service free to TimeWarner internet customers and will try to sign up AOL's existing customers for high-speed broadband. TimeWarner also has to restate 2000 and 2003 results following a probe by the US Securities Exchange Commission (SEC), which is close to concluding.\n",
        "\n",
        "Time Warner's fourth quarter profits were slightly better than analysts' expectations. But its film division saw profits slump 27% to $284m, helped by box-office flops Alexander and Catwoman, a sharp contrast to year-earlier, when the third and final film in the Lord of the Rings trilogy boosted results. For the full-year, TimeWarner posted a profit of $3.36bn, up 27% from its 2003 performance, while revenues grew 6.4% to $42.09bn. \"Our financial performance was strong, meeting or exceeding all of our full-year objectives and greatly enhancing our flexibility,\" chairman and chief executive Richard Parsons said. For 2005, TimeWarner is projecting operating earnings growth of around 5%, and also expects higher revenue and wider profit margins.\n",
        "\n",
        "TimeWarner is to restate its accounts as part of efforts to resolve an inquiry into AOL by US market regulators. It has already offered to pay $300m to settle charges, in a deal that is under review by the SEC. The company said it was unable to estimate the amount it needed to set aside for legal reserves, which it previously set at $500m. It intends to adjust the way it accounts for a deal with German music publisher Bertelsmann's purchase of a stake in AOL Europe, which it had reported as advertising revenue. It will now book the sale of its stake in AOL Europe as a loss on the value of that stake.\n",
        "\n",
        "\"\"\"\n",
        "\n",
        "\n",
        "\n",
        "compression_rate = 0.5\n",
        "\n",
        "summary = lsa_summarizer(text, compression_rate)\n",
        "print(summary)"
      ],
      "metadata": {
        "colab": {
          "base_uri": "https://localhost:8080/"
        },
        "id": "NUMG0yE7YpX8",
        "outputId": "1883d7fb-79c6-452a-ad21-930b51e6015c"
      },
      "execution_count": 7,
      "outputs": [
        {
          "output_type": "stream",
          "name": "stdout",
          "text": [
            "But its film division saw profits slump 27% to $284m, helped by box-office flops Alexander and Catwoman, a sharp contrast to year-earlier, when the third and final film in the Lord of the Rings trilogy boosted results. The company said it was unable to estimate the amount it needed to set aside for legal reserves, which it previously set at $500m. Its profits were buoyed by one-off gains which offset a profit dip at Warner Bros, and less users for AOL.\n",
            "\n",
            "Time Warner said on Friday that it now owns 8% of search-engine Google. \"Our financial performance was strong, meeting or exceeding all of our full-year objectives and greatly enhancing our flexibility,\" chairman and chief executive Richard Parsons said. \n",
            "Ad sales boost Time Warner profit\n",
            "\n",
            "Quarterly profits at US media giant TimeWarner jumped 76% to $1.13bn (£600m) for the three months to December, from $639m year-earlier.\n",
            "\n",
            "The firm, which is now one of the biggest investors in Google, benefited from sales of high-speed internet connections and higher advert sales. It hopes to increase subscribers by offering the online service free to TimeWarner internet customers and will try to sign up AOL's existing customers for high-speed broadband. It lost 464,000 subscribers in the fourth quarter profits were lower than in the preceding three quarters. However, the company said AOL's underlying profit before exceptional items rose 8% on the back of stronger internet advertising revenues\n"
          ]
        }
      ]
    },
    {
      "cell_type": "code",
      "source": [
        "# Evaluation\n",
        "\n",
        "# Data\n",
        "import pandas as pd\n",
        "\n",
        "# Read Dataframe\n",
        "df = pd.read_csv('/content/sample_data/BBC_Dataset_concatenated.csv')\n",
        "\n",
        "# Show Dataframe\n",
        "df.head()\n",
        "     "
      ],
      "metadata": {
        "colab": {
          "base_uri": "https://localhost:8080/",
          "height": 206
        },
        "id": "kt4C66V9JsHE",
        "outputId": "2848217f-0434-4173-e480-3115c5b398b5"
      },
      "execution_count": 14,
      "outputs": [
        {
          "output_type": "execute_result",
          "data": {
            "text/plain": [
              "                                                Text  \\\n",
              "0  Ad sales boost Time Warner profit\\n\\nQuarterly...   \n",
              "1  Dollar gains on Greenspan speech\\n\\nThe dollar...   \n",
              "2  Yukos unit buyer faces loan claim\\n\\nThe owner...   \n",
              "3  High fuel prices hit BA's profits\\n\\nBritish A...   \n",
              "4  Pernod takeover talk lifts Domecq\\n\\nShares in...   \n",
              "\n",
              "                                     Zusammenfassung Kategorie  \n",
              "0  TimeWarner said fourth quarter sales rose 2% t...  business  \n",
              "1  The dollar has hit its highest level against t...  business  \n",
              "2  Yukos' owner Menatep Group says it will ask Ro...  business  \n",
              "3  Rod Eddington, BA's chief executive, said the ...  business  \n",
              "4  Pernod has reduced the debt it took on to fund...  business  "
            ],
            "text/html": [
              "\n",
              "  <div id=\"df-67736a61-80d1-4d2b-8b9b-f6f9d58f24b1\">\n",
              "    <div class=\"colab-df-container\">\n",
              "      <div>\n",
              "<style scoped>\n",
              "    .dataframe tbody tr th:only-of-type {\n",
              "        vertical-align: middle;\n",
              "    }\n",
              "\n",
              "    .dataframe tbody tr th {\n",
              "        vertical-align: top;\n",
              "    }\n",
              "\n",
              "    .dataframe thead th {\n",
              "        text-align: right;\n",
              "    }\n",
              "</style>\n",
              "<table border=\"1\" class=\"dataframe\">\n",
              "  <thead>\n",
              "    <tr style=\"text-align: right;\">\n",
              "      <th></th>\n",
              "      <th>Text</th>\n",
              "      <th>Zusammenfassung</th>\n",
              "      <th>Kategorie</th>\n",
              "    </tr>\n",
              "  </thead>\n",
              "  <tbody>\n",
              "    <tr>\n",
              "      <th>0</th>\n",
              "      <td>Ad sales boost Time Warner profit\\n\\nQuarterly...</td>\n",
              "      <td>TimeWarner said fourth quarter sales rose 2% t...</td>\n",
              "      <td>business</td>\n",
              "    </tr>\n",
              "    <tr>\n",
              "      <th>1</th>\n",
              "      <td>Dollar gains on Greenspan speech\\n\\nThe dollar...</td>\n",
              "      <td>The dollar has hit its highest level against t...</td>\n",
              "      <td>business</td>\n",
              "    </tr>\n",
              "    <tr>\n",
              "      <th>2</th>\n",
              "      <td>Yukos unit buyer faces loan claim\\n\\nThe owner...</td>\n",
              "      <td>Yukos' owner Menatep Group says it will ask Ro...</td>\n",
              "      <td>business</td>\n",
              "    </tr>\n",
              "    <tr>\n",
              "      <th>3</th>\n",
              "      <td>High fuel prices hit BA's profits\\n\\nBritish A...</td>\n",
              "      <td>Rod Eddington, BA's chief executive, said the ...</td>\n",
              "      <td>business</td>\n",
              "    </tr>\n",
              "    <tr>\n",
              "      <th>4</th>\n",
              "      <td>Pernod takeover talk lifts Domecq\\n\\nShares in...</td>\n",
              "      <td>Pernod has reduced the debt it took on to fund...</td>\n",
              "      <td>business</td>\n",
              "    </tr>\n",
              "  </tbody>\n",
              "</table>\n",
              "</div>\n",
              "      <button class=\"colab-df-convert\" onclick=\"convertToInteractive('df-67736a61-80d1-4d2b-8b9b-f6f9d58f24b1')\"\n",
              "              title=\"Convert this dataframe to an interactive table.\"\n",
              "              style=\"display:none;\">\n",
              "        \n",
              "  <svg xmlns=\"http://www.w3.org/2000/svg\" height=\"24px\"viewBox=\"0 0 24 24\"\n",
              "       width=\"24px\">\n",
              "    <path d=\"M0 0h24v24H0V0z\" fill=\"none\"/>\n",
              "    <path d=\"M18.56 5.44l.94 2.06.94-2.06 2.06-.94-2.06-.94-.94-2.06-.94 2.06-2.06.94zm-11 1L8.5 8.5l.94-2.06 2.06-.94-2.06-.94L8.5 2.5l-.94 2.06-2.06.94zm10 10l.94 2.06.94-2.06 2.06-.94-2.06-.94-.94-2.06-.94 2.06-2.06.94z\"/><path d=\"M17.41 7.96l-1.37-1.37c-.4-.4-.92-.59-1.43-.59-.52 0-1.04.2-1.43.59L10.3 9.45l-7.72 7.72c-.78.78-.78 2.05 0 2.83L4 21.41c.39.39.9.59 1.41.59.51 0 1.02-.2 1.41-.59l7.78-7.78 2.81-2.81c.8-.78.8-2.07 0-2.86zM5.41 20L4 18.59l7.72-7.72 1.47 1.35L5.41 20z\"/>\n",
              "  </svg>\n",
              "      </button>\n",
              "      \n",
              "  <style>\n",
              "    .colab-df-container {\n",
              "      display:flex;\n",
              "      flex-wrap:wrap;\n",
              "      gap: 12px;\n",
              "    }\n",
              "\n",
              "    .colab-df-convert {\n",
              "      background-color: #E8F0FE;\n",
              "      border: none;\n",
              "      border-radius: 50%;\n",
              "      cursor: pointer;\n",
              "      display: none;\n",
              "      fill: #1967D2;\n",
              "      height: 32px;\n",
              "      padding: 0 0 0 0;\n",
              "      width: 32px;\n",
              "    }\n",
              "\n",
              "    .colab-df-convert:hover {\n",
              "      background-color: #E2EBFA;\n",
              "      box-shadow: 0px 1px 2px rgba(60, 64, 67, 0.3), 0px 1px 3px 1px rgba(60, 64, 67, 0.15);\n",
              "      fill: #174EA6;\n",
              "    }\n",
              "\n",
              "    [theme=dark] .colab-df-convert {\n",
              "      background-color: #3B4455;\n",
              "      fill: #D2E3FC;\n",
              "    }\n",
              "\n",
              "    [theme=dark] .colab-df-convert:hover {\n",
              "      background-color: #434B5C;\n",
              "      box-shadow: 0px 1px 3px 1px rgba(0, 0, 0, 0.15);\n",
              "      filter: drop-shadow(0px 1px 2px rgba(0, 0, 0, 0.3));\n",
              "      fill: #FFFFFF;\n",
              "    }\n",
              "  </style>\n",
              "\n",
              "      <script>\n",
              "        const buttonEl =\n",
              "          document.querySelector('#df-67736a61-80d1-4d2b-8b9b-f6f9d58f24b1 button.colab-df-convert');\n",
              "        buttonEl.style.display =\n",
              "          google.colab.kernel.accessAllowed ? 'block' : 'none';\n",
              "\n",
              "        async function convertToInteractive(key) {\n",
              "          const element = document.querySelector('#df-67736a61-80d1-4d2b-8b9b-f6f9d58f24b1');\n",
              "          const dataTable =\n",
              "            await google.colab.kernel.invokeFunction('convertToInteractive',\n",
              "                                                     [key], {});\n",
              "          if (!dataTable) return;\n",
              "\n",
              "          const docLinkHtml = 'Like what you see? Visit the ' +\n",
              "            '<a target=\"_blank\" href=https://colab.research.google.com/notebooks/data_table.ipynb>data table notebook</a>'\n",
              "            + ' to learn more about interactive tables.';\n",
              "          element.innerHTML = '';\n",
              "          dataTable['output_type'] = 'display_data';\n",
              "          await google.colab.output.renderOutput(dataTable, element);\n",
              "          const docLink = document.createElement('div');\n",
              "          docLink.innerHTML = docLinkHtml;\n",
              "          element.appendChild(docLink);\n",
              "        }\n",
              "      </script>\n",
              "    </div>\n",
              "  </div>\n",
              "  "
            ]
          },
          "metadata": {},
          "execution_count": 14
        }
      ]
    },
    {
      "cell_type": "code",
      "source": [
        "# Data set for evaluation\n",
        "\n",
        "!pip install datasets\n",
        "import os\n",
        "import re\n",
        "\n",
        "from datasets import load_dataset\n",
        "import pandas as pd\n",
        "\n",
        "import requests\n",
        "import json\n",
        "\n",
        "from statistics import mean\n",
        "\n",
        "import random\n",
        "import csv\n",
        "import nltk\n",
        "from nltk.corpus import gutenberg\n",
        "\n",
        "import random"
      ],
      "metadata": {
        "id": "feoYESsuIbUm"
      },
      "execution_count": null,
      "outputs": []
    },
    {
      "cell_type": "code",
      "source": [
        "!pip install nltk\n",
        "!pip install rouge-score\n",
        "nltk.download('punkt')\n",
        "nltk.download('averaged_perceptron_tagger')\n",
        "nltk.download('wordnet')"
      ],
      "metadata": {
        "id": "3_zRlrysMlKy"
      },
      "execution_count": null,
      "outputs": []
    },
    {
      "cell_type": "code",
      "source": [
        "from rouge_score import rouge_scorer\n"
      ],
      "metadata": {
        "id": "cN3hEBbnIxbF"
      },
      "execution_count": 19,
      "outputs": []
    },
    {
      "cell_type": "code",
      "source": [
        "def evaluate_rouge_scores(data_path):\n",
        "    data = pd.read_csv(data_path)\n",
        "\n",
        "    scorer = rouge_scorer.RougeScorer(['rouge1', 'rouge2', 'rougeL'])\n",
        "\n",
        "    rouge_scores = {\n",
        "        'rouge1': [],\n",
        "        'rouge2': [],\n",
        "        'rougeL': []\n",
        "    }\n",
        "\n",
        "    for _, row in data.iterrows():\n",
        "        text = row['Text']\n",
        "        reference_summary = row['Zusammenfassung']\n",
        "\n",
        "        # Vorverarbeitung des Textes\n",
        "        preprocessed_text = preprocess_text(text)\n",
        "\n",
        "        # Generierung der Zusammenfassung\n",
        "        summary = lsa_summarizer(preprocessed_text, compression_rate=0.5)\n",
        "\n",
        "        # Berechnung des ROUGE-Scores\n",
        "        rouge = scorer.score(summary, reference_summary)\n",
        "        \n",
        "        # ROUGE-Werte hinzufügen\n",
        "        rouge_scores['rouge1'].append(rouge['rouge1'].fmeasure)\n",
        "        rouge_scores['rouge2'].append(rouge['rouge2'].fmeasure)\n",
        "        rouge_scores['rougeL'].append(rouge['rougeL'].fmeasure)\n",
        "\n",
        "    return rouge_scores\n"
      ],
      "metadata": {
        "id": "taTzacn4Lsiv"
      },
      "execution_count": 26,
      "outputs": []
    },
    {
      "cell_type": "code",
      "source": [
        "data_path = '/content/sample_data/BBC_Dataset_concatenated.csv'\n",
        "scores = evaluate_rouge_scores(data_path)\n",
        "\n",
        "# Ausgabe der ROUGE-Scores\n",
        "for metric, values in scores.items():\n",
        "    print(f\"ROUGE-{metric} Score:\")\n",
        "    print(\"Mean:\", np.mean(values))\n",
        "    print(\"Min:\", np.min(values))\n",
        "    print(\"Max:\", np.max(values))\n",
        "    print()"
      ],
      "metadata": {
        "colab": {
          "base_uri": "https://localhost:8080/"
        },
        "id": "6WQB08vCBCPX",
        "outputId": "1ac37885-530c-4a3c-d20b-f7b69a99cbd0"
      },
      "execution_count": 27,
      "outputs": [
        {
          "output_type": "stream",
          "name": "stderr",
          "text": [
            "/usr/local/lib/python3.10/dist-packages/sklearn/decomposition/_truncated_svd.py:268: RuntimeWarning: invalid value encountered in true_divide\n",
            "  self.explained_variance_ratio_ = exp_var / full_var\n"
          ]
        },
        {
          "output_type": "stream",
          "name": "stdout",
          "text": [
            "ROUGE-rouge1 Score:\n",
            "Mean: 0.3668717059858801\n",
            "Min: 0.16666666666666666\n",
            "Max: 0.7031250000000001\n",
            "\n",
            "ROUGE-rouge2 Score:\n",
            "Mean: 0.13547478812314928\n",
            "Min: 0.0\n",
            "Max: 0.5846153846153846\n",
            "\n",
            "ROUGE-rougeL Score:\n",
            "Mean: 0.22866885625422445\n",
            "Min: 0.08860759493670886\n",
            "Max: 0.5536332179930795\n",
            "\n"
          ]
        }
      ]
    }
  ]
}