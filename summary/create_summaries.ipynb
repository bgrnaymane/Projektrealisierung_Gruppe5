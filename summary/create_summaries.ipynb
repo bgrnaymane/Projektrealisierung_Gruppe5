{
  "cells": [
    {
      "cell_type": "code",
      "execution_count": 2,
      "metadata": {
        "id": "lTuxQTKmLphX"
      },
      "outputs": [
        {
          "name": "stdout",
          "output_type": "stream",
          "text": [
            "Requirement already satisfied: sumy in /Users/bnnlukas/anaconda3/lib/python3.10/site-packages (0.11.0)\n",
            "Requirement already satisfied: requests>=2.7.0 in /Users/bnnlukas/anaconda3/lib/python3.10/site-packages (from sumy) (2.28.1)\n",
            "Requirement already satisfied: nltk>=3.0.2 in /Users/bnnlukas/anaconda3/lib/python3.10/site-packages (from sumy) (3.7)\n",
            "Requirement already satisfied: breadability>=0.1.20 in /Users/bnnlukas/anaconda3/lib/python3.10/site-packages (from sumy) (0.1.20)\n",
            "Requirement already satisfied: docopt<0.7,>=0.6.1 in /Users/bnnlukas/anaconda3/lib/python3.10/site-packages (from sumy) (0.6.2)\n",
            "Requirement already satisfied: pycountry>=18.2.23 in /Users/bnnlukas/anaconda3/lib/python3.10/site-packages (from sumy) (22.3.5)\n",
            "Requirement already satisfied: chardet in /Users/bnnlukas/anaconda3/lib/python3.10/site-packages (from breadability>=0.1.20->sumy) (4.0.0)\n",
            "Requirement already satisfied: lxml>=2.0 in /Users/bnnlukas/anaconda3/lib/python3.10/site-packages (from breadability>=0.1.20->sumy) (4.9.1)\n",
            "Requirement already satisfied: tqdm in /Users/bnnlukas/anaconda3/lib/python3.10/site-packages (from nltk>=3.0.2->sumy) (4.64.1)\n",
            "Requirement already satisfied: joblib in /Users/bnnlukas/anaconda3/lib/python3.10/site-packages (from nltk>=3.0.2->sumy) (1.1.1)\n",
            "Requirement already satisfied: regex>=2021.8.3 in /Users/bnnlukas/anaconda3/lib/python3.10/site-packages (from nltk>=3.0.2->sumy) (2022.7.9)\n",
            "Requirement already satisfied: click in /Users/bnnlukas/anaconda3/lib/python3.10/site-packages (from nltk>=3.0.2->sumy) (8.0.4)\n",
            "Requirement already satisfied: setuptools in /Users/bnnlukas/anaconda3/lib/python3.10/site-packages (from pycountry>=18.2.23->sumy) (65.6.3)\n",
            "Requirement already satisfied: certifi>=2017.4.17 in /Users/bnnlukas/anaconda3/lib/python3.10/site-packages (from requests>=2.7.0->sumy) (2023.5.7)\n",
            "Requirement already satisfied: idna<4,>=2.5 in /Users/bnnlukas/anaconda3/lib/python3.10/site-packages (from requests>=2.7.0->sumy) (3.4)\n",
            "Requirement already satisfied: urllib3<1.27,>=1.21.1 in /Users/bnnlukas/anaconda3/lib/python3.10/site-packages (from requests>=2.7.0->sumy) (1.26.14)\n",
            "Requirement already satisfied: charset-normalizer<3,>=2 in /Users/bnnlukas/anaconda3/lib/python3.10/site-packages (from requests>=2.7.0->sumy) (2.0.4)\n"
          ]
        }
      ],
      "source": [
        "import pandas as pd\n",
        "!pip install sumy\n",
        "from sumy.parsers.plaintext import PlaintextParser\n",
        "from sumy.nlp.tokenizers import Tokenizer\n",
        "from sumy.summarizers.lex_rank import LexRankSummarizer\n",
        "from sumy.summarizers.lsa import LsaSummarizer\n",
        "from sumy.utils import get_stop_words\n",
        "from sumy.summarizers.text_rank import TextRankSummarizer"
      ]
    },
    {
      "cell_type": "markdown",
      "metadata": {},
      "source": [
        "source:\n",
        "- https://pypi.org/project/sumy/"
      ]
    },
    {
      "cell_type": "code",
      "execution_count": 3,
      "metadata": {
        "colab": {
          "base_uri": "https://localhost:8080/",
          "height": 206
        },
        "id": "4WoO2yIO8eva",
        "outputId": "38ac7a80-dc34-42bc-9de7-e5ee11e4d5ca"
      },
      "outputs": [
        {
          "data": {
            "text/html": [
              "<div>\n",
              "<style scoped>\n",
              "    .dataframe tbody tr th:only-of-type {\n",
              "        vertical-align: middle;\n",
              "    }\n",
              "\n",
              "    .dataframe tbody tr th {\n",
              "        vertical-align: top;\n",
              "    }\n",
              "\n",
              "    .dataframe thead th {\n",
              "        text-align: right;\n",
              "    }\n",
              "</style>\n",
              "<table border=\"1\" class=\"dataframe\">\n",
              "  <thead>\n",
              "    <tr style=\"text-align: right;\">\n",
              "      <th></th>\n",
              "      <th>Text</th>\n",
              "      <th>Class</th>\n",
              "    </tr>\n",
              "  </thead>\n",
              "  <tbody>\n",
              "    <tr>\n",
              "      <th>0</th>\n",
              "      <td>I have heard nothing from the Ambassador about...</td>\n",
              "      <td>Political speech</td>\n",
              "    </tr>\n",
              "    <tr>\n",
              "      <th>1</th>\n",
              "      <td>I think it is in the public interest to procee...</td>\n",
              "      <td>Political speech</td>\n",
              "    </tr>\n",
              "    <tr>\n",
              "      <th>2</th>\n",
              "      <td>The A-11 aircraft now at Edwards Air force Bas...</td>\n",
              "      <td>Political speech</td>\n",
              "    </tr>\n",
              "    <tr>\n",
              "      <th>3</th>\n",
              "      <td>It is one of the most comprehensive bills in t...</td>\n",
              "      <td>Political speech</td>\n",
              "    </tr>\n",
              "    <tr>\n",
              "      <th>4</th>\n",
              "      <td>So long as there remains a man without a job, ...</td>\n",
              "      <td>Political speech</td>\n",
              "    </tr>\n",
              "  </tbody>\n",
              "</table>\n",
              "</div>"
            ],
            "text/plain": [
              "                                                Text             Class\n",
              "0  I have heard nothing from the Ambassador about...  Political speech\n",
              "1  I think it is in the public interest to procee...  Political speech\n",
              "2  The A-11 aircraft now at Edwards Air force Bas...  Political speech\n",
              "3  It is one of the most comprehensive bills in t...  Political speech\n",
              "4  So long as there remains a man without a job, ...  Political speech"
            ]
          },
          "execution_count": 3,
          "metadata": {},
          "output_type": "execute_result"
        }
      ],
      "source": [
        "# Read Dataframe\n",
        "df = pd.read_csv('../data/Result/dataset.csv')\n",
        "\n",
        "# Show Dataframe\n",
        "df.head()"
      ]
    },
    {
      "cell_type": "code",
      "execution_count": 4,
      "metadata": {
        "colab": {
          "base_uri": "https://localhost:8080/"
        },
        "id": "i2oO9zv0lGqF",
        "outputId": "a9baaaaf-7ee7-46da-9bc7-357efb491471"
      },
      "outputs": [
        {
          "name": "stdout",
          "output_type": "stream",
          "text": [
            "Class\n",
            "Jurisdiction        780\n",
            "Political speech    780\n",
            "Literature          780\n",
            "Blog                780\n",
            "News                780\n",
            "Name: count, dtype: int64\n"
          ]
        }
      ],
      "source": [
        "# balancing dataset\n",
        "\n",
        "import pandas as pd\n",
        "\n",
        "# Count each categorie\n",
        "category_counts = df['Class'].value_counts()\n",
        "\n",
        "# Min number of the categories\n",
        "min_count = min(category_counts)\n",
        "\n",
        "balanced_dataset = pd.DataFrame()\n",
        "\n",
        "# Iteration over each category\n",
        "for category in category_counts.index:\n",
        "    \n",
        "    category_subset = df[df['Class'] == category].sample(n=min_count, random_state=42)\n",
        "    \n",
        "   \n",
        "    balanced_dataset =pd.concat([category_subset, balanced_dataset], ignore_index=True)\n",
        "\n",
        "\n",
        "\n",
        "# Check distribution of the categories\n",
        "balanced_category_counts = balanced_dataset['Class'].value_counts()\n",
        "print(balanced_category_counts)\n"
      ]
    },
    {
      "cell_type": "code",
      "execution_count": 5,
      "metadata": {
        "colab": {
          "base_uri": "https://localhost:8080/",
          "height": 206
        },
        "id": "5OuHN9iqLc4-",
        "outputId": "99418eb4-26d4-4fe2-85d4-cc604440353c"
      },
      "outputs": [
        {
          "data": {
            "text/html": [
              "<div>\n",
              "<style scoped>\n",
              "    .dataframe tbody tr th:only-of-type {\n",
              "        vertical-align: middle;\n",
              "    }\n",
              "\n",
              "    .dataframe tbody tr th {\n",
              "        vertical-align: top;\n",
              "    }\n",
              "\n",
              "    .dataframe thead th {\n",
              "        text-align: right;\n",
              "    }\n",
              "</style>\n",
              "<table border=\"1\" class=\"dataframe\">\n",
              "  <thead>\n",
              "    <tr style=\"text-align: right;\">\n",
              "      <th></th>\n",
              "      <th>Text</th>\n",
              "      <th>Class</th>\n",
              "    </tr>\n",
              "  </thead>\n",
              "  <tbody>\n",
              "    <tr>\n",
              "      <th>0</th>\n",
              "      <td>I have heard nothing from the Ambassador about...</td>\n",
              "      <td>Political speech</td>\n",
              "    </tr>\n",
              "    <tr>\n",
              "      <th>1</th>\n",
              "      <td>I think it is in the public interest to procee...</td>\n",
              "      <td>Political speech</td>\n",
              "    </tr>\n",
              "    <tr>\n",
              "      <th>2</th>\n",
              "      <td>The A-11 aircraft now at Edwards Air force Bas...</td>\n",
              "      <td>Political speech</td>\n",
              "    </tr>\n",
              "    <tr>\n",
              "      <th>3</th>\n",
              "      <td>It is one of the most comprehensive bills in t...</td>\n",
              "      <td>Political speech</td>\n",
              "    </tr>\n",
              "    <tr>\n",
              "      <th>4</th>\n",
              "      <td>So long as there remains a man without a job, ...</td>\n",
              "      <td>Political speech</td>\n",
              "    </tr>\n",
              "  </tbody>\n",
              "</table>\n",
              "</div>"
            ],
            "text/plain": [
              "                                                Text             Class\n",
              "0  I have heard nothing from the Ambassador about...  Political speech\n",
              "1  I think it is in the public interest to procee...  Political speech\n",
              "2  The A-11 aircraft now at Edwards Air force Bas...  Political speech\n",
              "3  It is one of the most comprehensive bills in t...  Political speech\n",
              "4  So long as there remains a man without a job, ...  Political speech"
            ]
          },
          "execution_count": 5,
          "metadata": {},
          "output_type": "execute_result"
        }
      ],
      "source": [
        "df.head()"
      ]
    },
    {
      "cell_type": "code",
      "execution_count": 6,
      "metadata": {
        "colab": {
          "base_uri": "https://localhost:8080/"
        },
        "id": "U2E85NWGMJeb",
        "outputId": "0853686c-3fff-425b-89de-e33b96ed17a2"
      },
      "outputs": [
        {
          "name": "stderr",
          "output_type": "stream",
          "text": [
            "/Library/Frameworks/Python.framework/Versions/3.10/lib/python3.10/site-packages/sumy/summarizers/lsa.py:76: UserWarning: Number of words (7) is lower than number of sentences (119). LSA algorithm may not work properly.\n",
            "  warn(message % (words_count, sentences_count))\n"
          ]
        },
        {
          "name": "stdout",
          "output_type": "stream",
          "text": [
            "The approach TextRankSummarizer was used for 33.11% of the summaries.\n",
            "The approach LsaSummarizer was used for 34.23% of the summaries.\n",
            "The approach LexRankSummarizer was used for 32.66% of the summaries.\n",
            "The compression rate 0.2 was used for 24.58% of the summaries.\n",
            "The compression rate 0.4 was used for 25.62% of the summaries.\n",
            "The compression rate 0.6 was used for 24.82% of the summaries.\n",
            "The compression rate 0.8 was used for 24.98% of the summaries.\n"
          ]
        }
      ],
      "source": [
        "import random \n",
        "\n",
        "# Initialize the summarizers\n",
        "text_rank_summarizer = TextRankSummarizer()\n",
        "lsa_summarizer = LsaSummarizer()\n",
        "lex_rank_summarizer = LexRankSummarizer()\n",
        "\n",
        "# Define the compression rates\n",
        "compression_rates = [0.2, 0.4, 0.6, 0.8]  \n",
        "\n",
        "# Initialize counter\n",
        "approach_counts = {summarizer.__class__.__name__: 0 for summarizer in [text_rank_summarizer, lsa_summarizer, lex_rank_summarizer]}\n",
        "compression_rate_counts = {rate: 0 for rate in compression_rates}\n",
        "\n",
        "# Iterate over dataframe\n",
        "for index, row in df.iterrows():\n",
        "    approach = random.choice([text_rank_summarizer, lsa_summarizer, lex_rank_summarizer])\n",
        "    compression_rate = random.choice(compression_rates)\n",
        "    \n",
        "    # Update counter\n",
        "    approach_counts[approach.__class__.__name__] += 1\n",
        "    compression_rate_counts[compression_rate] += 1\n",
        "\n",
        "    # Tokenize the text\n",
        "    tokenizer = Tokenizer(\"english\")\n",
        "    sentences = tokenizer.to_sentences(row['Text'])\n",
        "\n",
        "    # Calculate the number of sentences for the chosen compression rate\n",
        "    num_sentences = int(len(sentences) * compression_rate)\n",
        "\n",
        "    # Generate the summary\n",
        "    summarizer = approach\n",
        "    parser = PlaintextParser.from_string(row['Text'], tokenizer)\n",
        "    summary = summarizer(parser.document, num_sentences)\n",
        "\n",
        "    # Store the summary in the Summary column\n",
        "    df.loc[index, 'Summary'] = ' '.join(str(sentence) for sentence in summary)\n",
        "\n",
        "\n",
        "total_summaries = len(df)\n",
        "\n",
        "# Calculate the percentages\n",
        "approach_percentages = {approach: (count / total_summaries) * 100 for approach, count in approach_counts.items()}\n",
        "compression_rate_percentages = {rate: (count / total_summaries) * 100 for rate, count in compression_rate_counts.items()}\n",
        "\n",
        "# results\n",
        "for approach, percentage in approach_percentages.items():\n",
        "    print(f\"The approach {approach} was used for {percentage:.2f}% of the summaries.\")\n",
        "\n",
        "for rate, percentage in compression_rate_percentages.items():\n",
        "    print(f\"The compression rate {rate} was used for {percentage:.2f}% of the summaries.\")\n"
      ]
    },
    {
      "cell_type": "code",
      "execution_count": 7,
      "metadata": {
        "colab": {
          "base_uri": "https://localhost:8080/",
          "height": 206
        },
        "id": "zWa7aArGRIWT",
        "outputId": "65210f2f-b0e6-41eb-e91a-7c362f2ec7e9"
      },
      "outputs": [
        {
          "data": {
            "text/html": [
              "<div>\n",
              "<style scoped>\n",
              "    .dataframe tbody tr th:only-of-type {\n",
              "        vertical-align: middle;\n",
              "    }\n",
              "\n",
              "    .dataframe tbody tr th {\n",
              "        vertical-align: top;\n",
              "    }\n",
              "\n",
              "    .dataframe thead th {\n",
              "        text-align: right;\n",
              "    }\n",
              "</style>\n",
              "<table border=\"1\" class=\"dataframe\">\n",
              "  <thead>\n",
              "    <tr style=\"text-align: right;\">\n",
              "      <th></th>\n",
              "      <th>Text</th>\n",
              "      <th>Class</th>\n",
              "      <th>Summary</th>\n",
              "    </tr>\n",
              "  </thead>\n",
              "  <tbody>\n",
              "    <tr>\n",
              "      <th>0</th>\n",
              "      <td>I have heard nothing from the Ambassador about...</td>\n",
              "      <td>Political speech</td>\n",
              "      <td>I have heard nothing from the Ambassador about...</td>\n",
              "    </tr>\n",
              "    <tr>\n",
              "      <th>1</th>\n",
              "      <td>I think it is in the public interest to procee...</td>\n",
              "      <td>Political speech</td>\n",
              "      <td>I think it is in the public interest to procee...</td>\n",
              "    </tr>\n",
              "    <tr>\n",
              "      <th>2</th>\n",
              "      <td>The A-11 aircraft now at Edwards Air force Bas...</td>\n",
              "      <td>Political speech</td>\n",
              "      <td>for example, one of the most important technic...</td>\n",
              "    </tr>\n",
              "    <tr>\n",
              "      <th>3</th>\n",
              "      <td>It is one of the most comprehensive bills in t...</td>\n",
              "      <td>Political speech</td>\n",
              "      <td>It is one of the most comprehensive bills in t...</td>\n",
              "    </tr>\n",
              "    <tr>\n",
              "      <th>4</th>\n",
              "      <td>So long as there remains a man without a job, ...</td>\n",
              "      <td>Political speech</td>\n",
              "      <td>No American conscience can be at peace while a...</td>\n",
              "    </tr>\n",
              "  </tbody>\n",
              "</table>\n",
              "</div>"
            ],
            "text/plain": [
              "                                                Text             Class  \\\n",
              "0  I have heard nothing from the Ambassador about...  Political speech   \n",
              "1  I think it is in the public interest to procee...  Political speech   \n",
              "2  The A-11 aircraft now at Edwards Air force Bas...  Political speech   \n",
              "3  It is one of the most comprehensive bills in t...  Political speech   \n",
              "4  So long as there remains a man without a job, ...  Political speech   \n",
              "\n",
              "                                             Summary  \n",
              "0  I have heard nothing from the Ambassador about...  \n",
              "1  I think it is in the public interest to procee...  \n",
              "2  for example, one of the most important technic...  \n",
              "3  It is one of the most comprehensive bills in t...  \n",
              "4  No American conscience can be at peace while a...  "
            ]
          },
          "execution_count": 7,
          "metadata": {},
          "output_type": "execute_result"
        }
      ],
      "source": [
        "df.head()"
      ]
    },
    {
      "cell_type": "code",
      "execution_count": 9,
      "metadata": {},
      "outputs": [],
      "source": [
        "# Export the resulting dataframe to a csv-File in the 'data/Result/' folder\n",
        "df.to_csv('../data/Result/reference_summaries_dataset.csv', index=False)"
      ]
    }
  ],
  "metadata": {
    "colab": {
      "provenance": []
    },
    "kernelspec": {
      "display_name": "Python 3",
      "name": "python3"
    },
    "language_info": {
      "codemirror_mode": {
        "name": "ipython",
        "version": 3
      },
      "file_extension": ".py",
      "mimetype": "text/x-python",
      "name": "python",
      "nbconvert_exporter": "python",
      "pygments_lexer": "ipython3",
      "version": "3.10.1"
    }
  },
  "nbformat": 4,
  "nbformat_minor": 0
}
